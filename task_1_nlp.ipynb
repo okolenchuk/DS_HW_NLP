{
  "metadata": {
    "colab": {
      "provenance": [],
      "collapsed_sections": [],
      "include_colab_link": true
    },
    "kernelspec": {
      "name": "python3",
      "display_name": "Python 3",
      "language": "python"
    },
    "language_info": {
      "name": "python",
      "version": "3.7.12",
      "mimetype": "text/x-python",
      "codemirror_mode": {
        "name": "ipython",
        "version": 3
      },
      "pygments_lexer": "ipython3",
      "nbconvert_exporter": "python",
      "file_extension": ".py"
    },
    "accelerator": "GPU",
    "widgets": {
      "application/vnd.jupyter.widget-state+json": {
        "b8232a8cb2c64e999b4df4007f04770e": {
          "model_module": "@jupyter-widgets/controls",
          "model_name": "HBoxModel",
          "model_module_version": "1.5.0",
          "state": {
            "_dom_classes": [],
            "_model_module": "@jupyter-widgets/controls",
            "_model_module_version": "1.5.0",
            "_model_name": "HBoxModel",
            "_view_count": null,
            "_view_module": "@jupyter-widgets/controls",
            "_view_module_version": "1.5.0",
            "_view_name": "HBoxView",
            "box_style": "",
            "children": [
              "IPY_MODEL_a7134bb8ca804904b1a0f87fa7a4a711",
              "IPY_MODEL_39d74129ff4f4dae9fdd9d3dd5b559a2",
              "IPY_MODEL_0e6654b3f1534947aa9bc45c4a44d984"
            ],
            "layout": "IPY_MODEL_4920c2e68da1429ba967dc5f84dc7fec"
          }
        },
        "a7134bb8ca804904b1a0f87fa7a4a711": {
          "model_module": "@jupyter-widgets/controls",
          "model_name": "HTMLModel",
          "model_module_version": "1.5.0",
          "state": {
            "_dom_classes": [],
            "_model_module": "@jupyter-widgets/controls",
            "_model_module_version": "1.5.0",
            "_model_name": "HTMLModel",
            "_view_count": null,
            "_view_module": "@jupyter-widgets/controls",
            "_view_module_version": "1.5.0",
            "_view_name": "HTMLView",
            "description": "",
            "description_tooltip": null,
            "layout": "IPY_MODEL_f76a2425dd28410eafe4c8f8e9e92495",
            "placeholder": "​",
            "style": "IPY_MODEL_870e2df5e69849a1a84bbbb8f7ffaf37",
            "value": "Downloading: 100%"
          }
        },
        "39d74129ff4f4dae9fdd9d3dd5b559a2": {
          "model_module": "@jupyter-widgets/controls",
          "model_name": "FloatProgressModel",
          "model_module_version": "1.5.0",
          "state": {
            "_dom_classes": [],
            "_model_module": "@jupyter-widgets/controls",
            "_model_module_version": "1.5.0",
            "_model_name": "FloatProgressModel",
            "_view_count": null,
            "_view_module": "@jupyter-widgets/controls",
            "_view_module_version": "1.5.0",
            "_view_name": "ProgressView",
            "bar_style": "success",
            "description": "",
            "description_tooltip": null,
            "layout": "IPY_MODEL_cad1690c7f15408cbc0124309a97041d",
            "max": 483,
            "min": 0,
            "orientation": "horizontal",
            "style": "IPY_MODEL_9527136275454e9fabbc6fd834bdbed6",
            "value": 483
          }
        },
        "0e6654b3f1534947aa9bc45c4a44d984": {
          "model_module": "@jupyter-widgets/controls",
          "model_name": "HTMLModel",
          "model_module_version": "1.5.0",
          "state": {
            "_dom_classes": [],
            "_model_module": "@jupyter-widgets/controls",
            "_model_module_version": "1.5.0",
            "_model_name": "HTMLModel",
            "_view_count": null,
            "_view_module": "@jupyter-widgets/controls",
            "_view_module_version": "1.5.0",
            "_view_name": "HTMLView",
            "description": "",
            "description_tooltip": null,
            "layout": "IPY_MODEL_138b51dd2dfb4ffb98b43cf995a523b0",
            "placeholder": "​",
            "style": "IPY_MODEL_290bdaddf42a4c81be2817b742d3331f",
            "value": " 483/483 [00:00&lt;00:00, 15.9kB/s]"
          }
        },
        "4920c2e68da1429ba967dc5f84dc7fec": {
          "model_module": "@jupyter-widgets/base",
          "model_name": "LayoutModel",
          "model_module_version": "1.2.0",
          "state": {
            "_model_module": "@jupyter-widgets/base",
            "_model_module_version": "1.2.0",
            "_model_name": "LayoutModel",
            "_view_count": null,
            "_view_module": "@jupyter-widgets/base",
            "_view_module_version": "1.2.0",
            "_view_name": "LayoutView",
            "align_content": null,
            "align_items": null,
            "align_self": null,
            "border": null,
            "bottom": null,
            "display": null,
            "flex": null,
            "flex_flow": null,
            "grid_area": null,
            "grid_auto_columns": null,
            "grid_auto_flow": null,
            "grid_auto_rows": null,
            "grid_column": null,
            "grid_gap": null,
            "grid_row": null,
            "grid_template_areas": null,
            "grid_template_columns": null,
            "grid_template_rows": null,
            "height": null,
            "justify_content": null,
            "justify_items": null,
            "left": null,
            "margin": null,
            "max_height": null,
            "max_width": null,
            "min_height": null,
            "min_width": null,
            "object_fit": null,
            "object_position": null,
            "order": null,
            "overflow": null,
            "overflow_x": null,
            "overflow_y": null,
            "padding": null,
            "right": null,
            "top": null,
            "visibility": null,
            "width": null
          }
        },
        "f76a2425dd28410eafe4c8f8e9e92495": {
          "model_module": "@jupyter-widgets/base",
          "model_name": "LayoutModel",
          "model_module_version": "1.2.0",
          "state": {
            "_model_module": "@jupyter-widgets/base",
            "_model_module_version": "1.2.0",
            "_model_name": "LayoutModel",
            "_view_count": null,
            "_view_module": "@jupyter-widgets/base",
            "_view_module_version": "1.2.0",
            "_view_name": "LayoutView",
            "align_content": null,
            "align_items": null,
            "align_self": null,
            "border": null,
            "bottom": null,
            "display": null,
            "flex": null,
            "flex_flow": null,
            "grid_area": null,
            "grid_auto_columns": null,
            "grid_auto_flow": null,
            "grid_auto_rows": null,
            "grid_column": null,
            "grid_gap": null,
            "grid_row": null,
            "grid_template_areas": null,
            "grid_template_columns": null,
            "grid_template_rows": null,
            "height": null,
            "justify_content": null,
            "justify_items": null,
            "left": null,
            "margin": null,
            "max_height": null,
            "max_width": null,
            "min_height": null,
            "min_width": null,
            "object_fit": null,
            "object_position": null,
            "order": null,
            "overflow": null,
            "overflow_x": null,
            "overflow_y": null,
            "padding": null,
            "right": null,
            "top": null,
            "visibility": null,
            "width": null
          }
        },
        "870e2df5e69849a1a84bbbb8f7ffaf37": {
          "model_module": "@jupyter-widgets/controls",
          "model_name": "DescriptionStyleModel",
          "model_module_version": "1.5.0",
          "state": {
            "_model_module": "@jupyter-widgets/controls",
            "_model_module_version": "1.5.0",
            "_model_name": "DescriptionStyleModel",
            "_view_count": null,
            "_view_module": "@jupyter-widgets/base",
            "_view_module_version": "1.2.0",
            "_view_name": "StyleView",
            "description_width": ""
          }
        },
        "cad1690c7f15408cbc0124309a97041d": {
          "model_module": "@jupyter-widgets/base",
          "model_name": "LayoutModel",
          "model_module_version": "1.2.0",
          "state": {
            "_model_module": "@jupyter-widgets/base",
            "_model_module_version": "1.2.0",
            "_model_name": "LayoutModel",
            "_view_count": null,
            "_view_module": "@jupyter-widgets/base",
            "_view_module_version": "1.2.0",
            "_view_name": "LayoutView",
            "align_content": null,
            "align_items": null,
            "align_self": null,
            "border": null,
            "bottom": null,
            "display": null,
            "flex": null,
            "flex_flow": null,
            "grid_area": null,
            "grid_auto_columns": null,
            "grid_auto_flow": null,
            "grid_auto_rows": null,
            "grid_column": null,
            "grid_gap": null,
            "grid_row": null,
            "grid_template_areas": null,
            "grid_template_columns": null,
            "grid_template_rows": null,
            "height": null,
            "justify_content": null,
            "justify_items": null,
            "left": null,
            "margin": null,
            "max_height": null,
            "max_width": null,
            "min_height": null,
            "min_width": null,
            "object_fit": null,
            "object_position": null,
            "order": null,
            "overflow": null,
            "overflow_x": null,
            "overflow_y": null,
            "padding": null,
            "right": null,
            "top": null,
            "visibility": null,
            "width": null
          }
        },
        "9527136275454e9fabbc6fd834bdbed6": {
          "model_module": "@jupyter-widgets/controls",
          "model_name": "ProgressStyleModel",
          "model_module_version": "1.5.0",
          "state": {
            "_model_module": "@jupyter-widgets/controls",
            "_model_module_version": "1.5.0",
            "_model_name": "ProgressStyleModel",
            "_view_count": null,
            "_view_module": "@jupyter-widgets/base",
            "_view_module_version": "1.2.0",
            "_view_name": "StyleView",
            "bar_color": null,
            "description_width": ""
          }
        },
        "138b51dd2dfb4ffb98b43cf995a523b0": {
          "model_module": "@jupyter-widgets/base",
          "model_name": "LayoutModel",
          "model_module_version": "1.2.0",
          "state": {
            "_model_module": "@jupyter-widgets/base",
            "_model_module_version": "1.2.0",
            "_model_name": "LayoutModel",
            "_view_count": null,
            "_view_module": "@jupyter-widgets/base",
            "_view_module_version": "1.2.0",
            "_view_name": "LayoutView",
            "align_content": null,
            "align_items": null,
            "align_self": null,
            "border": null,
            "bottom": null,
            "display": null,
            "flex": null,
            "flex_flow": null,
            "grid_area": null,
            "grid_auto_columns": null,
            "grid_auto_flow": null,
            "grid_auto_rows": null,
            "grid_column": null,
            "grid_gap": null,
            "grid_row": null,
            "grid_template_areas": null,
            "grid_template_columns": null,
            "grid_template_rows": null,
            "height": null,
            "justify_content": null,
            "justify_items": null,
            "left": null,
            "margin": null,
            "max_height": null,
            "max_width": null,
            "min_height": null,
            "min_width": null,
            "object_fit": null,
            "object_position": null,
            "order": null,
            "overflow": null,
            "overflow_x": null,
            "overflow_y": null,
            "padding": null,
            "right": null,
            "top": null,
            "visibility": null,
            "width": null
          }
        },
        "290bdaddf42a4c81be2817b742d3331f": {
          "model_module": "@jupyter-widgets/controls",
          "model_name": "DescriptionStyleModel",
          "model_module_version": "1.5.0",
          "state": {
            "_model_module": "@jupyter-widgets/controls",
            "_model_module_version": "1.5.0",
            "_model_name": "DescriptionStyleModel",
            "_view_count": null,
            "_view_module": "@jupyter-widgets/base",
            "_view_module_version": "1.2.0",
            "_view_name": "StyleView",
            "description_width": ""
          }
        },
        "8c2f7224a89e419cb54a059a70c0eb2b": {
          "model_module": "@jupyter-widgets/controls",
          "model_name": "HBoxModel",
          "model_module_version": "1.5.0",
          "state": {
            "_dom_classes": [],
            "_model_module": "@jupyter-widgets/controls",
            "_model_module_version": "1.5.0",
            "_model_name": "HBoxModel",
            "_view_count": null,
            "_view_module": "@jupyter-widgets/controls",
            "_view_module_version": "1.5.0",
            "_view_name": "HBoxView",
            "box_style": "",
            "children": [
              "IPY_MODEL_f95416e03d624d20a02e215d987ffb14",
              "IPY_MODEL_4504b4c7ef7f468db628dddf51e00819",
              "IPY_MODEL_978257ff66044e048a2891d932d6bc8a"
            ],
            "layout": "IPY_MODEL_5c77401f12d54ecb9f6960436e241a7a"
          }
        },
        "f95416e03d624d20a02e215d987ffb14": {
          "model_module": "@jupyter-widgets/controls",
          "model_name": "HTMLModel",
          "model_module_version": "1.5.0",
          "state": {
            "_dom_classes": [],
            "_model_module": "@jupyter-widgets/controls",
            "_model_module_version": "1.5.0",
            "_model_name": "HTMLModel",
            "_view_count": null,
            "_view_module": "@jupyter-widgets/controls",
            "_view_module_version": "1.5.0",
            "_view_name": "HTMLView",
            "description": "",
            "description_tooltip": null,
            "layout": "IPY_MODEL_2aab7cebb55045c38df81df28dec576c",
            "placeholder": "​",
            "style": "IPY_MODEL_1948dad7b01b42f69905299c19bde187",
            "value": "Downloading: 100%"
          }
        },
        "4504b4c7ef7f468db628dddf51e00819": {
          "model_module": "@jupyter-widgets/controls",
          "model_name": "FloatProgressModel",
          "model_module_version": "1.5.0",
          "state": {
            "_dom_classes": [],
            "_model_module": "@jupyter-widgets/controls",
            "_model_module_version": "1.5.0",
            "_model_name": "FloatProgressModel",
            "_view_count": null,
            "_view_module": "@jupyter-widgets/controls",
            "_view_module_version": "1.5.0",
            "_view_name": "ProgressView",
            "bar_style": "success",
            "description": "",
            "description_tooltip": null,
            "layout": "IPY_MODEL_4b0dabe34cb247deaef67db1788a579e",
            "max": 267967963,
            "min": 0,
            "orientation": "horizontal",
            "style": "IPY_MODEL_20e5c2c1887844c383870f051fe3233c",
            "value": 267967963
          }
        },
        "978257ff66044e048a2891d932d6bc8a": {
          "model_module": "@jupyter-widgets/controls",
          "model_name": "HTMLModel",
          "model_module_version": "1.5.0",
          "state": {
            "_dom_classes": [],
            "_model_module": "@jupyter-widgets/controls",
            "_model_module_version": "1.5.0",
            "_model_name": "HTMLModel",
            "_view_count": null,
            "_view_module": "@jupyter-widgets/controls",
            "_view_module_version": "1.5.0",
            "_view_name": "HTMLView",
            "description": "",
            "description_tooltip": null,
            "layout": "IPY_MODEL_e4b99e5627e54684ab865c6a695f8d1e",
            "placeholder": "​",
            "style": "IPY_MODEL_b33597c53a66424bb63cfa2ca9fe773a",
            "value": " 268M/268M [00:05&lt;00:00, 25.8MB/s]"
          }
        },
        "5c77401f12d54ecb9f6960436e241a7a": {
          "model_module": "@jupyter-widgets/base",
          "model_name": "LayoutModel",
          "model_module_version": "1.2.0",
          "state": {
            "_model_module": "@jupyter-widgets/base",
            "_model_module_version": "1.2.0",
            "_model_name": "LayoutModel",
            "_view_count": null,
            "_view_module": "@jupyter-widgets/base",
            "_view_module_version": "1.2.0",
            "_view_name": "LayoutView",
            "align_content": null,
            "align_items": null,
            "align_self": null,
            "border": null,
            "bottom": null,
            "display": null,
            "flex": null,
            "flex_flow": null,
            "grid_area": null,
            "grid_auto_columns": null,
            "grid_auto_flow": null,
            "grid_auto_rows": null,
            "grid_column": null,
            "grid_gap": null,
            "grid_row": null,
            "grid_template_areas": null,
            "grid_template_columns": null,
            "grid_template_rows": null,
            "height": null,
            "justify_content": null,
            "justify_items": null,
            "left": null,
            "margin": null,
            "max_height": null,
            "max_width": null,
            "min_height": null,
            "min_width": null,
            "object_fit": null,
            "object_position": null,
            "order": null,
            "overflow": null,
            "overflow_x": null,
            "overflow_y": null,
            "padding": null,
            "right": null,
            "top": null,
            "visibility": null,
            "width": null
          }
        },
        "2aab7cebb55045c38df81df28dec576c": {
          "model_module": "@jupyter-widgets/base",
          "model_name": "LayoutModel",
          "model_module_version": "1.2.0",
          "state": {
            "_model_module": "@jupyter-widgets/base",
            "_model_module_version": "1.2.0",
            "_model_name": "LayoutModel",
            "_view_count": null,
            "_view_module": "@jupyter-widgets/base",
            "_view_module_version": "1.2.0",
            "_view_name": "LayoutView",
            "align_content": null,
            "align_items": null,
            "align_self": null,
            "border": null,
            "bottom": null,
            "display": null,
            "flex": null,
            "flex_flow": null,
            "grid_area": null,
            "grid_auto_columns": null,
            "grid_auto_flow": null,
            "grid_auto_rows": null,
            "grid_column": null,
            "grid_gap": null,
            "grid_row": null,
            "grid_template_areas": null,
            "grid_template_columns": null,
            "grid_template_rows": null,
            "height": null,
            "justify_content": null,
            "justify_items": null,
            "left": null,
            "margin": null,
            "max_height": null,
            "max_width": null,
            "min_height": null,
            "min_width": null,
            "object_fit": null,
            "object_position": null,
            "order": null,
            "overflow": null,
            "overflow_x": null,
            "overflow_y": null,
            "padding": null,
            "right": null,
            "top": null,
            "visibility": null,
            "width": null
          }
        },
        "1948dad7b01b42f69905299c19bde187": {
          "model_module": "@jupyter-widgets/controls",
          "model_name": "DescriptionStyleModel",
          "model_module_version": "1.5.0",
          "state": {
            "_model_module": "@jupyter-widgets/controls",
            "_model_module_version": "1.5.0",
            "_model_name": "DescriptionStyleModel",
            "_view_count": null,
            "_view_module": "@jupyter-widgets/base",
            "_view_module_version": "1.2.0",
            "_view_name": "StyleView",
            "description_width": ""
          }
        },
        "4b0dabe34cb247deaef67db1788a579e": {
          "model_module": "@jupyter-widgets/base",
          "model_name": "LayoutModel",
          "model_module_version": "1.2.0",
          "state": {
            "_model_module": "@jupyter-widgets/base",
            "_model_module_version": "1.2.0",
            "_model_name": "LayoutModel",
            "_view_count": null,
            "_view_module": "@jupyter-widgets/base",
            "_view_module_version": "1.2.0",
            "_view_name": "LayoutView",
            "align_content": null,
            "align_items": null,
            "align_self": null,
            "border": null,
            "bottom": null,
            "display": null,
            "flex": null,
            "flex_flow": null,
            "grid_area": null,
            "grid_auto_columns": null,
            "grid_auto_flow": null,
            "grid_auto_rows": null,
            "grid_column": null,
            "grid_gap": null,
            "grid_row": null,
            "grid_template_areas": null,
            "grid_template_columns": null,
            "grid_template_rows": null,
            "height": null,
            "justify_content": null,
            "justify_items": null,
            "left": null,
            "margin": null,
            "max_height": null,
            "max_width": null,
            "min_height": null,
            "min_width": null,
            "object_fit": null,
            "object_position": null,
            "order": null,
            "overflow": null,
            "overflow_x": null,
            "overflow_y": null,
            "padding": null,
            "right": null,
            "top": null,
            "visibility": null,
            "width": null
          }
        },
        "20e5c2c1887844c383870f051fe3233c": {
          "model_module": "@jupyter-widgets/controls",
          "model_name": "ProgressStyleModel",
          "model_module_version": "1.5.0",
          "state": {
            "_model_module": "@jupyter-widgets/controls",
            "_model_module_version": "1.5.0",
            "_model_name": "ProgressStyleModel",
            "_view_count": null,
            "_view_module": "@jupyter-widgets/base",
            "_view_module_version": "1.2.0",
            "_view_name": "StyleView",
            "bar_color": null,
            "description_width": ""
          }
        },
        "e4b99e5627e54684ab865c6a695f8d1e": {
          "model_module": "@jupyter-widgets/base",
          "model_name": "LayoutModel",
          "model_module_version": "1.2.0",
          "state": {
            "_model_module": "@jupyter-widgets/base",
            "_model_module_version": "1.2.0",
            "_model_name": "LayoutModel",
            "_view_count": null,
            "_view_module": "@jupyter-widgets/base",
            "_view_module_version": "1.2.0",
            "_view_name": "LayoutView",
            "align_content": null,
            "align_items": null,
            "align_self": null,
            "border": null,
            "bottom": null,
            "display": null,
            "flex": null,
            "flex_flow": null,
            "grid_area": null,
            "grid_auto_columns": null,
            "grid_auto_flow": null,
            "grid_auto_rows": null,
            "grid_column": null,
            "grid_gap": null,
            "grid_row": null,
            "grid_template_areas": null,
            "grid_template_columns": null,
            "grid_template_rows": null,
            "height": null,
            "justify_content": null,
            "justify_items": null,
            "left": null,
            "margin": null,
            "max_height": null,
            "max_width": null,
            "min_height": null,
            "min_width": null,
            "object_fit": null,
            "object_position": null,
            "order": null,
            "overflow": null,
            "overflow_x": null,
            "overflow_y": null,
            "padding": null,
            "right": null,
            "top": null,
            "visibility": null,
            "width": null
          }
        },
        "b33597c53a66424bb63cfa2ca9fe773a": {
          "model_module": "@jupyter-widgets/controls",
          "model_name": "DescriptionStyleModel",
          "model_module_version": "1.5.0",
          "state": {
            "_model_module": "@jupyter-widgets/controls",
            "_model_module_version": "1.5.0",
            "_model_name": "DescriptionStyleModel",
            "_view_count": null,
            "_view_module": "@jupyter-widgets/base",
            "_view_module_version": "1.2.0",
            "_view_name": "StyleView",
            "description_width": ""
          }
        },
        "5f83e4cf8a09410d9b99097d102dfb16": {
          "model_module": "@jupyter-widgets/controls",
          "model_name": "HBoxModel",
          "model_module_version": "1.5.0",
          "state": {
            "_dom_classes": [],
            "_model_module": "@jupyter-widgets/controls",
            "_model_module_version": "1.5.0",
            "_model_name": "HBoxModel",
            "_view_count": null,
            "_view_module": "@jupyter-widgets/controls",
            "_view_module_version": "1.5.0",
            "_view_name": "HBoxView",
            "box_style": "",
            "children": [
              "IPY_MODEL_43c28302b176468fa808be7f0e87d5c6",
              "IPY_MODEL_49dfcf00f552442faed8a52dccdea5b7",
              "IPY_MODEL_3386b027578849c68f4cb34b47f3ad79"
            ],
            "layout": "IPY_MODEL_039d72102d19436bae0d4c368d8d41ac"
          }
        },
        "43c28302b176468fa808be7f0e87d5c6": {
          "model_module": "@jupyter-widgets/controls",
          "model_name": "HTMLModel",
          "model_module_version": "1.5.0",
          "state": {
            "_dom_classes": [],
            "_model_module": "@jupyter-widgets/controls",
            "_model_module_version": "1.5.0",
            "_model_name": "HTMLModel",
            "_view_count": null,
            "_view_module": "@jupyter-widgets/controls",
            "_view_module_version": "1.5.0",
            "_view_name": "HTMLView",
            "description": "",
            "description_tooltip": null,
            "layout": "IPY_MODEL_38a5dffe42ba4130a0700f3e4e5fabe0",
            "placeholder": "​",
            "style": "IPY_MODEL_28bfa9b381b244d8a9844cc17fc81706",
            "value": "Downloading: 100%"
          }
        },
        "49dfcf00f552442faed8a52dccdea5b7": {
          "model_module": "@jupyter-widgets/controls",
          "model_name": "FloatProgressModel",
          "model_module_version": "1.5.0",
          "state": {
            "_dom_classes": [],
            "_model_module": "@jupyter-widgets/controls",
            "_model_module_version": "1.5.0",
            "_model_name": "FloatProgressModel",
            "_view_count": null,
            "_view_module": "@jupyter-widgets/controls",
            "_view_module_version": "1.5.0",
            "_view_name": "ProgressView",
            "bar_style": "success",
            "description": "",
            "description_tooltip": null,
            "layout": "IPY_MODEL_ef1ac31a67164f2b969581c3efe27c51",
            "max": 231508,
            "min": 0,
            "orientation": "horizontal",
            "style": "IPY_MODEL_56310b92a6c64b05981b385f907f90c6",
            "value": 231508
          }
        },
        "3386b027578849c68f4cb34b47f3ad79": {
          "model_module": "@jupyter-widgets/controls",
          "model_name": "HTMLModel",
          "model_module_version": "1.5.0",
          "state": {
            "_dom_classes": [],
            "_model_module": "@jupyter-widgets/controls",
            "_model_module_version": "1.5.0",
            "_model_name": "HTMLModel",
            "_view_count": null,
            "_view_module": "@jupyter-widgets/controls",
            "_view_module_version": "1.5.0",
            "_view_name": "HTMLView",
            "description": "",
            "description_tooltip": null,
            "layout": "IPY_MODEL_124089d035ca433bb2d7c2114defd6b6",
            "placeholder": "​",
            "style": "IPY_MODEL_7d8f4490ce3c46588b68e151338f8c31",
            "value": " 232k/232k [00:00&lt;00:00, 187kB/s]"
          }
        },
        "039d72102d19436bae0d4c368d8d41ac": {
          "model_module": "@jupyter-widgets/base",
          "model_name": "LayoutModel",
          "model_module_version": "1.2.0",
          "state": {
            "_model_module": "@jupyter-widgets/base",
            "_model_module_version": "1.2.0",
            "_model_name": "LayoutModel",
            "_view_count": null,
            "_view_module": "@jupyter-widgets/base",
            "_view_module_version": "1.2.0",
            "_view_name": "LayoutView",
            "align_content": null,
            "align_items": null,
            "align_self": null,
            "border": null,
            "bottom": null,
            "display": null,
            "flex": null,
            "flex_flow": null,
            "grid_area": null,
            "grid_auto_columns": null,
            "grid_auto_flow": null,
            "grid_auto_rows": null,
            "grid_column": null,
            "grid_gap": null,
            "grid_row": null,
            "grid_template_areas": null,
            "grid_template_columns": null,
            "grid_template_rows": null,
            "height": null,
            "justify_content": null,
            "justify_items": null,
            "left": null,
            "margin": null,
            "max_height": null,
            "max_width": null,
            "min_height": null,
            "min_width": null,
            "object_fit": null,
            "object_position": null,
            "order": null,
            "overflow": null,
            "overflow_x": null,
            "overflow_y": null,
            "padding": null,
            "right": null,
            "top": null,
            "visibility": null,
            "width": null
          }
        },
        "38a5dffe42ba4130a0700f3e4e5fabe0": {
          "model_module": "@jupyter-widgets/base",
          "model_name": "LayoutModel",
          "model_module_version": "1.2.0",
          "state": {
            "_model_module": "@jupyter-widgets/base",
            "_model_module_version": "1.2.0",
            "_model_name": "LayoutModel",
            "_view_count": null,
            "_view_module": "@jupyter-widgets/base",
            "_view_module_version": "1.2.0",
            "_view_name": "LayoutView",
            "align_content": null,
            "align_items": null,
            "align_self": null,
            "border": null,
            "bottom": null,
            "display": null,
            "flex": null,
            "flex_flow": null,
            "grid_area": null,
            "grid_auto_columns": null,
            "grid_auto_flow": null,
            "grid_auto_rows": null,
            "grid_column": null,
            "grid_gap": null,
            "grid_row": null,
            "grid_template_areas": null,
            "grid_template_columns": null,
            "grid_template_rows": null,
            "height": null,
            "justify_content": null,
            "justify_items": null,
            "left": null,
            "margin": null,
            "max_height": null,
            "max_width": null,
            "min_height": null,
            "min_width": null,
            "object_fit": null,
            "object_position": null,
            "order": null,
            "overflow": null,
            "overflow_x": null,
            "overflow_y": null,
            "padding": null,
            "right": null,
            "top": null,
            "visibility": null,
            "width": null
          }
        },
        "28bfa9b381b244d8a9844cc17fc81706": {
          "model_module": "@jupyter-widgets/controls",
          "model_name": "DescriptionStyleModel",
          "model_module_version": "1.5.0",
          "state": {
            "_model_module": "@jupyter-widgets/controls",
            "_model_module_version": "1.5.0",
            "_model_name": "DescriptionStyleModel",
            "_view_count": null,
            "_view_module": "@jupyter-widgets/base",
            "_view_module_version": "1.2.0",
            "_view_name": "StyleView",
            "description_width": ""
          }
        },
        "ef1ac31a67164f2b969581c3efe27c51": {
          "model_module": "@jupyter-widgets/base",
          "model_name": "LayoutModel",
          "model_module_version": "1.2.0",
          "state": {
            "_model_module": "@jupyter-widgets/base",
            "_model_module_version": "1.2.0",
            "_model_name": "LayoutModel",
            "_view_count": null,
            "_view_module": "@jupyter-widgets/base",
            "_view_module_version": "1.2.0",
            "_view_name": "LayoutView",
            "align_content": null,
            "align_items": null,
            "align_self": null,
            "border": null,
            "bottom": null,
            "display": null,
            "flex": null,
            "flex_flow": null,
            "grid_area": null,
            "grid_auto_columns": null,
            "grid_auto_flow": null,
            "grid_auto_rows": null,
            "grid_column": null,
            "grid_gap": null,
            "grid_row": null,
            "grid_template_areas": null,
            "grid_template_columns": null,
            "grid_template_rows": null,
            "height": null,
            "justify_content": null,
            "justify_items": null,
            "left": null,
            "margin": null,
            "max_height": null,
            "max_width": null,
            "min_height": null,
            "min_width": null,
            "object_fit": null,
            "object_position": null,
            "order": null,
            "overflow": null,
            "overflow_x": null,
            "overflow_y": null,
            "padding": null,
            "right": null,
            "top": null,
            "visibility": null,
            "width": null
          }
        },
        "56310b92a6c64b05981b385f907f90c6": {
          "model_module": "@jupyter-widgets/controls",
          "model_name": "ProgressStyleModel",
          "model_module_version": "1.5.0",
          "state": {
            "_model_module": "@jupyter-widgets/controls",
            "_model_module_version": "1.5.0",
            "_model_name": "ProgressStyleModel",
            "_view_count": null,
            "_view_module": "@jupyter-widgets/base",
            "_view_module_version": "1.2.0",
            "_view_name": "StyleView",
            "bar_color": null,
            "description_width": ""
          }
        },
        "124089d035ca433bb2d7c2114defd6b6": {
          "model_module": "@jupyter-widgets/base",
          "model_name": "LayoutModel",
          "model_module_version": "1.2.0",
          "state": {
            "_model_module": "@jupyter-widgets/base",
            "_model_module_version": "1.2.0",
            "_model_name": "LayoutModel",
            "_view_count": null,
            "_view_module": "@jupyter-widgets/base",
            "_view_module_version": "1.2.0",
            "_view_name": "LayoutView",
            "align_content": null,
            "align_items": null,
            "align_self": null,
            "border": null,
            "bottom": null,
            "display": null,
            "flex": null,
            "flex_flow": null,
            "grid_area": null,
            "grid_auto_columns": null,
            "grid_auto_flow": null,
            "grid_auto_rows": null,
            "grid_column": null,
            "grid_gap": null,
            "grid_row": null,
            "grid_template_areas": null,
            "grid_template_columns": null,
            "grid_template_rows": null,
            "height": null,
            "justify_content": null,
            "justify_items": null,
            "left": null,
            "margin": null,
            "max_height": null,
            "max_width": null,
            "min_height": null,
            "min_width": null,
            "object_fit": null,
            "object_position": null,
            "order": null,
            "overflow": null,
            "overflow_x": null,
            "overflow_y": null,
            "padding": null,
            "right": null,
            "top": null,
            "visibility": null,
            "width": null
          }
        },
        "7d8f4490ce3c46588b68e151338f8c31": {
          "model_module": "@jupyter-widgets/controls",
          "model_name": "DescriptionStyleModel",
          "model_module_version": "1.5.0",
          "state": {
            "_model_module": "@jupyter-widgets/controls",
            "_model_module_version": "1.5.0",
            "_model_name": "DescriptionStyleModel",
            "_view_count": null,
            "_view_module": "@jupyter-widgets/base",
            "_view_module_version": "1.2.0",
            "_view_name": "StyleView",
            "description_width": ""
          }
        },
        "a721bda1ce734bbf91b593605384d574": {
          "model_module": "@jupyter-widgets/controls",
          "model_name": "HBoxModel",
          "model_module_version": "1.5.0",
          "state": {
            "_dom_classes": [],
            "_model_module": "@jupyter-widgets/controls",
            "_model_module_version": "1.5.0",
            "_model_name": "HBoxModel",
            "_view_count": null,
            "_view_module": "@jupyter-widgets/controls",
            "_view_module_version": "1.5.0",
            "_view_name": "HBoxView",
            "box_style": "",
            "children": [
              "IPY_MODEL_4c6138ff0d764e31af68d3835bd5ab46",
              "IPY_MODEL_cab4b34864b845d09924b52e92ed2099",
              "IPY_MODEL_45ca45c1256043098da4e89d106eab01"
            ],
            "layout": "IPY_MODEL_b3f1ecb22a544627ac0ce85565d05f77"
          }
        },
        "4c6138ff0d764e31af68d3835bd5ab46": {
          "model_module": "@jupyter-widgets/controls",
          "model_name": "HTMLModel",
          "model_module_version": "1.5.0",
          "state": {
            "_dom_classes": [],
            "_model_module": "@jupyter-widgets/controls",
            "_model_module_version": "1.5.0",
            "_model_name": "HTMLModel",
            "_view_count": null,
            "_view_module": "@jupyter-widgets/controls",
            "_view_module_version": "1.5.0",
            "_view_name": "HTMLView",
            "description": "",
            "description_tooltip": null,
            "layout": "IPY_MODEL_c0ddf668f5f74cfe93b914b384688177",
            "placeholder": "​",
            "style": "IPY_MODEL_f099ac465a1d4f1889f0a08468de9688",
            "value": "Downloading: 100%"
          }
        },
        "cab4b34864b845d09924b52e92ed2099": {
          "model_module": "@jupyter-widgets/controls",
          "model_name": "FloatProgressModel",
          "model_module_version": "1.5.0",
          "state": {
            "_dom_classes": [],
            "_model_module": "@jupyter-widgets/controls",
            "_model_module_version": "1.5.0",
            "_model_name": "FloatProgressModel",
            "_view_count": null,
            "_view_module": "@jupyter-widgets/controls",
            "_view_module_version": "1.5.0",
            "_view_name": "ProgressView",
            "bar_style": "success",
            "description": "",
            "description_tooltip": null,
            "layout": "IPY_MODEL_81991abcf10241108d4d1fddb47c74e3",
            "max": 28,
            "min": 0,
            "orientation": "horizontal",
            "style": "IPY_MODEL_7d9214be31e143d993bf313275e6028a",
            "value": 28
          }
        },
        "45ca45c1256043098da4e89d106eab01": {
          "model_module": "@jupyter-widgets/controls",
          "model_name": "HTMLModel",
          "model_module_version": "1.5.0",
          "state": {
            "_dom_classes": [],
            "_model_module": "@jupyter-widgets/controls",
            "_model_module_version": "1.5.0",
            "_model_name": "HTMLModel",
            "_view_count": null,
            "_view_module": "@jupyter-widgets/controls",
            "_view_module_version": "1.5.0",
            "_view_name": "HTMLView",
            "description": "",
            "description_tooltip": null,
            "layout": "IPY_MODEL_1f56ce096a3c46338c8ec5d7174c1549",
            "placeholder": "​",
            "style": "IPY_MODEL_5b0499fd000b46b39461f071e06f0157",
            "value": " 28.0/28.0 [00:00&lt;00:00, 287B/s]"
          }
        },
        "b3f1ecb22a544627ac0ce85565d05f77": {
          "model_module": "@jupyter-widgets/base",
          "model_name": "LayoutModel",
          "model_module_version": "1.2.0",
          "state": {
            "_model_module": "@jupyter-widgets/base",
            "_model_module_version": "1.2.0",
            "_model_name": "LayoutModel",
            "_view_count": null,
            "_view_module": "@jupyter-widgets/base",
            "_view_module_version": "1.2.0",
            "_view_name": "LayoutView",
            "align_content": null,
            "align_items": null,
            "align_self": null,
            "border": null,
            "bottom": null,
            "display": null,
            "flex": null,
            "flex_flow": null,
            "grid_area": null,
            "grid_auto_columns": null,
            "grid_auto_flow": null,
            "grid_auto_rows": null,
            "grid_column": null,
            "grid_gap": null,
            "grid_row": null,
            "grid_template_areas": null,
            "grid_template_columns": null,
            "grid_template_rows": null,
            "height": null,
            "justify_content": null,
            "justify_items": null,
            "left": null,
            "margin": null,
            "max_height": null,
            "max_width": null,
            "min_height": null,
            "min_width": null,
            "object_fit": null,
            "object_position": null,
            "order": null,
            "overflow": null,
            "overflow_x": null,
            "overflow_y": null,
            "padding": null,
            "right": null,
            "top": null,
            "visibility": null,
            "width": null
          }
        },
        "c0ddf668f5f74cfe93b914b384688177": {
          "model_module": "@jupyter-widgets/base",
          "model_name": "LayoutModel",
          "model_module_version": "1.2.0",
          "state": {
            "_model_module": "@jupyter-widgets/base",
            "_model_module_version": "1.2.0",
            "_model_name": "LayoutModel",
            "_view_count": null,
            "_view_module": "@jupyter-widgets/base",
            "_view_module_version": "1.2.0",
            "_view_name": "LayoutView",
            "align_content": null,
            "align_items": null,
            "align_self": null,
            "border": null,
            "bottom": null,
            "display": null,
            "flex": null,
            "flex_flow": null,
            "grid_area": null,
            "grid_auto_columns": null,
            "grid_auto_flow": null,
            "grid_auto_rows": null,
            "grid_column": null,
            "grid_gap": null,
            "grid_row": null,
            "grid_template_areas": null,
            "grid_template_columns": null,
            "grid_template_rows": null,
            "height": null,
            "justify_content": null,
            "justify_items": null,
            "left": null,
            "margin": null,
            "max_height": null,
            "max_width": null,
            "min_height": null,
            "min_width": null,
            "object_fit": null,
            "object_position": null,
            "order": null,
            "overflow": null,
            "overflow_x": null,
            "overflow_y": null,
            "padding": null,
            "right": null,
            "top": null,
            "visibility": null,
            "width": null
          }
        },
        "f099ac465a1d4f1889f0a08468de9688": {
          "model_module": "@jupyter-widgets/controls",
          "model_name": "DescriptionStyleModel",
          "model_module_version": "1.5.0",
          "state": {
            "_model_module": "@jupyter-widgets/controls",
            "_model_module_version": "1.5.0",
            "_model_name": "DescriptionStyleModel",
            "_view_count": null,
            "_view_module": "@jupyter-widgets/base",
            "_view_module_version": "1.2.0",
            "_view_name": "StyleView",
            "description_width": ""
          }
        },
        "81991abcf10241108d4d1fddb47c74e3": {
          "model_module": "@jupyter-widgets/base",
          "model_name": "LayoutModel",
          "model_module_version": "1.2.0",
          "state": {
            "_model_module": "@jupyter-widgets/base",
            "_model_module_version": "1.2.0",
            "_model_name": "LayoutModel",
            "_view_count": null,
            "_view_module": "@jupyter-widgets/base",
            "_view_module_version": "1.2.0",
            "_view_name": "LayoutView",
            "align_content": null,
            "align_items": null,
            "align_self": null,
            "border": null,
            "bottom": null,
            "display": null,
            "flex": null,
            "flex_flow": null,
            "grid_area": null,
            "grid_auto_columns": null,
            "grid_auto_flow": null,
            "grid_auto_rows": null,
            "grid_column": null,
            "grid_gap": null,
            "grid_row": null,
            "grid_template_areas": null,
            "grid_template_columns": null,
            "grid_template_rows": null,
            "height": null,
            "justify_content": null,
            "justify_items": null,
            "left": null,
            "margin": null,
            "max_height": null,
            "max_width": null,
            "min_height": null,
            "min_width": null,
            "object_fit": null,
            "object_position": null,
            "order": null,
            "overflow": null,
            "overflow_x": null,
            "overflow_y": null,
            "padding": null,
            "right": null,
            "top": null,
            "visibility": null,
            "width": null
          }
        },
        "7d9214be31e143d993bf313275e6028a": {
          "model_module": "@jupyter-widgets/controls",
          "model_name": "ProgressStyleModel",
          "model_module_version": "1.5.0",
          "state": {
            "_model_module": "@jupyter-widgets/controls",
            "_model_module_version": "1.5.0",
            "_model_name": "ProgressStyleModel",
            "_view_count": null,
            "_view_module": "@jupyter-widgets/base",
            "_view_module_version": "1.2.0",
            "_view_name": "StyleView",
            "bar_color": null,
            "description_width": ""
          }
        },
        "1f56ce096a3c46338c8ec5d7174c1549": {
          "model_module": "@jupyter-widgets/base",
          "model_name": "LayoutModel",
          "model_module_version": "1.2.0",
          "state": {
            "_model_module": "@jupyter-widgets/base",
            "_model_module_version": "1.2.0",
            "_model_name": "LayoutModel",
            "_view_count": null,
            "_view_module": "@jupyter-widgets/base",
            "_view_module_version": "1.2.0",
            "_view_name": "LayoutView",
            "align_content": null,
            "align_items": null,
            "align_self": null,
            "border": null,
            "bottom": null,
            "display": null,
            "flex": null,
            "flex_flow": null,
            "grid_area": null,
            "grid_auto_columns": null,
            "grid_auto_flow": null,
            "grid_auto_rows": null,
            "grid_column": null,
            "grid_gap": null,
            "grid_row": null,
            "grid_template_areas": null,
            "grid_template_columns": null,
            "grid_template_rows": null,
            "height": null,
            "justify_content": null,
            "justify_items": null,
            "left": null,
            "margin": null,
            "max_height": null,
            "max_width": null,
            "min_height": null,
            "min_width": null,
            "object_fit": null,
            "object_position": null,
            "order": null,
            "overflow": null,
            "overflow_x": null,
            "overflow_y": null,
            "padding": null,
            "right": null,
            "top": null,
            "visibility": null,
            "width": null
          }
        },
        "5b0499fd000b46b39461f071e06f0157": {
          "model_module": "@jupyter-widgets/controls",
          "model_name": "DescriptionStyleModel",
          "model_module_version": "1.5.0",
          "state": {
            "_model_module": "@jupyter-widgets/controls",
            "_model_module_version": "1.5.0",
            "_model_name": "DescriptionStyleModel",
            "_view_count": null,
            "_view_module": "@jupyter-widgets/base",
            "_view_module_version": "1.2.0",
            "_view_name": "StyleView",
            "description_width": ""
          }
        }
      }
    }
  },
  "nbformat_minor": 0,
  "nbformat": 4,
  "cells": [
    {
      "cell_type": "markdown",
      "metadata": {
        "id": "view-in-github",
        "colab_type": "text"
      },
      "source": [
        "<a href=\"https://colab.research.google.com/github/okolenchuk/DS_HW_NLP/blob/main/task_1_nlp.ipynb\" target=\"_parent\"><img src=\"https://colab.research.google.com/assets/colab-badge.svg\" alt=\"Open In Colab\"/></a>"
      ]
    },
    {
      "cell_type": "code",
      "source": [
        "import os, re\n",
        "import pandas as pd\n",
        "import numpy as np\n",
        "import math\n",
        "import string\n",
        "\n",
        "from sklearn.preprocessing import LabelEncoder\n",
        "from sklearn.feature_extraction.text import *\n",
        "\n",
        "from collections import Counter, defaultdict\n",
        "\n",
        "from nltk.corpus import stopwords\n",
        "from nltk.stem import WordNetLemmatizer\n"
      ],
      "metadata": {
        "execution": {
          "iopub.status.busy": "2022-10-04T12:25:46.782705Z",
          "iopub.execute_input": "2022-10-04T12:25:46.783079Z",
          "iopub.status.idle": "2022-10-04T12:25:47.835369Z",
          "shell.execute_reply.started": "2022-10-04T12:25:46.783049Z",
          "shell.execute_reply": "2022-10-04T12:25:47.834260Z"
        },
        "trusted": true,
        "id": "jLUQn2ceEQD-"
      },
      "execution_count": 2,
      "outputs": []
    },
    {
      "cell_type": "markdown",
      "source": [
        "# **Загрузка и предобработка данных**"
      ],
      "metadata": {
        "id": "1m9fqoU8nnSf"
      }
    },
    {
      "cell_type": "markdown",
      "source": [
        "Data import for Google colab"
      ],
      "metadata": {
        "id": "ISS4KFVHDpWD"
      }
    },
    {
      "cell_type": "code",
      "source": [
        "from google.colab import drive\n",
        "drive.mount('/content/drive')\n",
        "\n",
        "data_path = '/content/drive/MyDrive/bbc'"
      ],
      "metadata": {
        "colab": {
          "base_uri": "https://localhost:8080/"
        },
        "id": "Y5UGypN6zKAl",
        "outputId": "d492f25e-e5af-4d5b-c50b-6411cb56e480",
        "jupyter": {
          "source_hidden": true
        }
      },
      "execution_count": 1,
      "outputs": [
        {
          "output_type": "stream",
          "name": "stdout",
          "text": [
            "Mounted at /content/drive\n"
          ]
        }
      ]
    },
    {
      "cell_type": "markdown",
      "source": [
        "Data import for Kaggle"
      ],
      "metadata": {
        "id": "Ynr5CdNFD12c"
      }
    },
    {
      "cell_type": "code",
      "source": [
        "data_path = '../input/bbc-news'"
      ],
      "metadata": {
        "id": "1Pbu9IsdztQj",
        "execution": {
          "iopub.status.busy": "2022-10-04T12:25:46.615461Z",
          "iopub.execute_input": "2022-10-04T12:25:46.616043Z",
          "iopub.status.idle": "2022-10-04T12:25:46.622091Z",
          "shell.execute_reply.started": "2022-10-04T12:25:46.615990Z",
          "shell.execute_reply": "2022-10-04T12:25:46.621048Z"
        },
        "trusted": true
      },
      "execution_count": null,
      "outputs": []
    },
    {
      "cell_type": "markdown",
      "source": [
        "Пройдемся по дирректории с файлами датасета и соберем все в датафрейм text + label"
      ],
      "metadata": {
        "id": "Q6f54mHUn0km"
      }
    },
    {
      "cell_type": "code",
      "source": [
        "directory = []\n",
        "file = []\n",
        "title = []\n",
        "text = []\n",
        "label = []\n",
        " \n",
        "for dirname, _ , filenames in os.walk(data_path):\n",
        "    for filename in filenames:\n",
        "        directory.append(dirname)\n",
        "        file.append(filename)\n",
        "        label.append(dirname.split('/')[-1])\n",
        "        fullpathfile = os.path.join(dirname,filename)\n",
        "        with open(fullpathfile, 'r', encoding=\"utf8\", errors='ignore') as infile:\n",
        "            intext = ''\n",
        "            firstline = True\n",
        "            for line in infile:\n",
        "                if firstline:\n",
        "                    title.append(line.replace('\\n',''))\n",
        "                    firstline = False\n",
        "                else:\n",
        "                    intext = intext + ' ' + line.replace('\\n','')\n",
        "            text.append(intext)"
      ],
      "metadata": {
        "execution": {
          "iopub.status.busy": "2022-10-04T12:25:47.837927Z",
          "iopub.execute_input": "2022-10-04T12:25:47.838366Z",
          "iopub.status.idle": "2022-10-04T12:25:57.683287Z",
          "shell.execute_reply.started": "2022-10-04T12:25:47.838323Z",
          "shell.execute_reply": "2022-10-04T12:25:57.682241Z"
        },
        "trusted": true,
        "id": "H4gzuUyuEQD_"
      },
      "execution_count": 3,
      "outputs": []
    },
    {
      "cell_type": "code",
      "source": [
        "DATA_COLUMN = 'text'\n",
        "LABEL_COLUMN = 'label'\n",
        "\n",
        "fulldf = pd.DataFrame(list(zip(directory, file, title, text, label)), \n",
        "               columns =['directory', 'file', 'title', 'text', 'label'])\n",
        "\n",
        "df = fulldf.filter(['text','label'], axis=1)\n",
        "df.head()"
      ],
      "metadata": {
        "execution": {
          "iopub.status.busy": "2022-10-04T12:25:57.684839Z",
          "iopub.execute_input": "2022-10-04T12:25:57.685160Z",
          "iopub.status.idle": "2022-10-04T12:25:57.719150Z",
          "shell.execute_reply.started": "2022-10-04T12:25:57.685131Z",
          "shell.execute_reply": "2022-10-04T12:25:57.717898Z"
        },
        "trusted": true,
        "colab": {
          "base_uri": "https://localhost:8080/",
          "height": 206
        },
        "id": "Tt1c6WpIEQEA",
        "outputId": "b4bcc3f0-fbd9-43d4-e519-565556d21b38"
      },
      "execution_count": 4,
      "outputs": [
        {
          "output_type": "execute_result",
          "data": {
            "text/plain": [
              "                                                text          label\n",
              "0    Uganda's authorities have banned the play Th...  entertainment\n",
              "1    The plot of an international bestseller that...  entertainment\n",
              "2    The 10 authors shortlisted for a Richard and...  entertainment\n",
              "3    Hollywood film star Liam Neeson has held a d...  entertainment\n",
              "4    Young book fans have voted Fergus Crane, a s...  entertainment"
            ],
            "text/html": [
              "\n",
              "  <div id=\"df-444ad491-f79c-48b1-b81f-6daa5f8f3bbd\">\n",
              "    <div class=\"colab-df-container\">\n",
              "      <div>\n",
              "<style scoped>\n",
              "    .dataframe tbody tr th:only-of-type {\n",
              "        vertical-align: middle;\n",
              "    }\n",
              "\n",
              "    .dataframe tbody tr th {\n",
              "        vertical-align: top;\n",
              "    }\n",
              "\n",
              "    .dataframe thead th {\n",
              "        text-align: right;\n",
              "    }\n",
              "</style>\n",
              "<table border=\"1\" class=\"dataframe\">\n",
              "  <thead>\n",
              "    <tr style=\"text-align: right;\">\n",
              "      <th></th>\n",
              "      <th>text</th>\n",
              "      <th>label</th>\n",
              "    </tr>\n",
              "  </thead>\n",
              "  <tbody>\n",
              "    <tr>\n",
              "      <th>0</th>\n",
              "      <td>Uganda's authorities have banned the play Th...</td>\n",
              "      <td>entertainment</td>\n",
              "    </tr>\n",
              "    <tr>\n",
              "      <th>1</th>\n",
              "      <td>The plot of an international bestseller that...</td>\n",
              "      <td>entertainment</td>\n",
              "    </tr>\n",
              "    <tr>\n",
              "      <th>2</th>\n",
              "      <td>The 10 authors shortlisted for a Richard and...</td>\n",
              "      <td>entertainment</td>\n",
              "    </tr>\n",
              "    <tr>\n",
              "      <th>3</th>\n",
              "      <td>Hollywood film star Liam Neeson has held a d...</td>\n",
              "      <td>entertainment</td>\n",
              "    </tr>\n",
              "    <tr>\n",
              "      <th>4</th>\n",
              "      <td>Young book fans have voted Fergus Crane, a s...</td>\n",
              "      <td>entertainment</td>\n",
              "    </tr>\n",
              "  </tbody>\n",
              "</table>\n",
              "</div>\n",
              "      <button class=\"colab-df-convert\" onclick=\"convertToInteractive('df-444ad491-f79c-48b1-b81f-6daa5f8f3bbd')\"\n",
              "              title=\"Convert this dataframe to an interactive table.\"\n",
              "              style=\"display:none;\">\n",
              "        \n",
              "  <svg xmlns=\"http://www.w3.org/2000/svg\" height=\"24px\"viewBox=\"0 0 24 24\"\n",
              "       width=\"24px\">\n",
              "    <path d=\"M0 0h24v24H0V0z\" fill=\"none\"/>\n",
              "    <path d=\"M18.56 5.44l.94 2.06.94-2.06 2.06-.94-2.06-.94-.94-2.06-.94 2.06-2.06.94zm-11 1L8.5 8.5l.94-2.06 2.06-.94-2.06-.94L8.5 2.5l-.94 2.06-2.06.94zm10 10l.94 2.06.94-2.06 2.06-.94-2.06-.94-.94-2.06-.94 2.06-2.06.94z\"/><path d=\"M17.41 7.96l-1.37-1.37c-.4-.4-.92-.59-1.43-.59-.52 0-1.04.2-1.43.59L10.3 9.45l-7.72 7.72c-.78.78-.78 2.05 0 2.83L4 21.41c.39.39.9.59 1.41.59.51 0 1.02-.2 1.41-.59l7.78-7.78 2.81-2.81c.8-.78.8-2.07 0-2.86zM5.41 20L4 18.59l7.72-7.72 1.47 1.35L5.41 20z\"/>\n",
              "  </svg>\n",
              "      </button>\n",
              "      \n",
              "  <style>\n",
              "    .colab-df-container {\n",
              "      display:flex;\n",
              "      flex-wrap:wrap;\n",
              "      gap: 12px;\n",
              "    }\n",
              "\n",
              "    .colab-df-convert {\n",
              "      background-color: #E8F0FE;\n",
              "      border: none;\n",
              "      border-radius: 50%;\n",
              "      cursor: pointer;\n",
              "      display: none;\n",
              "      fill: #1967D2;\n",
              "      height: 32px;\n",
              "      padding: 0 0 0 0;\n",
              "      width: 32px;\n",
              "    }\n",
              "\n",
              "    .colab-df-convert:hover {\n",
              "      background-color: #E2EBFA;\n",
              "      box-shadow: 0px 1px 2px rgba(60, 64, 67, 0.3), 0px 1px 3px 1px rgba(60, 64, 67, 0.15);\n",
              "      fill: #174EA6;\n",
              "    }\n",
              "\n",
              "    [theme=dark] .colab-df-convert {\n",
              "      background-color: #3B4455;\n",
              "      fill: #D2E3FC;\n",
              "    }\n",
              "\n",
              "    [theme=dark] .colab-df-convert:hover {\n",
              "      background-color: #434B5C;\n",
              "      box-shadow: 0px 1px 3px 1px rgba(0, 0, 0, 0.15);\n",
              "      filter: drop-shadow(0px 1px 2px rgba(0, 0, 0, 0.3));\n",
              "      fill: #FFFFFF;\n",
              "    }\n",
              "  </style>\n",
              "\n",
              "      <script>\n",
              "        const buttonEl =\n",
              "          document.querySelector('#df-444ad491-f79c-48b1-b81f-6daa5f8f3bbd button.colab-df-convert');\n",
              "        buttonEl.style.display =\n",
              "          google.colab.kernel.accessAllowed ? 'block' : 'none';\n",
              "\n",
              "        async function convertToInteractive(key) {\n",
              "          const element = document.querySelector('#df-444ad491-f79c-48b1-b81f-6daa5f8f3bbd');\n",
              "          const dataTable =\n",
              "            await google.colab.kernel.invokeFunction('convertToInteractive',\n",
              "                                                     [key], {});\n",
              "          if (!dataTable) return;\n",
              "\n",
              "          const docLinkHtml = 'Like what you see? Visit the ' +\n",
              "            '<a target=\"_blank\" href=https://colab.research.google.com/notebooks/data_table.ipynb>data table notebook</a>'\n",
              "            + ' to learn more about interactive tables.';\n",
              "          element.innerHTML = '';\n",
              "          dataTable['output_type'] = 'display_data';\n",
              "          await google.colab.output.renderOutput(dataTable, element);\n",
              "          const docLink = document.createElement('div');\n",
              "          docLink.innerHTML = docLinkHtml;\n",
              "          element.appendChild(docLink);\n",
              "        }\n",
              "      </script>\n",
              "    </div>\n",
              "  </div>\n",
              "  "
            ]
          },
          "metadata": {},
          "execution_count": 4
        }
      ]
    },
    {
      "cell_type": "code",
      "source": [
        "df.shape"
      ],
      "metadata": {
        "execution": {
          "iopub.status.busy": "2022-10-04T12:25:57.722152Z",
          "iopub.execute_input": "2022-10-04T12:25:57.722488Z",
          "iopub.status.idle": "2022-10-04T12:25:57.729923Z",
          "shell.execute_reply.started": "2022-10-04T12:25:57.722457Z",
          "shell.execute_reply": "2022-10-04T12:25:57.728611Z"
        },
        "trusted": true,
        "colab": {
          "base_uri": "https://localhost:8080/"
        },
        "id": "u7-IphDNEQEC",
        "outputId": "8ecc8d47-e19a-43e0-9c69-c278c55ae2e6"
      },
      "execution_count": 5,
      "outputs": [
        {
          "output_type": "execute_result",
          "data": {
            "text/plain": [
              "(2231, 2)"
            ]
          },
          "metadata": {},
          "execution_count": 5
        }
      ]
    },
    {
      "cell_type": "code",
      "source": [
        "df.isnull().sum()"
      ],
      "metadata": {
        "execution": {
          "iopub.status.busy": "2022-10-04T12:25:57.731864Z",
          "iopub.execute_input": "2022-10-04T12:25:57.732203Z",
          "iopub.status.idle": "2022-10-04T12:25:57.744867Z",
          "shell.execute_reply.started": "2022-10-04T12:25:57.732173Z",
          "shell.execute_reply": "2022-10-04T12:25:57.743774Z"
        },
        "trusted": true,
        "colab": {
          "base_uri": "https://localhost:8080/"
        },
        "id": "sh8t4C3zEQED",
        "outputId": "08d5355c-96b5-4f89-9549-6a242d39852d"
      },
      "execution_count": 6,
      "outputs": [
        {
          "output_type": "execute_result",
          "data": {
            "text/plain": [
              "text     0\n",
              "label    0\n",
              "dtype: int64"
            ]
          },
          "metadata": {},
          "execution_count": 6
        }
      ]
    },
    {
      "cell_type": "code",
      "source": [
        "labels = df.label.unique()\n",
        "labels"
      ],
      "metadata": {
        "execution": {
          "iopub.status.busy": "2022-10-04T12:25:57.746815Z",
          "iopub.execute_input": "2022-10-04T12:25:57.747129Z",
          "iopub.status.idle": "2022-10-04T12:25:57.759027Z",
          "shell.execute_reply.started": "2022-10-04T12:25:57.747102Z",
          "shell.execute_reply": "2022-10-04T12:25:57.757885Z"
        },
        "trusted": true,
        "colab": {
          "base_uri": "https://localhost:8080/"
        },
        "id": "Vyxgc-QAEQEE",
        "outputId": "417f6de1-8d7c-4a1b-9ea8-4885dfce09b3"
      },
      "execution_count": 7,
      "outputs": [
        {
          "output_type": "execute_result",
          "data": {
            "text/plain": [
              "array(['entertainment', 'tech', 'sport', 'politics', 'business'],\n",
              "      dtype=object)"
            ]
          },
          "metadata": {},
          "execution_count": 7
        }
      ]
    },
    {
      "cell_type": "markdown",
      "source": [
        "Посмотрим на распределение целевое переменной. На графике видим, что значительных отличий в представлении классов нет."
      ],
      "metadata": {
        "id": "b8fBzz7Zn91X"
      }
    },
    {
      "cell_type": "code",
      "source": [
        "df['label'].value_counts().sort_values(ascending=False).plot(kind='bar');"
      ],
      "metadata": {
        "execution": {
          "iopub.status.busy": "2022-10-04T12:25:57.760492Z",
          "iopub.execute_input": "2022-10-04T12:25:57.760908Z",
          "iopub.status.idle": "2022-10-04T12:25:58.012698Z",
          "shell.execute_reply.started": "2022-10-04T12:25:57.760876Z",
          "shell.execute_reply": "2022-10-04T12:25:58.011889Z"
        },
        "trusted": true,
        "colab": {
          "base_uri": "https://localhost:8080/",
          "height": 327
        },
        "id": "5F37jarLEQEE",
        "outputId": "db99d9b5-cd21-48ba-f2b8-659c27cdc304"
      },
      "execution_count": 8,
      "outputs": [
        {
          "output_type": "display_data",
          "data": {
            "text/plain": [
              "<Figure size 432x288 with 1 Axes>"
            ],
            "image/png": "[encoded data removed]"
          },
          "metadata": {
            "needs_background": "light"
          }
        }
      ]
    },
    {
      "cell_type": "code",
      "source": [
        "le = LabelEncoder()\n",
        "df['label_enc'] = le.fit_transform(df['label'])\n",
        "df.head()"
      ],
      "metadata": {
        "execution": {
          "iopub.status.busy": "2022-10-04T12:25:58.013734Z",
          "iopub.execute_input": "2022-10-04T12:25:58.014245Z",
          "iopub.status.idle": "2022-10-04T12:25:58.031011Z",
          "shell.execute_reply.started": "2022-10-04T12:25:58.014214Z",
          "shell.execute_reply": "2022-10-04T12:25:58.029842Z"
        },
        "trusted": true,
        "id": "5-ra16KOEQEF"
      },
      "execution_count": null,
      "outputs": []
    },
    {
      "cell_type": "markdown",
      "source": [
        "Дальше проводим очиству, лемматиацию и векторизацию текста новостей."
      ],
      "metadata": {
        "id": "-Kl3wsZxve7D"
      }
    },
    {
      "cell_type": "code",
      "source": [
        "import nltk\n",
        "nltk.download('omw-1.4')\n",
        "nltk.download('wordnet')"
      ],
      "metadata": {
        "execution": {
          "iopub.status.busy": "2022-10-04T12:25:58.032549Z",
          "iopub.execute_input": "2022-10-04T12:25:58.033215Z",
          "iopub.status.idle": "2022-10-04T12:25:58.319410Z",
          "shell.execute_reply.started": "2022-10-04T12:25:58.033182Z",
          "shell.execute_reply": "2022-10-04T12:25:58.318096Z"
        },
        "trusted": true,
        "colab": {
          "base_uri": "https://localhost:8080/"
        },
        "id": "Q9P2xv-TEQEG",
        "outputId": "618bdb9d-bcf6-4d83-e086-e0cca67e9698"
      },
      "execution_count": 10,
      "outputs": [
        {
          "output_type": "stream",
          "name": "stderr",
          "text": [
            "[nltk_data] Downloading package omw-1.4 to /root/nltk_data...\n",
            "[nltk_data] Downloading package wordnet to /root/nltk_data...\n"
          ]
        },
        {
          "output_type": "execute_result",
          "data": {
            "text/plain": [
              "True"
            ]
          },
          "metadata": {},
          "execution_count": 10
        }
      ]
    },
    {
      "cell_type": "code",
      "source": [
        "lemmatizer = WordNetLemmatizer()\n",
        "regex = re.compile(\"[А-Яа-я:=!\\)\\()A-z\\_\\%/|]+\")\n",
        "\n",
        "def words_only(text, regex=regex):\n",
        "    try:\n",
        "        return \" \".join(regex.findall(text))\n",
        "    except:\n",
        "        return \"\"\n",
        "\n",
        "\n",
        "def lemmatize(text, lemmatizer=lemmatizer):\n",
        "    try:\n",
        "        return \" \".join([lemmatizer.lemmatize(word) for word in text.split()])\n",
        "    except:\n",
        "        return \" \""
      ],
      "metadata": {
        "execution": {
          "iopub.status.busy": "2022-10-04T12:25:58.323109Z",
          "iopub.execute_input": "2022-10-04T12:25:58.323739Z",
          "iopub.status.idle": "2022-10-04T12:25:58.331015Z",
          "shell.execute_reply.started": "2022-10-04T12:25:58.323702Z",
          "shell.execute_reply": "2022-10-04T12:25:58.330171Z"
        },
        "trusted": true,
        "id": "zOakZuKyEQEG"
      },
      "execution_count": 11,
      "outputs": []
    },
    {
      "cell_type": "code",
      "source": [
        "df.text = df.text.apply(words_only)\n",
        "df.head()"
      ],
      "metadata": {
        "execution": {
          "iopub.status.busy": "2022-10-04T12:25:58.332628Z",
          "iopub.execute_input": "2022-10-04T12:25:58.333800Z",
          "iopub.status.idle": "2022-10-04T12:25:58.586531Z",
          "shell.execute_reply.started": "2022-10-04T12:25:58.333757Z",
          "shell.execute_reply": "2022-10-04T12:25:58.585033Z"
        },
        "trusted": true,
        "colab": {
          "base_uri": "https://localhost:8080/",
          "height": 206
        },
        "id": "or24EspWEQEH",
        "outputId": "0cfa9889-bef3-4444-cd22-5f4408c2d674"
      },
      "execution_count": 12,
      "outputs": [
        {
          "output_type": "execute_result",
          "data": {
            "text/plain": [
              "                                                text          label  label_enc\n",
              "0  Uganda s authorities have banned the play The ...  entertainment          1\n",
              "1  The plot of an international bestseller that t...  entertainment          1\n",
              "2  The authors shortlisted for a Richard and Judy...  entertainment          1\n",
              "3  Hollywood film star Liam Neeson has held a din...  entertainment          1\n",
              "4  Young book fans have voted Fergus Crane a stor...  entertainment          1"
            ],
            "text/html": [
              "\n",
              "  <div id=\"df-ed1fc5b2-bb5e-4520-870b-ce324b50f54f\">\n",
              "    <div class=\"colab-df-container\">\n",
              "      <div>\n",
              "<style scoped>\n",
              "    .dataframe tbody tr th:only-of-type {\n",
              "        vertical-align: middle;\n",
              "    }\n",
              "\n",
              "    .dataframe tbody tr th {\n",
              "        vertical-align: top;\n",
              "    }\n",
              "\n",
              "    .dataframe thead th {\n",
              "        text-align: right;\n",
              "    }\n",
              "</style>\n",
              "<table border=\"1\" class=\"dataframe\">\n",
              "  <thead>\n",
              "    <tr style=\"text-align: right;\">\n",
              "      <th></th>\n",
              "      <th>text</th>\n",
              "      <th>label</th>\n",
              "      <th>label_enc</th>\n",
              "    </tr>\n",
              "  </thead>\n",
              "  <tbody>\n",
              "    <tr>\n",
              "      <th>0</th>\n",
              "      <td>Uganda s authorities have banned the play The ...</td>\n",
              "      <td>entertainment</td>\n",
              "      <td>1</td>\n",
              "    </tr>\n",
              "    <tr>\n",
              "      <th>1</th>\n",
              "      <td>The plot of an international bestseller that t...</td>\n",
              "      <td>entertainment</td>\n",
              "      <td>1</td>\n",
              "    </tr>\n",
              "    <tr>\n",
              "      <th>2</th>\n",
              "      <td>The authors shortlisted for a Richard and Judy...</td>\n",
              "      <td>entertainment</td>\n",
              "      <td>1</td>\n",
              "    </tr>\n",
              "    <tr>\n",
              "      <th>3</th>\n",
              "      <td>Hollywood film star Liam Neeson has held a din...</td>\n",
              "      <td>entertainment</td>\n",
              "      <td>1</td>\n",
              "    </tr>\n",
              "    <tr>\n",
              "      <th>4</th>\n",
              "      <td>Young book fans have voted Fergus Crane a stor...</td>\n",
              "      <td>entertainment</td>\n",
              "      <td>1</td>\n",
              "    </tr>\n",
              "  </tbody>\n",
              "</table>\n",
              "</div>\n",
              "      <button class=\"colab-df-convert\" onclick=\"convertToInteractive('df-ed1fc5b2-bb5e-4520-870b-ce324b50f54f')\"\n",
              "              title=\"Convert this dataframe to an interactive table.\"\n",
              "              style=\"display:none;\">\n",
              "        \n",
              "  <svg xmlns=\"http://www.w3.org/2000/svg\" height=\"24px\"viewBox=\"0 0 24 24\"\n",
              "       width=\"24px\">\n",
              "    <path d=\"M0 0h24v24H0V0z\" fill=\"none\"/>\n",
              "    <path d=\"M18.56 5.44l.94 2.06.94-2.06 2.06-.94-2.06-.94-.94-2.06-.94 2.06-2.06.94zm-11 1L8.5 8.5l.94-2.06 2.06-.94-2.06-.94L8.5 2.5l-.94 2.06-2.06.94zm10 10l.94 2.06.94-2.06 2.06-.94-2.06-.94-.94-2.06-.94 2.06-2.06.94z\"/><path d=\"M17.41 7.96l-1.37-1.37c-.4-.4-.92-.59-1.43-.59-.52 0-1.04.2-1.43.59L10.3 9.45l-7.72 7.72c-.78.78-.78 2.05 0 2.83L4 21.41c.39.39.9.59 1.41.59.51 0 1.02-.2 1.41-.59l7.78-7.78 2.81-2.81c.8-.78.8-2.07 0-2.86zM5.41 20L4 18.59l7.72-7.72 1.47 1.35L5.41 20z\"/>\n",
              "  </svg>\n",
              "      </button>\n",
              "      \n",
              "  <style>\n",
              "    .colab-df-container {\n",
              "      display:flex;\n",
              "      flex-wrap:wrap;\n",
              "      gap: 12px;\n",
              "    }\n",
              "\n",
              "    .colab-df-convert {\n",
              "      background-color: #E8F0FE;\n",
              "      border: none;\n",
              "      border-radius: 50%;\n",
              "      cursor: pointer;\n",
              "      display: none;\n",
              "      fill: #1967D2;\n",
              "      height: 32px;\n",
              "      padding: 0 0 0 0;\n",
              "      width: 32px;\n",
              "    }\n",
              "\n",
              "    .colab-df-convert:hover {\n",
              "      background-color: #E2EBFA;\n",
              "      box-shadow: 0px 1px 2px rgba(60, 64, 67, 0.3), 0px 1px 3px 1px rgba(60, 64, 67, 0.15);\n",
              "      fill: #174EA6;\n",
              "    }\n",
              "\n",
              "    [theme=dark] .colab-df-convert {\n",
              "      background-color: #3B4455;\n",
              "      fill: #D2E3FC;\n",
              "    }\n",
              "\n",
              "    [theme=dark] .colab-df-convert:hover {\n",
              "      background-color: #434B5C;\n",
              "      box-shadow: 0px 1px 3px 1px rgba(0, 0, 0, 0.15);\n",
              "      filter: drop-shadow(0px 1px 2px rgba(0, 0, 0, 0.3));\n",
              "      fill: #FFFFFF;\n",
              "    }\n",
              "  </style>\n",
              "\n",
              "      <script>\n",
              "        const buttonEl =\n",
              "          document.querySelector('#df-ed1fc5b2-bb5e-4520-870b-ce324b50f54f button.colab-df-convert');\n",
              "        buttonEl.style.display =\n",
              "          google.colab.kernel.accessAllowed ? 'block' : 'none';\n",
              "\n",
              "        async function convertToInteractive(key) {\n",
              "          const element = document.querySelector('#df-ed1fc5b2-bb5e-4520-870b-ce324b50f54f');\n",
              "          const dataTable =\n",
              "            await google.colab.kernel.invokeFunction('convertToInteractive',\n",
              "                                                     [key], {});\n",
              "          if (!dataTable) return;\n",
              "\n",
              "          const docLinkHtml = 'Like what you see? Visit the ' +\n",
              "            '<a target=\"_blank\" href=https://colab.research.google.com/notebooks/data_table.ipynb>data table notebook</a>'\n",
              "            + ' to learn more about interactive tables.';\n",
              "          element.innerHTML = '';\n",
              "          dataTable['output_type'] = 'display_data';\n",
              "          await google.colab.output.renderOutput(dataTable, element);\n",
              "          const docLink = document.createElement('div');\n",
              "          docLink.innerHTML = docLinkHtml;\n",
              "          element.appendChild(docLink);\n",
              "        }\n",
              "      </script>\n",
              "    </div>\n",
              "  </div>\n",
              "  "
            ]
          },
          "metadata": {},
          "execution_count": 12
        }
      ]
    },
    {
      "cell_type": "code",
      "source": [
        "df.text = df.text.apply(lemmatize)\n",
        "df.head()"
      ],
      "metadata": {
        "execution": {
          "iopub.status.busy": "2022-10-04T12:25:58.588146Z",
          "iopub.execute_input": "2022-10-04T12:25:58.588480Z",
          "iopub.status.idle": "2022-10-04T12:26:04.682553Z",
          "shell.execute_reply.started": "2022-10-04T12:25:58.588451Z",
          "shell.execute_reply": "2022-10-04T12:26:04.681225Z"
        },
        "trusted": true,
        "colab": {
          "base_uri": "https://localhost:8080/",
          "height": 206
        },
        "id": "yapTPLRjEQEI",
        "outputId": "035cf6ae-783f-4fa7-b342-c917a55549b0"
      },
      "execution_count": 13,
      "outputs": [
        {
          "output_type": "execute_result",
          "data": {
            "text/plain": [
              "                                                text          label  label_enc\n",
              "0  Uganda s authority have banned the play The Va...  entertainment          1\n",
              "1  The plot of an international bestseller that t...  entertainment          1\n",
              "2  The author shortlisted for a Richard and Judy ...  entertainment          1\n",
              "3  Hollywood film star Liam Neeson ha held a dinn...  entertainment          1\n",
              "4  Young book fan have voted Fergus Crane a story...  entertainment          1"
            ],
            "text/html": [
              "\n",
              "  <div id=\"df-1009f462-4739-4c9b-b42b-1e30ce16b2c9\">\n",
              "    <div class=\"colab-df-container\">\n",
              "      <div>\n",
              "<style scoped>\n",
              "    .dataframe tbody tr th:only-of-type {\n",
              "        vertical-align: middle;\n",
              "    }\n",
              "\n",
              "    .dataframe tbody tr th {\n",
              "        vertical-align: top;\n",
              "    }\n",
              "\n",
              "    .dataframe thead th {\n",
              "        text-align: right;\n",
              "    }\n",
              "</style>\n",
              "<table border=\"1\" class=\"dataframe\">\n",
              "  <thead>\n",
              "    <tr style=\"text-align: right;\">\n",
              "      <th></th>\n",
              "      <th>text</th>\n",
              "      <th>label</th>\n",
              "      <th>label_enc</th>\n",
              "    </tr>\n",
              "  </thead>\n",
              "  <tbody>\n",
              "    <tr>\n",
              "      <th>0</th>\n",
              "      <td>Uganda s authority have banned the play The Va...</td>\n",
              "      <td>entertainment</td>\n",
              "      <td>1</td>\n",
              "    </tr>\n",
              "    <tr>\n",
              "      <th>1</th>\n",
              "      <td>The plot of an international bestseller that t...</td>\n",
              "      <td>entertainment</td>\n",
              "      <td>1</td>\n",
              "    </tr>\n",
              "    <tr>\n",
              "      <th>2</th>\n",
              "      <td>The author shortlisted for a Richard and Judy ...</td>\n",
              "      <td>entertainment</td>\n",
              "      <td>1</td>\n",
              "    </tr>\n",
              "    <tr>\n",
              "      <th>3</th>\n",
              "      <td>Hollywood film star Liam Neeson ha held a dinn...</td>\n",
              "      <td>entertainment</td>\n",
              "      <td>1</td>\n",
              "    </tr>\n",
              "    <tr>\n",
              "      <th>4</th>\n",
              "      <td>Young book fan have voted Fergus Crane a story...</td>\n",
              "      <td>entertainment</td>\n",
              "      <td>1</td>\n",
              "    </tr>\n",
              "  </tbody>\n",
              "</table>\n",
              "</div>\n",
              "      <button class=\"colab-df-convert\" onclick=\"convertToInteractive('df-1009f462-4739-4c9b-b42b-1e30ce16b2c9')\"\n",
              "              title=\"Convert this dataframe to an interactive table.\"\n",
              "              style=\"display:none;\">\n",
              "        \n",
              "  <svg xmlns=\"http://www.w3.org/2000/svg\" height=\"24px\"viewBox=\"0 0 24 24\"\n",
              "       width=\"24px\">\n",
              "    <path d=\"M0 0h24v24H0V0z\" fill=\"none\"/>\n",
              "    <path d=\"M18.56 5.44l.94 2.06.94-2.06 2.06-.94-2.06-.94-.94-2.06-.94 2.06-2.06.94zm-11 1L8.5 8.5l.94-2.06 2.06-.94-2.06-.94L8.5 2.5l-.94 2.06-2.06.94zm10 10l.94 2.06.94-2.06 2.06-.94-2.06-.94-.94-2.06-.94 2.06-2.06.94z\"/><path d=\"M17.41 7.96l-1.37-1.37c-.4-.4-.92-.59-1.43-.59-.52 0-1.04.2-1.43.59L10.3 9.45l-7.72 7.72c-.78.78-.78 2.05 0 2.83L4 21.41c.39.39.9.59 1.41.59.51 0 1.02-.2 1.41-.59l7.78-7.78 2.81-2.81c.8-.78.8-2.07 0-2.86zM5.41 20L4 18.59l7.72-7.72 1.47 1.35L5.41 20z\"/>\n",
              "  </svg>\n",
              "      </button>\n",
              "      \n",
              "  <style>\n",
              "    .colab-df-container {\n",
              "      display:flex;\n",
              "      flex-wrap:wrap;\n",
              "      gap: 12px;\n",
              "    }\n",
              "\n",
              "    .colab-df-convert {\n",
              "      background-color: #E8F0FE;\n",
              "      border: none;\n",
              "      border-radius: 50%;\n",
              "      cursor: pointer;\n",
              "      display: none;\n",
              "      fill: #1967D2;\n",
              "      height: 32px;\n",
              "      padding: 0 0 0 0;\n",
              "      width: 32px;\n",
              "    }\n",
              "\n",
              "    .colab-df-convert:hover {\n",
              "      background-color: #E2EBFA;\n",
              "      box-shadow: 0px 1px 2px rgba(60, 64, 67, 0.3), 0px 1px 3px 1px rgba(60, 64, 67, 0.15);\n",
              "      fill: #174EA6;\n",
              "    }\n",
              "\n",
              "    [theme=dark] .colab-df-convert {\n",
              "      background-color: #3B4455;\n",
              "      fill: #D2E3FC;\n",
              "    }\n",
              "\n",
              "    [theme=dark] .colab-df-convert:hover {\n",
              "      background-color: #434B5C;\n",
              "      box-shadow: 0px 1px 3px 1px rgba(0, 0, 0, 0.15);\n",
              "      filter: drop-shadow(0px 1px 2px rgba(0, 0, 0, 0.3));\n",
              "      fill: #FFFFFF;\n",
              "    }\n",
              "  </style>\n",
              "\n",
              "      <script>\n",
              "        const buttonEl =\n",
              "          document.querySelector('#df-1009f462-4739-4c9b-b42b-1e30ce16b2c9 button.colab-df-convert');\n",
              "        buttonEl.style.display =\n",
              "          google.colab.kernel.accessAllowed ? 'block' : 'none';\n",
              "\n",
              "        async function convertToInteractive(key) {\n",
              "          const element = document.querySelector('#df-1009f462-4739-4c9b-b42b-1e30ce16b2c9');\n",
              "          const dataTable =\n",
              "            await google.colab.kernel.invokeFunction('convertToInteractive',\n",
              "                                                     [key], {});\n",
              "          if (!dataTable) return;\n",
              "\n",
              "          const docLinkHtml = 'Like what you see? Visit the ' +\n",
              "            '<a target=\"_blank\" href=https://colab.research.google.com/notebooks/data_table.ipynb>data table notebook</a>'\n",
              "            + ' to learn more about interactive tables.';\n",
              "          element.innerHTML = '';\n",
              "          dataTable['output_type'] = 'display_data';\n",
              "          await google.colab.output.renderOutput(dataTable, element);\n",
              "          const docLink = document.createElement('div');\n",
              "          docLink.innerHTML = docLinkHtml;\n",
              "          element.appendChild(docLink);\n",
              "        }\n",
              "      </script>\n",
              "    </div>\n",
              "  </div>\n",
              "  "
            ]
          },
          "metadata": {},
          "execution_count": 13
        }
      ]
    },
    {
      "cell_type": "code",
      "source": [
        "import gensim.downloader as api\n",
        "word2vec = api.load(\"word2vec-google-news-300\")"
      ],
      "metadata": {
        "execution": {
          "iopub.status.busy": "2022-10-04T12:26:04.683952Z",
          "iopub.execute_input": "2022-10-04T12:26:04.684280Z"
        },
        "trusted": true,
        "colab": {
          "base_uri": "https://localhost:8080/"
        },
        "id": "dIZvD5IIEQEI",
        "outputId": "4a30de8f-ab4c-4490-edb6-bf74793aae30"
      },
      "execution_count": 15,
      "outputs": [
        {
          "output_type": "stream",
          "name": "stdout",
          "text": [
            "[==================================================] 100.0% 1662.8/1662.8MB downloaded\n"
          ]
        }
      ]
    },
    {
      "cell_type": "code",
      "source": [
        "tokenizer = nltk.WordPunctTokenizer()\n",
        "def tokenize_and_vectorize(sent, tokenizer=tokenizer, vectorizer=word2vec):\n",
        "    tokens = tokenizer.tokenize(sent.lower())\n",
        "    vectors = np.mean([word2vec.get_vector(w) for w in tokens if w in word2vec] \n",
        "                      or [np.zeros(300)], axis=0)\n",
        "    return vectors\n",
        "    \n",
        "\n",
        "df['text_v'] = df.text.apply(tokenize_and_vectorize)\n",
        "df.head()"
      ],
      "metadata": {
        "trusted": true,
        "colab": {
          "base_uri": "https://localhost:8080/",
          "height": 206
        },
        "id": "IF53xXjjEQEJ",
        "outputId": "c661ed3c-c699-48f2-fff3-e37e662e6c6d"
      },
      "execution_count": 16,
      "outputs": [
        {
          "output_type": "execute_result",
          "data": {
            "text/plain": [
              "                                                text          label  \\\n",
              "0  Uganda s authority have banned the play The Va...  entertainment   \n",
              "1  The plot of an international bestseller that t...  entertainment   \n",
              "2  The author shortlisted for a Richard and Judy ...  entertainment   \n",
              "3  Hollywood film star Liam Neeson ha held a dinn...  entertainment   \n",
              "4  Young book fan have voted Fergus Crane a story...  entertainment   \n",
              "\n",
              "   label_enc                                             text_v  \n",
              "0          1  [0.027610779, 0.032774433, 0.04872701, 0.04561...  \n",
              "1          1  [0.035204053, 0.020581473, 0.014687492, 0.0848...  \n",
              "2          1  [-0.0066544362, 0.045021188, 0.010201244, 0.09...  \n",
              "3          1  [0.0404645, 0.0460742, 0.024664301, 0.07234362...  \n",
              "4          1  [0.0054060826, 0.03553495, 0.032416623, 0.0525...  "
            ],
            "text/html": [
              "\n",
              "  <div id=\"df-c173361d-7574-4547-9e39-0718d9db13c7\">\n",
              "    <div class=\"colab-df-container\">\n",
              "      <div>\n",
              "<style scoped>\n",
              "    .dataframe tbody tr th:only-of-type {\n",
              "        vertical-align: middle;\n",
              "    }\n",
              "\n",
              "    .dataframe tbody tr th {\n",
              "        vertical-align: top;\n",
              "    }\n",
              "\n",
              "    .dataframe thead th {\n",
              "        text-align: right;\n",
              "    }\n",
              "</style>\n",
              "<table border=\"1\" class=\"dataframe\">\n",
              "  <thead>\n",
              "    <tr style=\"text-align: right;\">\n",
              "      <th></th>\n",
              "      <th>text</th>\n",
              "      <th>label</th>\n",
              "      <th>label_enc</th>\n",
              "      <th>text_v</th>\n",
              "    </tr>\n",
              "  </thead>\n",
              "  <tbody>\n",
              "    <tr>\n",
              "      <th>0</th>\n",
              "      <td>Uganda s authority have banned the play The Va...</td>\n",
              "      <td>entertainment</td>\n",
              "      <td>1</td>\n",
              "      <td>[0.027610779, 0.032774433, 0.04872701, 0.04561...</td>\n",
              "    </tr>\n",
              "    <tr>\n",
              "      <th>1</th>\n",
              "      <td>The plot of an international bestseller that t...</td>\n",
              "      <td>entertainment</td>\n",
              "      <td>1</td>\n",
              "      <td>[0.035204053, 0.020581473, 0.014687492, 0.0848...</td>\n",
              "    </tr>\n",
              "    <tr>\n",
              "      <th>2</th>\n",
              "      <td>The author shortlisted for a Richard and Judy ...</td>\n",
              "      <td>entertainment</td>\n",
              "      <td>1</td>\n",
              "      <td>[-0.0066544362, 0.045021188, 0.010201244, 0.09...</td>\n",
              "    </tr>\n",
              "    <tr>\n",
              "      <th>3</th>\n",
              "      <td>Hollywood film star Liam Neeson ha held a dinn...</td>\n",
              "      <td>entertainment</td>\n",
              "      <td>1</td>\n",
              "      <td>[0.0404645, 0.0460742, 0.024664301, 0.07234362...</td>\n",
              "    </tr>\n",
              "    <tr>\n",
              "      <th>4</th>\n",
              "      <td>Young book fan have voted Fergus Crane a story...</td>\n",
              "      <td>entertainment</td>\n",
              "      <td>1</td>\n",
              "      <td>[0.0054060826, 0.03553495, 0.032416623, 0.0525...</td>\n",
              "    </tr>\n",
              "  </tbody>\n",
              "</table>\n",
              "</div>\n",
              "      <button class=\"colab-df-convert\" onclick=\"convertToInteractive('df-c173361d-7574-4547-9e39-0718d9db13c7')\"\n",
              "              title=\"Convert this dataframe to an interactive table.\"\n",
              "              style=\"display:none;\">\n",
              "        \n",
              "  <svg xmlns=\"http://www.w3.org/2000/svg\" height=\"24px\"viewBox=\"0 0 24 24\"\n",
              "       width=\"24px\">\n",
              "    <path d=\"M0 0h24v24H0V0z\" fill=\"none\"/>\n",
              "    <path d=\"M18.56 5.44l.94 2.06.94-2.06 2.06-.94-2.06-.94-.94-2.06-.94 2.06-2.06.94zm-11 1L8.5 8.5l.94-2.06 2.06-.94-2.06-.94L8.5 2.5l-.94 2.06-2.06.94zm10 10l.94 2.06.94-2.06 2.06-.94-2.06-.94-.94-2.06-.94 2.06-2.06.94z\"/><path d=\"M17.41 7.96l-1.37-1.37c-.4-.4-.92-.59-1.43-.59-.52 0-1.04.2-1.43.59L10.3 9.45l-7.72 7.72c-.78.78-.78 2.05 0 2.83L4 21.41c.39.39.9.59 1.41.59.51 0 1.02-.2 1.41-.59l7.78-7.78 2.81-2.81c.8-.78.8-2.07 0-2.86zM5.41 20L4 18.59l7.72-7.72 1.47 1.35L5.41 20z\"/>\n",
              "  </svg>\n",
              "      </button>\n",
              "      \n",
              "  <style>\n",
              "    .colab-df-container {\n",
              "      display:flex;\n",
              "      flex-wrap:wrap;\n",
              "      gap: 12px;\n",
              "    }\n",
              "\n",
              "    .colab-df-convert {\n",
              "      background-color: #E8F0FE;\n",
              "      border: none;\n",
              "      border-radius: 50%;\n",
              "      cursor: pointer;\n",
              "      display: none;\n",
              "      fill: #1967D2;\n",
              "      height: 32px;\n",
              "      padding: 0 0 0 0;\n",
              "      width: 32px;\n",
              "    }\n",
              "\n",
              "    .colab-df-convert:hover {\n",
              "      background-color: #E2EBFA;\n",
              "      box-shadow: 0px 1px 2px rgba(60, 64, 67, 0.3), 0px 1px 3px 1px rgba(60, 64, 67, 0.15);\n",
              "      fill: #174EA6;\n",
              "    }\n",
              "\n",
              "    [theme=dark] .colab-df-convert {\n",
              "      background-color: #3B4455;\n",
              "      fill: #D2E3FC;\n",
              "    }\n",
              "\n",
              "    [theme=dark] .colab-df-convert:hover {\n",
              "      background-color: #434B5C;\n",
              "      box-shadow: 0px 1px 3px 1px rgba(0, 0, 0, 0.15);\n",
              "      filter: drop-shadow(0px 1px 2px rgba(0, 0, 0, 0.3));\n",
              "      fill: #FFFFFF;\n",
              "    }\n",
              "  </style>\n",
              "\n",
              "      <script>\n",
              "        const buttonEl =\n",
              "          document.querySelector('#df-c173361d-7574-4547-9e39-0718d9db13c7 button.colab-df-convert');\n",
              "        buttonEl.style.display =\n",
              "          google.colab.kernel.accessAllowed ? 'block' : 'none';\n",
              "\n",
              "        async function convertToInteractive(key) {\n",
              "          const element = document.querySelector('#df-c173361d-7574-4547-9e39-0718d9db13c7');\n",
              "          const dataTable =\n",
              "            await google.colab.kernel.invokeFunction('convertToInteractive',\n",
              "                                                     [key], {});\n",
              "          if (!dataTable) return;\n",
              "\n",
              "          const docLinkHtml = 'Like what you see? Visit the ' +\n",
              "            '<a target=\"_blank\" href=https://colab.research.google.com/notebooks/data_table.ipynb>data table notebook</a>'\n",
              "            + ' to learn more about interactive tables.';\n",
              "          element.innerHTML = '';\n",
              "          dataTable['output_type'] = 'display_data';\n",
              "          await google.colab.output.renderOutput(dataTable, element);\n",
              "          const docLink = document.createElement('div');\n",
              "          docLink.innerHTML = docLinkHtml;\n",
              "          element.appendChild(docLink);\n",
              "        }\n",
              "      </script>\n",
              "    </div>\n",
              "  </div>\n",
              "  "
            ]
          },
          "metadata": {},
          "execution_count": 16
        }
      ]
    },
    {
      "cell_type": "markdown",
      "source": [
        "При помощи PCA и TSNE посмотрим на распределение классов, видим на графике, что в целом классы отличны друг от друга и могут быть разделемы классическими алгоритмами классификации."
      ],
      "metadata": {
        "id": "b-3KB50dv7IC"
      }
    },
    {
      "cell_type": "code",
      "source": [
        "from sklearn.decomposition import PCA\n",
        "from sklearn.manifold import TSNE\n",
        "\n",
        "\n",
        "pca = PCA(n_components=2)\n",
        "tsne = TSNE(n_components=2)\n",
        "PCA = pca.fit_transform(np.array(df.text_v.to_list())) \n",
        "TSNE = tsne.fit_transform(np.array(df.text_v.to_list()))"
      ],
      "metadata": {
        "trusted": true,
        "id": "QDQqXA11EQEK"
      },
      "execution_count": null,
      "outputs": []
    },
    {
      "cell_type": "code",
      "source": [
        "%matplotlib inline"
      ],
      "metadata": {
        "trusted": true,
        "id": "cCRQScPkEQEK"
      },
      "execution_count": 54,
      "outputs": []
    },
    {
      "cell_type": "code",
      "source": [
        "import bokeh.models as bm, bokeh.plotting as pl\n",
        "from bokeh.io import output_notebook\n",
        "output_notebook()\n",
        "\n",
        "def draw_vectors(x, y, radius=10, alpha=0.25, color='blue',\n",
        "                 width=600, height=400, show=True, **kwargs):\n",
        "    \"\"\" draws an interactive plot for data points with auxilirary info on hover \"\"\"\n",
        "    data_source = bm.ColumnDataSource({ 'x' : x, 'y' : y, 'color': color, **kwargs })\n",
        "\n",
        "    fig = pl.figure(active_scroll='wheel_zoom', width=width, height=height)\n",
        "    fig.scatter('x', 'y', size=radius, color='color', alpha=alpha, source=data_source)\n",
        "\n",
        "    fig.add_tools(bm.HoverTool(tooltips=[(key, \"@\" + key) for key in kwargs.keys()]))\n",
        "    if show: pl.show(fig)\n",
        "    return fig"
      ],
      "metadata": {
        "trusted": true,
        "id": "m5U19tYJEQEL"
      },
      "execution_count": 55,
      "outputs": []
    },
    {
      "cell_type": "code",
      "source": [
        "draw_vectors(\n",
        "    PCA[:, 0], \n",
        "    PCA[:, 1], \n",
        "    color=[['red', 'blue', 'green', 'violet', 'yellow'][t] for t in df.label_enc]\n",
        "    )"
      ],
      "metadata": {
        "trusted": true,
        "colab": {
          "base_uri": "https://localhost:8080/",
          "height": 434
        },
        "id": "668vDQTkEQEL",
        "outputId": "d9990583-b3dd-4067-ef96-280c3f896344"
      },
      "execution_count": 56,
      "outputs": [
        {
          "output_type": "display_data",
          "data": {
            "application/javascript": [
              "\n",
              "(function(root) {\n",
              "  function now() {\n",
              "    return new Date();\n",
              "  }\n",
              "\n",
              "  var force = true;\n",
              "\n",
              "  if (typeof root._bokeh_onload_callbacks === \"undefined\" || force === true) {\n",
              "    root._bokeh_onload_callbacks = [];\n",
              "    root._bokeh_is_loading = undefined;\n",
              "  }\n",
              "\n",
              "  var JS_MIME_TYPE = 'application/javascript';\n",
              "  var HTML_MIME_TYPE = 'text/html';\n",
              "  var EXEC_MIME_TYPE = 'application/vnd.bokehjs_exec.v0+json';\n",
              "  var CLASS_NAME = 'output_bokeh rendered_html';\n",
              "\n",
              "  /**\n",
              "   * Render data to the DOM node\n",
              "   */\n",
              "  function render(props, node) {\n",
              "    var script = document.createElement(\"script\");\n",
              "    node.appendChild(script);\n",
              "  }\n",
              "\n",
              "  /**\n",
              "   * Handle when an output is cleared or removed\n",
              "   */\n",
              "  function handleClearOutput(event, handle) {\n",
              "    var cell = handle.cell;\n",
              "\n",
              "    var id = cell.output_area._bokeh_element_id;\n",
              "    var server_id = cell.output_area._bokeh_server_id;\n",
              "    // Clean up Bokeh references\n",
              "    if (id != null && id in Bokeh.index) {\n",
              "      Bokeh.index[id].model.document.clear();\n",
              "      delete Bokeh.index[id];\n",
              "    }\n",
              "\n",
              "    if (server_id !== undefined) {\n",
              "      // Clean up Bokeh references\n",
              "      var cmd = \"from bokeh.io.state import curstate; print(curstate().uuid_to_server['\" + server_id + \"'].get_sessions()[0].document.roots[0]._id)\";\n",
              "      cell.notebook.kernel.execute(cmd, {\n",
              "        iopub: {\n",
              "          output: function(msg) {\n",
              "            var id = msg.content.text.trim();\n",
              "            if (id in Bokeh.index) {\n",
              "              Bokeh.index[id].model.document.clear();\n",
              "              delete Bokeh.index[id];\n",
              "            }\n",
              "          }\n",
              "        }\n",
              "      });\n",
              "      // Destroy server and session\n",
              "      var cmd = \"import bokeh.io.notebook as ion; ion.destroy_server('\" + server_id + \"')\";\n",
              "      cell.notebook.kernel.execute(cmd);\n",
              "    }\n",
              "  }\n",
              "\n",
              "  /**\n",
              "   * Handle when a new output is added\n",
              "   */\n",
              "  function handleAddOutput(event, handle) {\n",
              "    var output_area = handle.output_area;\n",
              "    var output = handle.output;\n",
              "\n",
              "    // limit handleAddOutput to display_data with EXEC_MIME_TYPE content only\n",
              "    if ((output.output_type != \"display_data\") || (!Object.prototype.hasOwnProperty.call(output.data, EXEC_MIME_TYPE))) {\n",
              "      return\n",
              "    }\n",
              "\n",
              "    var toinsert = output_area.element.find(\".\" + CLASS_NAME.split(' ')[0]);\n",
              "\n",
              "    if (output.metadata[EXEC_MIME_TYPE][\"id\"] !== undefined) {\n",
              "      toinsert[toinsert.length - 1].firstChild.textContent = output.data[JS_MIME_TYPE];\n",
              "      // store reference to embed id on output_area\n",
              "      output_area._bokeh_element_id = output.metadata[EXEC_MIME_TYPE][\"id\"];\n",
              "    }\n",
              "    if (output.metadata[EXEC_MIME_TYPE][\"server_id\"] !== undefined) {\n",
              "      var bk_div = document.createElement(\"div\");\n",
              "      bk_div.innerHTML = output.data[HTML_MIME_TYPE];\n",
              "      var script_attrs = bk_div.children[0].attributes;\n",
              "      for (var i = 0; i < script_attrs.length; i++) {\n",
              "        toinsert[toinsert.length - 1].firstChild.setAttribute(script_attrs[i].name, script_attrs[i].value);\n",
              "        toinsert[toinsert.length - 1].firstChild.textContent = bk_div.children[0].textContent\n",
              "      }\n",
              "      // store reference to server id on output_area\n",
              "      output_area._bokeh_server_id = output.metadata[EXEC_MIME_TYPE][\"server_id\"];\n",
              "    }\n",
              "  }\n",
              "\n",
              "  function register_renderer(events, OutputArea) {\n",
              "\n",
              "    function append_mime(data, metadata, element) {\n",
              "      // create a DOM node to render to\n",
              "      var toinsert = this.create_output_subarea(\n",
              "        metadata,\n",
              "        CLASS_NAME,\n",
              "        EXEC_MIME_TYPE\n",
              "      );\n",
              "      this.keyboard_manager.register_events(toinsert);\n",
              "      // Render to node\n",
              "      var props = {data: data, metadata: metadata[EXEC_MIME_TYPE]};\n",
              "      render(props, toinsert[toinsert.length - 1]);\n",
              "      element.append(toinsert);\n",
              "      return toinsert\n",
              "    }\n",
              "\n",
              "    /* Handle when an output is cleared or removed */\n",
              "    events.on('clear_output.CodeCell', handleClearOutput);\n",
              "    events.on('delete.Cell', handleClearOutput);\n",
              "\n",
              "    /* Handle when a new output is added */\n",
              "    events.on('output_added.OutputArea', handleAddOutput);\n",
              "\n",
              "    /**\n",
              "     * Register the mime type and append_mime function with output_area\n",
              "     */\n",
              "    OutputArea.prototype.register_mime_type(EXEC_MIME_TYPE, append_mime, {\n",
              "      /* Is output safe? */\n",
              "      safe: true,\n",
              "      /* Index of renderer in `output_area.display_order` */\n",
              "      index: 0\n",
              "    });\n",
              "  }\n",
              "\n",
              "  // register the mime type if in Jupyter Notebook environment and previously unregistered\n",
              "  if (root.Jupyter !== undefined) {\n",
              "    var events = require('base/js/events');\n",
              "    var OutputArea = require('notebook/js/outputarea').OutputArea;\n",
              "\n",
              "    if (OutputArea.prototype.mime_types().indexOf(EXEC_MIME_TYPE) == -1) {\n",
              "      register_renderer(events, OutputArea);\n",
              "    }\n",
              "  }\n",
              "\n",
              "  \n",
              "  if (typeof (root._bokeh_timeout) === \"undefined\" || force === true) {\n",
              "    root._bokeh_timeout = Date.now() + 5000;\n",
              "    root._bokeh_failed_load = false;\n",
              "  }\n",
              "\n",
              "  var NB_LOAD_WARNING = {'data': {'text/html':\n",
              "     \"<div style='background-color: #fdd'>\\n\"+\n",
              "     \"<p>\\n\"+\n",
              "     \"BokehJS does not appear to have successfully loaded. If loading BokehJS from CDN, this \\n\"+\n",
              "     \"may be due to a slow or bad network connection. Possible fixes:\\n\"+\n",
              "     \"</p>\\n\"+\n",
              "     \"<ul>\\n\"+\n",
              "     \"<li>re-rerun `output_notebook()` to attempt to load from CDN again, or</li>\\n\"+\n",
              "     \"<li>use INLINE resources instead, as so:</li>\\n\"+\n",
              "     \"</ul>\\n\"+\n",
              "     \"<code>\\n\"+\n",
              "     \"from bokeh.resources import INLINE\\n\"+\n",
              "     \"output_notebook(resources=INLINE)\\n\"+\n",
              "     \"</code>\\n\"+\n",
              "     \"</div>\"}};\n",
              "\n",
              "  function display_loaded() {\n",
              "    var el = document.getElementById(null);\n",
              "    if (el != null) {\n",
              "      el.textContent = \"BokehJS is loading...\";\n",
              "    }\n",
              "    if (root.Bokeh !== undefined) {\n",
              "      if (el != null) {\n",
              "        el.textContent = \"BokehJS \" + root.Bokeh.version + \" successfully loaded.\";\n",
              "      }\n",
              "    } else if (Date.now() < root._bokeh_timeout) {\n",
              "      setTimeout(display_loaded, 100)\n",
              "    }\n",
              "  }\n",
              "\n",
              "\n",
              "  function run_callbacks() {\n",
              "    try {\n",
              "      root._bokeh_onload_callbacks.forEach(function(callback) {\n",
              "        if (callback != null)\n",
              "          callback();\n",
              "      });\n",
              "    } finally {\n",
              "      delete root._bokeh_onload_callbacks\n",
              "    }\n",
              "    console.debug(\"Bokeh: all callbacks have finished\");\n",
              "  }\n",
              "\n",
              "  function load_libs(css_urls, js_urls, callback) {\n",
              "    if (css_urls == null) css_urls = [];\n",
              "    if (js_urls == null) js_urls = [];\n",
              "\n",
              "    root._bokeh_onload_callbacks.push(callback);\n",
              "    if (root._bokeh_is_loading > 0) {\n",
              "      console.debug(\"Bokeh: BokehJS is being loaded, scheduling callback at\", now());\n",
              "      return null;\n",
              "    }\n",
              "    if (js_urls == null || js_urls.length === 0) {\n",
              "      run_callbacks();\n",
              "      return null;\n",
              "    }\n",
              "    console.debug(\"Bokeh: BokehJS not loaded, scheduling load and callback at\", now());\n",
              "    root._bokeh_is_loading = css_urls.length + js_urls.length;\n",
              "\n",
              "    function on_load() {\n",
              "      root._bokeh_is_loading--;\n",
              "      if (root._bokeh_is_loading === 0) {\n",
              "        console.debug(\"Bokeh: all BokehJS libraries/stylesheets loaded\");\n",
              "        run_callbacks()\n",
              "      }\n",
              "    }\n",
              "\n",
              "    function on_error(url) {\n",
              "      console.error(\"failed to load \" + url);\n",
              "    }\n",
              "\n",
              "    for (let i = 0; i < css_urls.length; i++) {\n",
              "      const url = css_urls[i];\n",
              "      const element = document.createElement(\"link\");\n",
              "      element.onload = on_load;\n",
              "      element.onerror = on_error.bind(null, url);\n",
              "      element.rel = \"stylesheet\";\n",
              "      element.type = \"text/css\";\n",
              "      element.href = url;\n",
              "      console.debug(\"Bokeh: injecting link tag for BokehJS stylesheet: \", url);\n",
              "      document.body.appendChild(element);\n",
              "    }\n",
              "\n",
              "    const hashes = {\"https://cdn.bokeh.org/bokeh/release/bokeh-2.3.3.min.js\": \"dM3QQsP+wXdHg42wTqW85BjZQdLNNIXqlPw/BgKoExPmTG7ZLML4EGqLMfqHT6ON\", \"https://cdn.bokeh.org/bokeh/release/bokeh-tables-2.3.3.min.js\": \"8x57I4YuIfu8XyZfFo0XVr2WAT8EK4rh/uDe3wF7YuW2FNUSNEpJbsPaB1nJ2fz2\", \"https://cdn.bokeh.org/bokeh/release/bokeh-widgets-2.3.3.min.js\": \"3QTqdz9LyAm2i0sG5XTePsHec3UHWwVsrOL68SYRoAXsafvfAyqtQ+h440+qIBhS\"};\n",
              "\n",
              "    for (let i = 0; i < js_urls.length; i++) {\n",
              "      const url = js_urls[i];\n",
              "      const element = document.createElement('script');\n",
              "      element.onload = on_load;\n",
              "      element.onerror = on_error.bind(null, url);\n",
              "      element.async = false;\n",
              "      element.src = url;\n",
              "      if (url in hashes) {\n",
              "        element.crossOrigin = \"anonymous\";\n",
              "        element.integrity = \"sha384-\" + hashes[url];\n",
              "      }\n",
              "      console.debug(\"Bokeh: injecting script tag for BokehJS library: \", url);\n",
              "      document.head.appendChild(element);\n",
              "    }\n",
              "  };\n",
              "\n",
              "  function inject_raw_css(css) {\n",
              "    const element = document.createElement(\"style\");\n",
              "    element.appendChild(document.createTextNode(css));\n",
              "    document.body.appendChild(element);\n",
              "  }\n",
              "\n",
              "  \n",
              "  var js_urls = [\"https://cdn.bokeh.org/bokeh/release/bokeh-2.3.3.min.js\", \"https://cdn.bokeh.org/bokeh/release/bokeh-widgets-2.3.3.min.js\", \"https://cdn.bokeh.org/bokeh/release/bokeh-tables-2.3.3.min.js\"];\n",
              "  var css_urls = [];\n",
              "  \n",
              "\n",
              "  var inline_js = [\n",
              "    function(Bokeh) {\n",
              "      Bokeh.set_log_level(\"info\");\n",
              "    },\n",
              "    function(Bokeh) {\n",
              "    \n",
              "    \n",
              "    }\n",
              "  ];\n",
              "\n",
              "  function run_inline_js() {\n",
              "    \n",
              "    if (root.Bokeh !== undefined || force === true) {\n",
              "      \n",
              "    for (var i = 0; i < inline_js.length; i++) {\n",
              "      inline_js[i].call(root, root.Bokeh);\n",
              "    }\n",
              "    } else if (Date.now() < root._bokeh_timeout) {\n",
              "      setTimeout(run_inline_js, 100);\n",
              "    } else if (!root._bokeh_failed_load) {\n",
              "      console.log(\"Bokeh: BokehJS failed to load within specified timeout.\");\n",
              "      root._bokeh_failed_load = true;\n",
              "    } else if (force !== true) {\n",
              "      var cell = $(document.getElementById(null)).parents('.cell').data().cell;\n",
              "      cell.output_area.append_execute_result(NB_LOAD_WARNING)\n",
              "    }\n",
              "\n",
              "  }\n",
              "\n",
              "  if (root._bokeh_is_loading === 0) {\n",
              "    console.debug(\"Bokeh: BokehJS loaded, going straight to plotting\");\n",
              "    run_inline_js();\n",
              "  } else {\n",
              "    load_libs(css_urls, js_urls, function() {\n",
              "      console.debug(\"Bokeh: BokehJS plotting callback run at\", now());\n",
              "      run_inline_js();\n",
              "    });\n",
              "  }\n",
              "}(window));"
            ],
            "application/vnd.bokehjs_load.v0+json": "\n(function(root) {\n  function now() {\n    return new Date();\n  }\n\n  var force = true;\n\n  if (typeof root._bokeh_onload_callbacks === \"undefined\" || force === true) {\n    root._bokeh_onload_callbacks = [];\n    root._bokeh_is_loading = undefined;\n  }\n\n  \n\n  \n  if (typeof (root._bokeh_timeout) === \"undefined\" || force === true) {\n    root._bokeh_timeout = Date.now() + 5000;\n    root._bokeh_failed_load = false;\n  }\n\n  var NB_LOAD_WARNING = {'data': {'text/html':\n     \"<div style='background-color: #fdd'>\\n\"+\n     \"<p>\\n\"+\n     \"BokehJS does not appear to have successfully loaded. If loading BokehJS from CDN, this \\n\"+\n     \"may be due to a slow or bad network connection. Possible fixes:\\n\"+\n     \"</p>\\n\"+\n     \"<ul>\\n\"+\n     \"<li>re-rerun `output_notebook()` to attempt to load from CDN again, or</li>\\n\"+\n     \"<li>use INLINE resources instead, as so:</li>\\n\"+\n     \"</ul>\\n\"+\n     \"<code>\\n\"+\n     \"from bokeh.resources import INLINE\\n\"+\n     \"output_notebook(resources=INLINE)\\n\"+\n     \"</code>\\n\"+\n     \"</div>\"}};\n\n  function display_loaded() {\n    var el = document.getElementById(null);\n    if (el != null) {\n      el.textContent = \"BokehJS is loading...\";\n    }\n    if (root.Bokeh !== undefined) {\n      if (el != null) {\n        el.textContent = \"BokehJS \" + root.Bokeh.version + \" successfully loaded.\";\n      }\n    } else if (Date.now() < root._bokeh_timeout) {\n      setTimeout(display_loaded, 100)\n    }\n  }\n\n\n  function run_callbacks() {\n    try {\n      root._bokeh_onload_callbacks.forEach(function(callback) {\n        if (callback != null)\n          callback();\n      });\n    } finally {\n      delete root._bokeh_onload_callbacks\n    }\n    console.debug(\"Bokeh: all callbacks have finished\");\n  }\n\n  function load_libs(css_urls, js_urls, callback) {\n    if (css_urls == null) css_urls = [];\n    if (js_urls == null) js_urls = [];\n\n    root._bokeh_onload_callbacks.push(callback);\n    if (root._bokeh_is_loading > 0) {\n      console.debug(\"Bokeh: BokehJS is being loaded, scheduling callback at\", now());\n      return null;\n    }\n    if (js_urls == null || js_urls.length === 0) {\n      run_callbacks();\n      return null;\n    }\n    console.debug(\"Bokeh: BokehJS not loaded, scheduling load and callback at\", now());\n    root._bokeh_is_loading = css_urls.length + js_urls.length;\n\n    function on_load() {\n      root._bokeh_is_loading--;\n      if (root._bokeh_is_loading === 0) {\n        console.debug(\"Bokeh: all BokehJS libraries/stylesheets loaded\");\n        run_callbacks()\n      }\n    }\n\n    function on_error(url) {\n      console.error(\"failed to load \" + url);\n    }\n\n    for (let i = 0; i < css_urls.length; i++) {\n      const url = css_urls[i];\n      const element = document.createElement(\"link\");\n      element.onload = on_load;\n      element.onerror = on_error.bind(null, url);\n      element.rel = \"stylesheet\";\n      element.type = \"text/css\";\n      element.href = url;\n      console.debug(\"Bokeh: injecting link tag for BokehJS stylesheet: \", url);\n      document.body.appendChild(element);\n    }\n\n    const hashes = {\"https://cdn.bokeh.org/bokeh/release/bokeh-2.3.3.min.js\": \"dM3QQsP+wXdHg42wTqW85BjZQdLNNIXqlPw/BgKoExPmTG7ZLML4EGqLMfqHT6ON\", \"https://cdn.bokeh.org/bokeh/release/bokeh-tables-2.3.3.min.js\": \"8x57I4YuIfu8XyZfFo0XVr2WAT8EK4rh/uDe3wF7YuW2FNUSNEpJbsPaB1nJ2fz2\", \"https://cdn.bokeh.org/bokeh/release/bokeh-widgets-2.3.3.min.js\": \"3QTqdz9LyAm2i0sG5XTePsHec3UHWwVsrOL68SYRoAXsafvfAyqtQ+h440+qIBhS\"};\n\n    for (let i = 0; i < js_urls.length; i++) {\n      const url = js_urls[i];\n      const element = document.createElement('script');\n      element.onload = on_load;\n      element.onerror = on_error.bind(null, url);\n      element.async = false;\n      element.src = url;\n      if (url in hashes) {\n        element.crossOrigin = \"anonymous\";\n        element.integrity = \"sha384-\" + hashes[url];\n      }\n      console.debug(\"Bokeh: injecting script tag for BokehJS library: \", url);\n      document.head.appendChild(element);\n    }\n  };\n\n  function inject_raw_css(css) {\n    const element = document.createElement(\"style\");\n    element.appendChild(document.createTextNode(css));\n    document.body.appendChild(element);\n  }\n\n  \n  var js_urls = [\"https://cdn.bokeh.org/bokeh/release/bokeh-2.3.3.min.js\", \"https://cdn.bokeh.org/bokeh/release/bokeh-widgets-2.3.3.min.js\", \"https://cdn.bokeh.org/bokeh/release/bokeh-tables-2.3.3.min.js\"];\n  var css_urls = [];\n  \n\n  var inline_js = [\n    function(Bokeh) {\n      Bokeh.set_log_level(\"info\");\n    },\n    function(Bokeh) {\n    \n    \n    }\n  ];\n\n  function run_inline_js() {\n    \n    if (root.Bokeh !== undefined || force === true) {\n      \n    for (var i = 0; i < inline_js.length; i++) {\n      inline_js[i].call(root, root.Bokeh);\n    }\n    } else if (Date.now() < root._bokeh_timeout) {\n      setTimeout(run_inline_js, 100);\n    } else if (!root._bokeh_failed_load) {\n      console.log(\"Bokeh: BokehJS failed to load within specified timeout.\");\n      root._bokeh_failed_load = true;\n    } else if (force !== true) {\n      var cell = $(document.getElementById(null)).parents('.cell').data().cell;\n      cell.output_area.append_execute_result(NB_LOAD_WARNING)\n    }\n\n  }\n\n  if (root._bokeh_is_loading === 0) {\n    console.debug(\"Bokeh: BokehJS loaded, going straight to plotting\");\n    run_inline_js();\n  } else {\n    load_libs(css_urls, js_urls, function() {\n      console.debug(\"Bokeh: BokehJS plotting callback run at\", now());\n      run_inline_js();\n    });\n  }\n}(window));"
          },
          "metadata": {}
        },
        {
          "output_type": "display_data",
          "data": {
            "text/html": [
              "\n",
              "\n",
              "\n",
              "\n",
              "\n",
              "\n",
              "  <div class=\"bk-root\" id=\"3cecb796-c5c8-4a14-9aac-0f40cd592620\" data-root-id=\"1363\"></div>\n"
            ]
          },
          "metadata": {}
        },
        {
          "output_type": "display_data",
          "data": {
            "application/javascript": [
              "(function(root) {\n",
              "  function embed_document(root) {\n",
              "    \n",
              "  var docs_json = {\"f0052cb7-94ea-4fe4-a5f1-7b98674b4b5d\":{\"defs\":[],\"roots\":{\"references\":[{\"attributes\":{\"below\":[{\"id\":\"1372\"}],\"center\":[{\"id\":\"1375\"},{\"id\":\"1379\"}],\"height\":400,\"left\":[{\"id\":\"1376\"}],\"renderers\":[{\"id\":\"1397\"}],\"title\":{\"id\":\"1435\"},\"toolbar\":{\"id\":\"1387\"},\"x_range\":{\"id\":\"1364\"},\"x_scale\":{\"id\":\"1368\"},\"y_range\":{\"id\":\"1366\"},\"y_scale\":{\"id\":\"1370\"}},\"id\":\"1363\",\"subtype\":\"Figure\",\"type\":\"Plot\"},{\"attributes\":{},\"id\":\"1443\",\"type\":\"UnionRenderers\"},{\"attributes\":{\"axis\":{\"id\":\"1372\"},\"ticker\":null},\"id\":\"1375\",\"type\":\"Grid\"},{\"attributes\":{},\"id\":\"1383\",\"type\":\"SaveTool\"},{\"attributes\":{},\"id\":\"1366\",\"type\":\"DataRange1d\"},{\"attributes\":{\"active_multi\":null,\"active_scroll\":{\"id\":\"1381\"},\"tools\":[{\"id\":\"1380\"},{\"id\":\"1381\"},{\"id\":\"1382\"},{\"id\":\"1383\"},{\"id\":\"1384\"},{\"id\":\"1385\"},{\"id\":\"1399\"}]},\"id\":\"1387\",\"type\":\"Toolbar\"},{\"attributes\":{\"fill_alpha\":{\"value\":0.25},\"fill_color\":{\"field\":\"color\"},\"line_alpha\":{\"value\":0.25},\"line_color\":{\"field\":\"color\"},\"size\":{\"value\":10},\"x\":{\"field\":\"x\"},\"y\":{\"field\":\"y\"}},\"id\":\"1395\",\"type\":\"Scatter\"},{\"attributes\":{\"overlay\":{\"id\":\"1386\"}},\"id\":\"1382\",\"type\":\"BoxZoomTool\"},{\"attributes\":{\"source\":{\"id\":\"1362\"}},\"id\":\"1398\",\"type\":\"CDSView\"},{\"attributes\":{},\"id\":\"1370\",\"type\":\"LinearScale\"},{\"attributes\":{\"formatter\":{\"id\":\"1436\"},\"major_label_policy\":{\"id\":\"1437\"},\"ticker\":{\"id\":\"1377\"}},\"id\":\"1376\",\"type\":\"LinearAxis\"},{\"attributes\":{\"axis\":{\"id\":\"1376\"},\"dimension\":1,\"ticker\":null},\"id\":\"1379\",\"type\":\"Grid\"},{\"attributes\":{},\"id\":\"1364\",\"type\":\"DataRange1d\"},{\"attributes\":{},\"id\":\"1381\",\"type\":\"WheelZoomTool\"},{\"attributes\":{},\"id\":\"1385\",\"type\":\"HelpTool\"},{\"attributes\":{},\"id\":\"1377\",\"type\":\"BasicTicker\"},{\"attributes\":{},\"id\":\"1368\",\"type\":\"LinearScale\"},{\"attributes\":{\"formatter\":{\"id\":\"1439\"},\"major_label_policy\":{\"id\":\"1440\"},\"ticker\":{\"id\":\"1373\"}},\"id\":\"1372\",\"type\":\"LinearAxis\"},{\"attributes\":{},\"id\":\"1444\",\"type\":\"Selection\"},{\"attributes\":{},\"id\":\"1380\",\"type\":\"PanTool\"},{\"attributes\":{},\"id\":\"1439\",\"type\":\"BasicTickFormatter\"},{\"attributes\":{},\"id\":\"1373\",\"type\":\"BasicTicker\"},{\"attributes\":{},\"id\":\"1436\",\"type\":\"BasicTickFormatter\"},{\"attributes\":{\"data_source\":{\"id\":\"1362\"},\"glyph\":{\"id\":\"1395\"},\"hover_glyph\":null,\"muted_glyph\":null,\"nonselection_glyph\":{\"id\":\"1396\"},\"view\":{\"id\":\"1398\"}},\"id\":\"1397\",\"type\":\"GlyphRenderer\"},{\"attributes\":{},\"id\":\"1435\",\"type\":\"Title\"},{\"attributes\":{\"bottom_units\":\"screen\",\"fill_alpha\":0.5,\"fill_color\":\"lightgrey\",\"left_units\":\"screen\",\"level\":\"overlay\",\"line_alpha\":1.0,\"line_color\":\"black\",\"line_dash\":[4,4],\"line_width\":2,\"right_units\":\"screen\",\"syncable\":false,\"top_units\":\"screen\"},\"id\":\"1386\",\"type\":\"BoxAnnotation\"},{\"attributes\":{\"callback\":null,\"tooltips\":[]},\"id\":\"1399\",\"type\":\"HoverTool\"},{\"attributes\":{},\"id\":\"1437\",\"type\":\"AllLabels\"},{\"attributes\":{},\"id\":\"1384\",\"type\":\"ResetTool\"},{\"attributes\":{\"fill_alpha\":{\"value\":0.1},\"fill_color\":{\"field\":\"color\"},\"line_alpha\":{\"value\":0.1},\"line_color\":{\"field\":\"color\"},\"size\":{\"value\":10},\"x\":{\"field\":\"x\"},\"y\":{\"field\":\"y\"}},\"id\":\"1396\",\"type\":\"Scatter\"},{\"attributes\":{},\"id\":\"1440\",\"type\":\"AllLabels\"},{\"attributes\":{\"data\":{\"color\":[\"red\",\"blue\",\"red\",\"green\",\"yellow\",\"blue\",\"red\",\"red\",\"green\",\"blue\",\"violet\",\"red\",\"blue\",\"blue\",\"red\",\"violet\",\"blue\",\"yellow\",\"red\",\"green\",\"green\",\"red\",\"yellow\",\"red\",\"yellow\",\"yellow\",\"red\",\"red\",\"red\",\"blue\",\"red\",\"red\",\"blue\",\"red\",\"red\",\"red\",\"red\",\"yellow\",\"green\",\"blue\",\"blue\",\"yellow\",\"green\",\"red\",\"yellow\",\"green\",\"yellow\",\"yellow\",\"violet\",\"green\",\"red\",\"violet\",\"red\",\"green\",\"violet\",\"yellow\",\"violet\",\"yellow\",\"red\",\"violet\",\"green\",\"red\",\"red\",\"blue\",\"green\",\"green\",\"red\",\"violet\",\"green\",\"red\",\"red\",\"green\",\"green\",\"yellow\",\"yellow\",\"red\",\"blue\",\"yellow\",\"red\",\"green\",\"red\",\"green\",\"red\",\"red\",\"yellow\",\"green\",\"red\",\"violet\",\"blue\",\"red\",\"red\",\"blue\",\"red\",\"blue\",\"yellow\",\"green\",\"green\",\"yellow\",\"violet\",\"violet\",\"green\",\"blue\",\"blue\",\"yellow\",\"red\",\"green\",\"blue\",\"violet\",\"yellow\",\"yellow\",\"blue\",\"blue\",\"blue\",\"violet\",\"violet\",\"violet\",\"red\",\"violet\",\"blue\",\"green\",\"violet\",\"violet\",\"violet\",\"violet\",\"red\",\"red\",\"yellow\",\"yellow\",\"green\",\"blue\",\"red\",\"yellow\",\"green\",\"blue\",\"yellow\",\"blue\",\"green\",\"green\",\"blue\",\"violet\",\"red\",\"red\",\"yellow\",\"blue\",\"violet\",\"green\",\"violet\",\"green\",\"yellow\",\"red\",\"violet\",\"yellow\",\"red\",\"red\",\"blue\",\"yellow\",\"violet\",\"red\",\"blue\",\"green\",\"red\",\"red\",\"yellow\",\"green\",\"blue\",\"blue\",\"red\",\"red\",\"green\",\"green\",\"violet\",\"red\",\"green\",\"violet\",\"red\",\"blue\",\"red\",\"blue\",\"yellow\",\"blue\",\"blue\",\"red\",\"yellow\",\"blue\",\"yellow\",\"violet\",\"green\",\"blue\",\"violet\",\"yellow\",\"violet\",\"blue\",\"yellow\",\"green\",\"violet\",\"red\",\"yellow\",\"violet\",\"blue\",\"blue\",\"violet\",\"red\",\"violet\",\"green\",\"red\",\"violet\",\"blue\",\"violet\",\"yellow\",\"green\",\"red\",\"yellow\",\"blue\",\"green\",\"red\",\"green\",\"green\",\"blue\",\"blue\",\"violet\",\"violet\",\"yellow\",\"violet\",\"violet\",\"violet\",\"green\",\"violet\",\"red\",\"green\",\"violet\",\"blue\",\"red\",\"violet\",\"green\",\"red\",\"violet\",\"yellow\",\"red\",\"red\",\"yellow\",\"yellow\",\"blue\",\"red\",\"green\",\"green\",\"blue\",\"yellow\",\"green\",\"green\",\"green\",\"yellow\",\"yellow\",\"violet\",\"yellow\",\"yellow\",\"violet\",\"yellow\",\"red\",\"violet\",\"green\",\"yellow\",\"red\",\"blue\",\"blue\",\"red\",\"red\",\"blue\",\"blue\",\"blue\",\"yellow\",\"violet\",\"violet\",\"violet\",\"yellow\",\"red\",\"green\",\"yellow\",\"yellow\",\"green\",\"red\",\"blue\",\"violet\",\"violet\",\"green\",\"violet\",\"blue\",\"blue\",\"yellow\",\"blue\",\"red\",\"blue\",\"yellow\",\"blue\",\"violet\",\"green\",\"red\",\"green\",\"green\",\"blue\",\"red\",\"yellow\",\"red\",\"blue\",\"red\",\"red\",\"blue\",\"red\",\"red\",\"red\",\"red\",\"red\",\"blue\",\"blue\",\"violet\",\"yellow\",\"green\",\"violet\",\"red\",\"yellow\",\"green\",\"red\",\"violet\",\"yellow\",\"yellow\",\"green\",\"violet\",\"violet\",\"yellow\",\"yellow\",\"violet\",\"green\",\"red\",\"violet\",\"violet\",\"green\",\"red\",\"yellow\",\"violet\",\"yellow\",\"blue\",\"green\",\"green\",\"yellow\",\"red\",\"blue\",\"red\",\"blue\",\"green\",\"blue\",\"blue\",\"red\",\"blue\",\"violet\",\"violet\",\"green\",\"yellow\",\"yellow\",\"green\",\"green\",\"yellow\",\"blue\",\"violet\",\"green\",\"green\",\"green\",\"green\",\"green\",\"green\",\"red\",\"red\",\"yellow\",\"violet\",\"red\",\"red\",\"red\",\"red\",\"green\",\"red\",\"violet\",\"green\",\"blue\",\"red\",\"blue\",\"yellow\",\"green\",\"red\",\"yellow\",\"violet\",\"violet\",\"blue\",\"blue\",\"violet\",\"green\",\"violet\",\"green\",\"red\",\"violet\",\"green\",\"blue\",\"red\",\"green\",\"yellow\",\"blue\",\"violet\",\"green\",\"blue\",\"green\",\"red\",\"blue\",\"green\",\"yellow\",\"violet\",\"green\",\"violet\",\"violet\",\"blue\",\"blue\",\"green\",\"violet\",\"violet\",\"blue\",\"yellow\",\"green\",\"green\",\"red\",\"red\",\"green\",\"blue\",\"red\",\"green\",\"yellow\",\"yellow\",\"red\",\"yellow\",\"green\",\"blue\",\"blue\",\"red\",\"blue\",\"violet\",\"green\",\"green\",\"green\",\"red\",\"violet\",\"yellow\",\"yellow\",\"violet\",\"red\",\"blue\",\"yellow\",\"yellow\",\"violet\",\"violet\",\"blue\",\"red\",\"red\",\"yellow\",\"violet\",\"red\",\"violet\",\"red\",\"red\",\"red\",\"red\",\"violet\",\"red\",\"red\",\"red\",\"blue\",\"red\",\"blue\",\"yellow\",\"violet\",\"violet\",\"red\",\"yellow\",\"red\",\"green\",\"red\",\"violet\",\"violet\",\"red\",\"blue\",\"green\",\"violet\",\"yellow\",\"green\",\"violet\",\"violet\",\"red\",\"yellow\",\"yellow\",\"blue\",\"red\",\"green\",\"violet\",\"violet\",\"yellow\",\"blue\",\"blue\",\"blue\",\"green\",\"blue\",\"blue\",\"violet\",\"yellow\",\"blue\",\"violet\",\"violet\",\"yellow\",\"green\",\"red\",\"violet\",\"yellow\",\"green\",\"green\",\"green\",\"violet\",\"blue\",\"red\",\"red\",\"red\",\"red\",\"red\",\"yellow\",\"red\",\"yellow\",\"green\",\"red\",\"violet\",\"red\",\"yellow\",\"green\",\"blue\",\"red\",\"green\",\"red\",\"green\",\"red\",\"yellow\",\"yellow\",\"green\",\"yellow\",\"violet\",\"green\",\"yellow\",\"violet\",\"blue\",\"yellow\",\"red\",\"violet\",\"red\",\"green\",\"red\",\"yellow\",\"red\",\"violet\",\"violet\",\"yellow\",\"yellow\",\"green\",\"violet\",\"yellow\",\"green\",\"green\",\"yellow\",\"yellow\",\"blue\",\"yellow\",\"red\",\"yellow\",\"green\",\"violet\",\"violet\",\"green\",\"violet\",\"yellow\",\"violet\",\"red\",\"green\",\"yellow\",\"red\",\"red\",\"violet\",\"blue\",\"blue\",\"red\",\"violet\",\"red\",\"red\",\"violet\",\"yellow\",\"yellow\",\"red\",\"green\",\"green\",\"green\",\"yellow\",\"violet\",\"violet\",\"blue\",\"blue\",\"red\",\"green\",\"yellow\",\"violet\",\"violet\",\"red\",\"blue\",\"violet\",\"blue\",\"violet\",\"green\",\"red\",\"blue\",\"blue\",\"violet\",\"blue\",\"blue\",\"red\",\"violet\",\"green\",\"blue\",\"blue\",\"green\",\"green\",\"violet\",\"green\",\"blue\",\"red\",\"red\",\"green\",\"violet\",\"blue\",\"green\",\"green\",\"blue\",\"yellow\",\"green\",\"yellow\",\"red\",\"violet\",\"violet\",\"red\",\"violet\",\"blue\",\"red\",\"violet\",\"violet\",\"green\",\"violet\",\"blue\",\"green\",\"blue\",\"blue\",\"green\",\"violet\",\"red\",\"yellow\",\"blue\",\"green\",\"violet\",\"yellow\",\"red\",\"red\",\"violet\",\"green\",\"red\",\"yellow\",\"red\",\"violet\",\"blue\",\"red\",\"violet\",\"red\",\"red\",\"blue\",\"violet\",\"red\",\"yellow\",\"yellow\",\"green\",\"violet\",\"violet\",\"red\",\"red\",\"red\",\"blue\",\"yellow\",\"blue\",\"yellow\",\"green\",\"violet\",\"green\",\"blue\",\"yellow\",\"red\",\"blue\",\"blue\",\"violet\",\"violet\",\"violet\",\"yellow\",\"green\",\"green\",\"blue\",\"violet\",\"green\",\"violet\",\"violet\",\"violet\",\"green\",\"violet\",\"violet\",\"yellow\",\"blue\",\"red\",\"red\",\"yellow\",\"violet\",\"violet\",\"red\",\"red\",\"yellow\",\"yellow\",\"green\",\"red\",\"green\",\"yellow\",\"violet\",\"red\",\"blue\",\"yellow\",\"violet\",\"green\",\"violet\",\"red\",\"blue\",\"violet\",\"violet\",\"violet\",\"violet\",\"green\",\"violet\",\"blue\",\"violet\",\"violet\",\"red\",\"red\",\"red\",\"red\",\"green\",\"yellow\",\"blue\",\"red\",\"blue\",\"blue\",\"green\",\"green\",\"yellow\",\"red\",\"yellow\",\"blue\",\"green\",\"green\",\"red\",\"yellow\",\"violet\",\"red\",\"yellow\",\"red\",\"yellow\",\"violet\",\"violet\",\"red\",\"violet\",\"red\",\"yellow\",\"yellow\",\"yellow\",\"violet\",\"green\",\"red\",\"violet\",\"green\",\"violet\",\"yellow\",\"green\",\"green\",\"violet\",\"violet\",\"violet\",\"violet\",\"green\",\"red\",\"violet\",\"yellow\",\"yellow\",\"violet\",\"green\",\"yellow\",\"yellow\",\"violet\",\"violet\",\"yellow\",\"red\",\"yellow\",\"blue\",\"yellow\",\"violet\",\"blue\",\"green\",\"yellow\",\"yellow\",\"violet\",\"yellow\",\"blue\",\"green\",\"violet\",\"blue\",\"red\",\"violet\",\"yellow\",\"yellow\",\"green\",\"green\",\"red\",\"blue\",\"green\",\"yellow\",\"red\",\"green\",\"green\",\"green\",\"red\",\"blue\",\"red\",\"blue\",\"green\",\"violet\",\"blue\",\"blue\",\"blue\",\"violet\",\"red\",\"violet\",\"green\",\"blue\",\"blue\",\"violet\",\"yellow\",\"green\",\"yellow\",\"red\",\"green\",\"yellow\",\"green\",\"violet\",\"red\",\"yellow\",\"blue\",\"yellow\",\"yellow\",\"violet\",\"red\",\"blue\",\"blue\",\"red\",\"red\",\"yellow\",\"violet\",\"blue\",\"violet\",\"violet\",\"green\",\"red\",\"violet\",\"green\",\"green\",\"violet\",\"violet\",\"violet\",\"blue\",\"blue\",\"violet\",\"violet\",\"yellow\",\"violet\",\"violet\",\"yellow\",\"red\",\"violet\",\"yellow\",\"blue\",\"violet\",\"violet\",\"blue\",\"yellow\",\"green\",\"yellow\",\"red\",\"violet\",\"red\",\"violet\",\"green\",\"yellow\",\"violet\",\"yellow\",\"yellow\",\"red\",\"blue\",\"green\",\"red\",\"blue\",\"violet\",\"blue\",\"blue\",\"red\",\"blue\",\"yellow\",\"red\",\"violet\",\"violet\",\"violet\",\"green\",\"red\",\"yellow\",\"violet\",\"red\",\"red\",\"red\",\"red\",\"red\",\"red\",\"blue\",\"blue\",\"violet\",\"red\",\"red\",\"blue\",\"green\",\"green\",\"yellow\",\"red\",\"violet\",\"violet\",\"yellow\",\"blue\",\"yellow\",\"violet\",\"red\",\"yellow\",\"red\",\"blue\",\"yellow\",\"green\",\"red\",\"red\",\"red\",\"red\",\"red\",\"red\",\"yellow\",\"blue\",\"red\",\"yellow\",\"red\",\"blue\",\"violet\",\"red\",\"blue\",\"yellow\",\"blue\",\"red\",\"green\",\"blue\",\"violet\",\"red\",\"blue\",\"green\",\"red\",\"blue\",\"red\",\"violet\",\"green\",\"yellow\",\"yellow\",\"blue\",\"green\",\"yellow\",\"yellow\",\"yellow\",\"violet\",\"green\",\"blue\",\"blue\",\"red\",\"red\",\"blue\",\"yellow\",\"red\",\"blue\",\"red\",\"red\",\"green\",\"red\",\"violet\",\"blue\",\"violet\",\"yellow\",\"blue\",\"violet\",\"green\",\"blue\",\"violet\",\"red\",\"green\",\"yellow\",\"green\",\"violet\",\"green\",\"red\",\"violet\",\"green\",\"violet\",\"red\",\"red\",\"violet\",\"violet\",\"red\",\"violet\",\"yellow\",\"green\",\"yellow\",\"blue\",\"yellow\",\"violet\",\"violet\",\"green\",\"yellow\",\"red\",\"red\",\"green\",\"red\",\"green\",\"red\",\"yellow\",\"violet\",\"yellow\",\"yellow\",\"blue\",\"violet\",\"yellow\",\"green\",\"green\",\"yellow\",\"violet\",\"violet\",\"green\",\"yellow\",\"red\",\"violet\",\"green\",\"blue\",\"green\",\"green\",\"green\",\"blue\",\"violet\",\"violet\",\"green\",\"violet\",\"green\",\"violet\",\"green\",\"yellow\",\"red\",\"violet\",\"violet\",\"violet\",\"green\",\"violet\",\"red\",\"violet\",\"red\",\"green\",\"red\",\"yellow\",\"violet\",\"green\",\"yellow\",\"violet\",\"yellow\",\"yellow\",\"violet\",\"green\",\"green\",\"yellow\",\"blue\",\"yellow\",\"blue\",\"yellow\",\"violet\",\"yellow\",\"violet\",\"red\",\"violet\",\"violet\",\"red\",\"red\",\"blue\",\"red\",\"blue\",\"yellow\",\"violet\",\"violet\",\"red\",\"violet\",\"violet\",\"green\",\"red\",\"yellow\",\"yellow\",\"red\",\"red\",\"blue\",\"blue\",\"red\",\"green\",\"yellow\",\"violet\",\"blue\",\"green\",\"violet\",\"violet\",\"violet\",\"violet\",\"green\",\"red\",\"green\",\"violet\",\"violet\",\"blue\",\"green\",\"blue\",\"red\",\"yellow\",\"blue\",\"red\",\"yellow\",\"yellow\",\"red\",\"blue\",\"yellow\",\"violet\",\"green\",\"violet\",\"violet\",\"green\",\"blue\",\"blue\",\"violet\",\"blue\",\"blue\",\"green\",\"blue\",\"yellow\",\"yellow\",\"blue\",\"yellow\",\"violet\",\"red\",\"green\",\"red\",\"blue\",\"red\",\"yellow\",\"red\",\"blue\",\"green\",\"yellow\",\"violet\",\"green\",\"green\",\"red\",\"blue\",\"green\",\"blue\",\"red\",\"blue\",\"yellow\",\"blue\",\"yellow\",\"red\",\"yellow\",\"red\",\"yellow\",\"red\",\"blue\",\"blue\",\"green\",\"blue\",\"violet\",\"blue\",\"violet\",\"blue\",\"green\",\"violet\",\"green\",\"blue\",\"green\",\"violet\",\"violet\",\"violet\",\"green\",\"yellow\",\"red\",\"red\",\"red\",\"blue\",\"violet\",\"green\",\"blue\",\"red\",\"yellow\",\"red\",\"violet\",\"red\",\"yellow\",\"violet\",\"violet\",\"yellow\",\"red\",\"green\",\"green\",\"yellow\",\"red\",\"violet\",\"red\",\"blue\",\"red\",\"blue\",\"red\",\"violet\",\"red\",\"violet\",\"violet\",\"violet\",\"green\",\"violet\",\"red\",\"red\",\"yellow\",\"violet\",\"violet\",\"blue\",\"red\",\"yellow\",\"blue\",\"green\",\"violet\",\"yellow\",\"green\",\"green\",\"violet\",\"yellow\",\"red\",\"red\",\"red\",\"yellow\",\"yellow\",\"blue\",\"red\",\"blue\",\"yellow\",\"red\",\"violet\",\"violet\",\"yellow\",\"blue\",\"yellow\",\"yellow\",\"red\",\"red\",\"green\",\"violet\",\"red\",\"green\",\"red\",\"green\",\"green\",\"blue\",\"green\",\"blue\",\"red\",\"red\",\"green\",\"blue\",\"violet\",\"yellow\",\"red\",\"blue\",\"violet\",\"yellow\",\"red\",\"violet\",\"blue\",\"yellow\",\"green\",\"red\",\"yellow\",\"red\",\"green\",\"blue\",\"violet\",\"violet\",\"red\",\"violet\",\"green\",\"violet\",\"blue\",\"violet\",\"green\",\"blue\",\"violet\",\"blue\",\"yellow\",\"blue\",\"green\",\"red\",\"yellow\",\"red\",\"blue\",\"red\",\"red\",\"green\",\"red\",\"green\",\"yellow\",\"violet\",\"green\",\"violet\",\"green\",\"violet\",\"red\",\"green\",\"yellow\",\"green\",\"violet\",\"green\",\"blue\",\"blue\",\"red\",\"green\",\"yellow\",\"blue\",\"red\",\"red\",\"yellow\",\"yellow\",\"yellow\",\"violet\",\"violet\",\"green\",\"red\",\"green\",\"violet\",\"green\",\"green\",\"red\",\"red\",\"violet\",\"red\",\"green\",\"violet\",\"yellow\",\"blue\",\"green\",\"blue\",\"red\",\"yellow\",\"green\",\"violet\",\"green\",\"yellow\",\"yellow\",\"blue\",\"yellow\",\"violet\",\"yellow\",\"red\",\"violet\",\"yellow\",\"green\",\"yellow\",\"red\",\"blue\",\"yellow\",\"blue\",\"red\",\"blue\",\"green\",\"violet\",\"red\",\"violet\",\"yellow\",\"green\",\"violet\",\"violet\",\"violet\",\"violet\",\"green\",\"violet\",\"yellow\",\"yellow\",\"blue\",\"red\",\"violet\",\"yellow\",\"violet\",\"blue\",\"blue\",\"violet\",\"violet\",\"violet\",\"violet\",\"red\",\"blue\",\"blue\",\"green\",\"violet\",\"blue\",\"green\",\"violet\",\"blue\",\"green\",\"violet\",\"green\",\"yellow\",\"blue\",\"blue\",\"yellow\",\"red\",\"green\",\"green\",\"green\",\"green\",\"yellow\",\"violet\",\"yellow\",\"red\",\"green\",\"red\",\"violet\",\"violet\",\"green\",\"violet\",\"blue\",\"blue\",\"blue\",\"red\",\"violet\",\"yellow\",\"green\",\"red\",\"yellow\",\"green\",\"green\",\"violet\",\"red\",\"violet\",\"violet\",\"green\",\"green\",\"green\",\"yellow\",\"green\",\"red\",\"green\",\"red\",\"red\",\"red\",\"violet\",\"blue\",\"red\",\"violet\",\"yellow\",\"violet\",\"yellow\",\"green\",\"green\",\"red\",\"red\",\"red\",\"yellow\",\"green\",\"green\",\"violet\",\"green\",\"yellow\",\"blue\",\"red\",\"blue\",\"violet\",\"violet\",\"blue\",\"blue\",\"blue\",\"blue\",\"red\",\"yellow\",\"blue\",\"violet\",\"yellow\",\"blue\",\"violet\",\"red\",\"red\",\"green\",\"red\",\"red\",\"green\",\"red\",\"red\",\"yellow\",\"yellow\",\"yellow\",\"yellow\",\"blue\",\"red\",\"violet\",\"red\",\"green\",\"yellow\",\"violet\",\"red\",\"violet\",\"blue\",\"green\",\"blue\",\"red\",\"green\",\"red\",\"green\",\"yellow\",\"green\",\"red\",\"violet\",\"blue\",\"violet\",\"green\",\"yellow\",\"red\",\"green\",\"yellow\",\"yellow\",\"violet\",\"blue\",\"green\",\"red\",\"red\",\"blue\",\"violet\",\"violet\",\"green\",\"green\",\"blue\",\"blue\",\"yellow\",\"violet\",\"violet\",\"blue\",\"violet\",\"green\",\"red\",\"green\",\"red\",\"blue\",\"green\",\"yellow\",\"red\",\"green\",\"red\",\"yellow\",\"violet\",\"green\",\"green\",\"yellow\",\"blue\",\"blue\",\"blue\",\"blue\",\"violet\",\"violet\",\"blue\",\"yellow\",\"yellow\",\"blue\",\"violet\",\"green\",\"blue\",\"yellow\",\"blue\",\"blue\",\"green\",\"green\",\"yellow\",\"blue\",\"red\",\"green\",\"red\",\"green\",\"green\",\"red\",\"red\",\"violet\",\"blue\",\"yellow\",\"blue\",\"red\",\"green\",\"green\",\"red\",\"red\",\"violet\",\"violet\",\"blue\",\"blue\",\"violet\",\"yellow\",\"violet\",\"violet\",\"blue\",\"violet\",\"green\",\"red\",\"violet\",\"violet\",\"violet\",\"red\",\"violet\",\"green\",\"red\",\"blue\",\"blue\",\"green\",\"green\",\"green\",\"violet\",\"green\",\"violet\",\"red\",\"violet\",\"yellow\",\"blue\",\"violet\",\"violet\",\"green\",\"yellow\",\"violet\",\"violet\",\"blue\",\"green\",\"yellow\",\"blue\",\"violet\",\"yellow\",\"blue\",\"blue\",\"violet\",\"blue\",\"yellow\",\"green\",\"blue\",\"yellow\",\"red\",\"red\",\"yellow\",\"violet\",\"red\",\"yellow\",\"red\",\"red\",\"red\",\"violet\",\"yellow\",\"green\",\"yellow\",\"red\",\"red\",\"green\",\"blue\",\"red\",\"green\",\"blue\",\"violet\",\"red\",\"red\",\"red\",\"blue\",\"green\",\"violet\",\"violet\",\"yellow\",\"violet\",\"red\",\"violet\",\"violet\",\"red\",\"violet\",\"violet\",\"violet\",\"violet\",\"violet\",\"blue\",\"yellow\",\"violet\",\"green\",\"red\",\"violet\",\"green\",\"violet\",\"red\",\"blue\",\"yellow\",\"green\",\"yellow\",\"red\",\"yellow\",\"green\",\"yellow\",\"blue\",\"green\",\"yellow\",\"red\",\"green\",\"green\",\"red\",\"blue\",\"green\",\"violet\",\"violet\",\"red\",\"violet\",\"yellow\",\"green\",\"red\",\"green\",\"green\",\"violet\",\"blue\",\"yellow\",\"blue\",\"red\",\"blue\",\"yellow\",\"blue\",\"violet\",\"yellow\",\"blue\",\"green\",\"green\",\"green\",\"violet\",\"violet\",\"yellow\",\"violet\",\"yellow\",\"blue\",\"green\",\"red\",\"yellow\",\"red\",\"green\",\"violet\",\"yellow\",\"red\",\"yellow\",\"red\",\"violet\",\"blue\",\"violet\",\"blue\",\"yellow\",\"violet\",\"blue\",\"red\",\"blue\",\"yellow\",\"red\",\"green\",\"green\",\"violet\",\"green\",\"violet\",\"yellow\",\"yellow\",\"violet\",\"blue\",\"yellow\",\"red\",\"blue\",\"red\",\"violet\",\"yellow\",\"green\",\"green\",\"yellow\",\"green\",\"yellow\",\"red\",\"green\",\"violet\",\"red\",\"violet\",\"yellow\",\"red\",\"blue\",\"violet\",\"red\",\"violet\",\"violet\",\"violet\",\"green\",\"violet\",\"violet\",\"yellow\",\"yellow\",\"yellow\",\"blue\",\"blue\",\"green\",\"green\",\"blue\",\"blue\",\"green\",\"red\",\"red\",\"green\",\"blue\",\"red\",\"yellow\",\"red\",\"violet\",\"yellow\",\"violet\",\"green\",\"red\",\"green\",\"yellow\",\"red\",\"red\",\"green\",\"yellow\",\"blue\",\"green\",\"blue\",\"violet\",\"blue\",\"red\",\"red\",\"green\",\"red\",\"yellow\",\"red\",\"red\",\"violet\",\"red\",\"red\",\"violet\",\"blue\",\"violet\",\"green\",\"red\",\"violet\",\"yellow\",\"green\",\"red\",\"violet\",\"red\",\"yellow\",\"blue\",\"blue\",\"blue\",\"green\",\"blue\",\"violet\",\"yellow\",\"yellow\",\"violet\",\"red\",\"violet\",\"yellow\",\"violet\",\"green\",\"blue\",\"blue\",\"blue\",\"violet\",\"violet\",\"yellow\",\"violet\",\"red\",\"violet\",\"green\",\"blue\",\"red\",\"yellow\",\"green\",\"violet\",\"yellow\",\"violet\",\"blue\",\"green\",\"blue\",\"red\",\"yellow\",\"yellow\",\"green\",\"red\",\"violet\",\"yellow\",\"blue\",\"blue\",\"violet\",\"yellow\",\"yellow\",\"red\",\"violet\",\"green\",\"violet\",\"red\",\"green\",\"blue\",\"blue\",\"red\",\"yellow\",\"violet\",\"red\",\"violet\",\"blue\",\"blue\",\"red\",\"red\",\"red\",\"violet\",\"violet\",\"violet\",\"yellow\",\"blue\",\"blue\",\"violet\",\"red\",\"red\",\"violet\",\"blue\",\"green\",\"green\",\"blue\",\"yellow\",\"yellow\",\"yellow\",\"red\",\"yellow\",\"blue\",\"green\",\"violet\",\"violet\",\"blue\",\"green\",\"violet\",\"violet\",\"red\",\"violet\",\"red\",\"violet\",\"red\",\"blue\",\"red\",\"yellow\",\"violet\",\"green\",\"red\",\"yellow\",\"green\",\"red\",\"yellow\",\"green\",\"yellow\",\"red\",\"blue\",\"yellow\",\"violet\",\"red\",\"violet\",\"green\",\"red\",\"red\",\"green\",\"violet\",\"red\",\"yellow\",\"violet\",\"yellow\",\"yellow\",\"red\",\"violet\",\"violet\",\"red\",\"red\",\"blue\",\"yellow\",\"violet\",\"blue\",\"blue\",\"green\",\"red\",\"blue\",\"yellow\",\"red\",\"violet\",\"red\",\"blue\",\"red\",\"blue\",\"violet\",\"yellow\",\"green\",\"yellow\",\"blue\",\"yellow\",\"violet\",\"yellow\",\"green\",\"violet\",\"blue\",\"red\",\"blue\",\"green\",\"violet\",\"yellow\",\"violet\",\"red\",\"red\",\"yellow\",\"red\",\"yellow\",\"violet\",\"red\",\"green\",\"violet\",\"violet\",\"blue\",\"blue\",\"blue\",\"red\",\"blue\",\"blue\",\"green\",\"green\",\"green\",\"green\",\"yellow\",\"violet\",\"green\",\"green\",\"violet\",\"blue\",\"green\",\"blue\",\"red\",\"green\",\"blue\",\"yellow\",\"red\",\"green\",\"violet\",\"violet\",\"blue\",\"violet\",\"green\",\"red\",\"red\",\"yellow\",\"blue\",\"yellow\",\"green\",\"yellow\",\"yellow\",\"red\",\"red\",\"blue\",\"green\",\"green\",\"red\",\"green\",\"red\",\"blue\",\"yellow\",\"violet\",\"violet\",\"yellow\",\"green\",\"red\",\"violet\",\"blue\",\"violet\",\"red\",\"blue\",\"blue\",\"violet\",\"red\",\"green\",\"blue\",\"green\",\"yellow\",\"green\",\"red\",\"violet\",\"violet\",\"green\",\"violet\",\"red\",\"violet\",\"blue\",\"yellow\",\"green\",\"green\",\"violet\",\"violet\",\"green\",\"violet\",\"violet\",\"red\",\"blue\",\"yellow\",\"yellow\",\"green\",\"violet\",\"red\",\"violet\",\"red\",\"violet\",\"red\",\"red\",\"yellow\",\"blue\",\"violet\",\"violet\",\"red\",\"violet\",\"blue\",\"red\",\"yellow\",\"violet\",\"yellow\",\"green\",\"red\",\"yellow\",\"violet\",\"red\",\"blue\",\"yellow\",\"red\",\"blue\",\"red\",\"green\",\"red\",\"red\",\"violet\",\"green\",\"blue\",\"blue\",\"blue\",\"yellow\",\"red\",\"yellow\",\"green\",\"red\",\"yellow\",\"red\",\"green\",\"violet\",\"blue\",\"yellow\",\"blue\",\"violet\",\"red\",\"red\",\"violet\",\"yellow\",\"red\",\"red\",\"violet\",\"red\",\"yellow\",\"red\",\"blue\",\"green\",\"violet\",\"yellow\",\"violet\",\"red\",\"red\",\"green\",\"red\",\"violet\",\"violet\",\"red\",\"violet\",\"red\",\"blue\",\"violet\",\"green\",\"yellow\",\"violet\",\"red\",\"red\",\"violet\",\"green\",\"red\",\"red\",\"blue\",\"blue\",\"violet\",\"yellow\",\"yellow\",\"violet\",\"green\",\"yellow\"],\"x\":{\"__ndarray__\":\"or4kvt3OYL2sIyG+7bfAvVFb4b2w8U8+owlKvj8Vhb1tOQY+STTTPYDePT6fuk2+m/HtPWqnvT0mdBS+lYVbPm+3mbx3teW9Le+GvuNtQDyfxPi9Of8uvr0m7L3PpTe+dwUbvnAqCL7wiVK+A/VWvq5XqLyZ6ec9jTo8vuKIS76lqLE9kX9nvli7F74t1U2+aSWHvTzyEb1gnI89j6SOPBIo070sXxW+ZPYou8F+Ob7iIAK+8uPDvLrRJL3Mcsy9fyudPFZl3rvBwkC+ZWAQPhBuNb6Syqe9ta5rPfTPQ75uGps+UnP5vbsXK75mJDA+SrQ6vWpJb76ZG1O+touBOyF/f7zECXQ9gddgvtINUj4lyhE9C1dgvk+nX705KIq8hiscvty6f764nQa+sspovm8Gqz3napW9PDQwvgGONj2lKHW+yRjTvTOrer42/dW9/46QPOMZFL79mXS+YWPtPZAGmj01WDm+8BpWvrnIED6XfV++2WJoPdbAhr2ycZY9nEyEPMpaj70Q/uM8TZsDPu+W3b27kUo9Zr7PPTbuMb5D2Re+j8A7vTlNLj56vTg+93iDvc55CL29/KY94PqJPMnylD1IzzA+C+ZNPis5vD2F6R++RhlYPokaBD0b9+29+AgfPkAa7T1P5C0+67KGPtNxTr6XfV++NyiEPZjzhr3Yu5i9kxoDPvdSf73Omf09wNz/uuZ4Zz4wJEG+DxMePnv2KT0Os7y9p1yzPazYhj6fiQG+pPIuvjTPD76VFsG9q1sDPvllXT0cLXE+triOPY9E573bFwy+wJgyPhg5OD2VoRW+PMHIvQOvfT4iuBS+n/R8PqyBo72svys+BG4lvtdqV76MyGm+pTuZvd+nYr1GJls+i7KbPa2/ib6VeVK+qkCZPB5kvby8G2w+6sMiviWIkL3hO5M+xeM5Pfxj1DyMY0+9ONnOubu4hb1RlGM+1oHVPZ2pJr7KWo+95mz4Pe6ITb2dgwE/3D9pvW8YUD4RchQ9WTFBve4WhT7jy+Y95wnqvU2Fdr1v/GM+T9wpvq1Gmb1PoHQ+YAsePtw4Oz2bPcE9GuI/vozUPD5w3OC9HbwjvrdIRT4XyJA9ieCGPu0EqTzconG9PM9EvruuXbsEjjE+RvC3vIlPTb7Z/JQ9RxU8vVvVnT1xggg+0Rh8Pu1/0z3vbda9P0yLPoFjgj4B04Q+rIWHvRk2MT67bDO+gDAbuwHThD6NPCM+jEQlvmKIIT5Q7Vu8D0P8vRaEcz5xBhW+MFBcvhwKKL7B2Qe+3JQpveb/7T1U2he+3V9ivE6KwL1UsBc++zg1vh3U9r0sRLy9/7bwPI42Dr6dL0S+31J3Putx5r3WSwW+ySB0PrLCLz1f2Eq+7w81PgPOnjwYbG69p25QvmcOTb12gzs++WO7ukpttr0N6Ho9/Zw4Pqmknj2m+2m8w86LPseUIT6BAYY8MHx3vRv4Db4lo+47Zxxfvt+6Pr1j1C289owbvrHlIT52jkM+8v4mPmHICLzSGBQ+QvyxPMj3BD5/bbc83nAdPsWDSb7q/uM9INnfvfHz7T12Wbc+/sw6voXECL3CiIe7vN+ePb2FIT4dAJO+IyjVvXCv170r2rM9QKyVveyxir18OCk+sohavs4tN745Vhe+wxnHvTTXxr01jYQ9XLOKPb0YmT65q9i9kLr0vDiOMz4qgHm92X0Qvs2Tvj3b3hi+ouBJPmAK8r1taEG9upcBvqxwkj7jq3E+cmwavt4ThTu6TTQ+Ui+ZvcfEQ74G0zY+WrROPiZlP71nyR++OSCrPB25gD4ceCm+7QQbPsrJ2b1kqIm9z78Ovi2HRL4JUam7slG6vcHUIz7enKu7GiogPht3aT1APs+9Qfb/PNUIQT69ie09Ia1bPUkE6L03xbi9y5K+PU/vWz0k6rm9tADjPWWnRj7NUcM8KeMFvrFw4r1w3OC9myoYvkach7wPRhy+2dMfvtGiBr5iOAw+eMvbvQpwLL6EwhK+7TGGvmktOL3KZWK+1KRVPvmi973NJyQ+UgtLvsHzsj3/wrO9TFUOvmqjDr7iIJ67krjPPUFghz5z5YQ9Ke0qPjibQT59JJE91PhVPj95gz0Sl16+ZhkrPr3Dzb08xso8qXwbvpTjF714NLm99vxVPQkZuT5ygSI9efIgPmn1u7w83oq+cJwTPY3tkzyTuv69LIJrPgyM4TyL6Ek+B8ppPh4Lrz0imjs+WwG/PWczLj64xNo91wFTPn6yBb4Ctsi91dN4va1VEbxpCDm+P3mDPQxzKT7Dvye+FH+XPb5u8b22M/u9tBlBvczR+jzap7m9YDlEPjmjfz15viy+d5bQPSbfLD5Q8Ls9t5cWvYhvz73itVS+cbgIPa1Gmb2wroE9yTRsPna1Rr0nRqY969gmvnCM0by6rAk+uVyBPoIuvD1TGfS9vWPhvVX99b1L92w+fS5jvqu0Cj6h/Vi+S3n3vdaHTL3VLU6+FuhoPsMxB76bFHu+wn9nvsfBoj0kvji+gGaWParN7Lx9BVA+HNNJPu+7Jb5rAxy+GaBPvmo/F7499KS9tCVNPrwbbD4/qkK+CyJbPq7/ob2emHk+SFQ2PXbdVb2pw0E+tCdwPmhpYr7eVQi+2BYkvr0W/D3VH+u9c2aovcWsIz7HAX4+k7r+vfx8Hz5crAw+gfvxPdAfpj36r8M90mUOvm/lRT6V2jC+v7ksPTz9VD4wwyA+Fs3CvUc4VDync16+rOQ9PsjErL0rIdY8rPH4vOOYc70shSY+/PsAPfEcA77r1Hm+ElhNvtHem77VH2i+yw1/vUACL76/b1C8mqCHPRh3/L05ShM+fNStvdWjVr70r1M9vxVnPWmnC76FcXy8ZaZkvjeyJr318kG9Z+ySveEUSL3P/i08dFwovrwpbj4lo+47t3KcvY3pUz7EuJ89hazRvYYIAr2esEQ+t0xYvoNX67zp4d69k8Fvvp/cUr5+nno+KZhJPr/xir19Y4M9c3odPTpDYz48A5q78xdmvM9TY7xVxwu+7BXLveZKKL3UubW9N6XRvSWD+70Jyxi+RicmPuOYNj6lX529Xs6CPhPjEb4tGHA+b9i9vXR6djxW5rG9N59vvjGK4b387i6961EKvQFh0D1dmVy+nxNhPnA1E76BaGa+Z4ZgPq3ukL2rvpG9awLKvQcF3jybEG89HuZwvZJjt7zxXEc9pDunPQmuIj4wsQO+0R0LvnPstb15SMW9HsEfPvSIZz7OoIq9G2q7PQPzEz5o5fA9veM6Pk0kHjwhtla+G+s7PvtlHj6kKSg+efe6Pc7bND2uPHm+jh89Pq2q3r3urUk+L0uvPRmLRD3AVb+9c43rPcFgG74cKEM9DLN5vgl3NLySa/89g4BaPhQmaj1r3q+9oZOjPdHK5j0xhhe+vg7UO0JHrr0hFKS9VjZNPiUkHT7eJFq+QEu4PT3Sv71FMie+wDNoPm1TXz75mqc9PTQdPrwgZD4iih2+bxk/PnaDOz60u5e9uqabPo0B3L2qoiu9+2UePrgZoL3vJUI+yl0Jvvff2r2cnMe9rVeQPqr/gryprLW9p/4nvrxqU74a7Gc+GVcEPvsg8L1LAGM+uCWEvqZnXL6i6sQ9LTe/PutKU77T2bK8GI4Fvh37sL1mlt49H3kePn4NC77J+xG+lhQyvmz8gD0lBke9kn1jPRx4Kb5+jA09atEGPR+nrr0DRtO9d7tKvnW8N77ZM1o+xhJivVRLZj45OT8+LkoNPrNncL2LMJ29Z+APvf5tSj1woA0+SwzCPOYC3j2HjHE+q7QKPp9Nc7v1PI8+75ZKPv/HGb4r2rM9yhC5vdyxf75nHF++SOf9Pbf5WT5rl0W+zZVQvlpi9L1ZWp09WqehvTNsAr7Xh409FjkjvgBYcj4QgAu+B51hOvwF0L2kKZM+OggCvgPMPD7Ghie+CJoWvGNoBz5sdZA+KwNWPomrcD57+uQ9D71BPgSOMT7od20+XEhDPuJ3Sb2Rkiu+F/klvn6Ipb0O6Yc82X0QvtYGDj2ccRi+i0HsPUttiz1T8wu8shXiPfVvO76d6UO+cmXPvUJ1wD0bFoM9hKD8vEHKS75VepO9JwIoPm5iHr4DPzW+ka0avvt/Br5Rh0Y+K9xuPnbGLr4oPFA+d5SvveUvCL7clCm9Zg/9vTnYjD4gZjE9uDUBvuaEMj7RPqC9Pk5rPtpgir0JTBm9ZcMPPfV1eT4MsjM+W+KePg8lIj63lxa9JoAbvv8UZz54LQO+HTjsvZNN7T0R5Zq8ge/ivb/8Fr05W1o9VI9rPkM1B70n7QW+MYYXvpxqMz3nCeq9bh0vPtOK+j1LBvO8BruCvV3hML5DEgU+TxwhvnkpzzwGBx2+epM6PnQKjz2zu7i9HWDqPYldGL5h42G9rv+hvXBoFz10LTq+OaN/PQdLHr4DbhK+YdppvqWi7L2VrRu+FYZzvR22Cb66rDM+cDrSvehalT2MvvQ9RgAoPqmq9j0B48891H3EPXk0lj66fqq9AcCJPsPdNjy/RZc9513QPffkJz5PcZW9j2abvTTPD74mThS+9nIuPexmHL6gZYC9FrskPjFtU730YCG+CcTBvOCENby0oYM8wLgHPhDoOb6RpEK7vfymPdSvcr6tajq+e446vbwpbj6QyT8+3oMDPkX0Uj6ycGG+KOYnvs7krj4WYBu8bbnRvJ5FkT4oTCw+fdEfPmALHj4hsLo9FM1WPs3PHD68fyu+LOJkPrsm4j0AoyO+ZOMdvbFQwTv+xki95VYIPtlZ4D1OSDg+908OPrf0S75iMH481aNWvh43Ib784XA+nIXJvQHxAj6IsKQ6KGP/vWyqlj0M4JW9pvtpvGn6Mb4I0tQ9jbbavfI/A74xcgA+YjP9PYpIjL18jE89KNkCvrRRAT4kgTW+92UBvj90nD21tS4+L6aBvc4I6T3cJj2+bc5UvpLstT1nqSu+gVwDvm+iQL40rC6+aMVPvo6ZAL1vNHI+RHOaPdDdDztRVR6+TIP3vXCWj7wrIdY8jeUkvRg5OD3mdTG+1EkTPscdAD48A5q78BT9PS9Bx70asDQ+K6wAvnp9Ub50Hw++Q9OuPXAqCL41Yx48+Ux2vud+Pb6tajq+hzYjvr//D76XAy2+Lp1JvprWpT0pNf+9ZLzSvS4C3r28IGQ+TTBMPoXCAL69lB0+Vj7IvSYayj1bOwG+SKcnvULyKD4nPQw+SLt0vtUlED6p4Ae+vc27u/zyr72i+YW+wd5NPkzZ373/xxm+uicnvmY6xrwvut69gLsRvuvy5r3NbXC8pXZZPpyW2L2FinE9tvgYPnli5LynJ0O+zNctPl9TtTwEsl6+5q+LPBOtDr4I2ie+2jSbPUfi8r3Z6hA+7s6xPZEehz79txa96YUKPRM6Oj40hJc9UgbkPXeqTj5SI/y9zMiXPItuIT154zs+hshIPqGToz1Qvt+7IxJSPsAV5b2IX0s+d+UOvuiger5+CDU+XpAdPnX2m71V2AI9TOcovgQRSDs+wQs9mccAPklKCL6mnik+a8E8PdeHjT10Uei9EsDJvb7T072kmw8+TOYwvm/VkjwEzkm+50Idvb03vjyMvVW9LMEUvq1rAT5KQ+g7wjrlvTaG2Typidw7m4zjvbI+gz5wfgs+WoK/u6KMN75M+3y++CC+PeH9UL1zNKA96fV3veVS1b0WbF+99FHJO463gT4P0g4+/7bwPH4INT5xwQQ9h9IkPtYqkL0g2d+9gttUvn8oUD7dIFY+KSFDPnN6HT3mE4s+9Id4vpiHmD75W1C+93BhveAEb75DavK82NBmPg2Sor2gKDi+sDc9PrdynL0Bu1+9uIsUPgGgWz7MOZU8x1GuvZ9ngr0ik5a9QcxUPrLCLz1pNQo+iV0YvmGOdj7vrTq+XBphPrnVxj1e7v29qcWKvlzlED5Cgi++r6rlPXfrC74tfjk+i1+2PoNd+7srjZE+YF8aPglbXjxECHw8SrQxvuUvCL7KZWK+nCTcvWQt9rx+YgQ+VZQ/vgEpzL3rcea9NAFxPqaFqT1m/Qa+eHtAPl2RSj57sBM+UPsLPiSvvbxHKIK9ZbGqPHqaKD7beIo+bhmIPSjWzD2YiOI99FEovh4FxrxzLbY9Ghg6vtO2zL1wjNG8qD9BvjEnNT0wJEG+ivAYPilV8r36J5g9vjBIPri1Uz2ppzc+3UJJvjJCfT6tQdY9Yd28PfKNHzz1YoM89tzfvexmHL7rMQs+9oERvhNzET67S1C+rfc7PXSlM743xVA+lHXwvevYJr5RXi67YyQbPWaG0L0Bxxa+DWBIPm3NOL45K9k9hA05vYG6Xz7yjR88G2fDPXkCf77iruI9LF8VvkZ9HT497pa9jS7LvTjV7r1HrXO+JMIEvoc6Ir58hgM+XSuGPdKb6b3V0M89nX8uPnQmBj43lxs+q/LRPXs06LxvlJo+wQumPbqsMz7ZjRA+IZSAPvrwFT6S5Vs+c1vsvF+9Kb5yMOm9rPiCvSgwS74ueYQ9or/sPMwNWb268AE+tg4WvrRZZLwAAP69TnstPmWbbr5amVK+hDORPi+3oj5IkMK9fLAvvoMmi704Gza+3AvquyziNr7KIPM9PQjEvdLR9j1b8au8EijTvRw5N76F1bY9fZLVvQuEaT49cVo+s2E2PrPEmL23+j8+wgMIvmZph74k6rm9rPgYPhX75z2SR/09TbS1vefSCr6zi709f6qpOzQwWj6XrFy+LQVqvVy2eD3Z6hA+zHLMvdH8zL0/r16+0fJAvrB3Fr4Rd8K9cJaPvEo5Wb5bV+o90vvRvGhpYr6aaT8+vOUyPriwp7wJn5E8Vz3EvWeNzr1PgVS+ITNvvlerTry3SEU+gMIBvtPRmLvdV+W92vFhvFlxX70dgTk9RsxSvaVVET7GqdS9GtJWvlvEEr7nXQE+V6AePpPBb76SpVm+gKG3PTQKZT6NwdS9SxBbvtimSD6qrx4+q5eZvUT2gr3UbZu8BYHDvfvV872yBAi9ZI+tPef5ID7erC8+wn0nvvIlOD7vhCe+gVSaPVzlED6lMZM+4lYDvI6AL7y6mTc+D7UdPfDfNL7P4xU9rHcmvli6IL59gKW9S7l6vqCrA776T0++4BcdvmOXZDtgm+y8V0sZPYMlm73dFkA+INFaPNKSUj4khAq9YaRaPp+nDr5Aigg++8YcvkE0EL61eIE+/q/FvW9T2D3AFLU9npkWvi3F6z13teW9908OPmD0R74hUIC+ajMivtpoHL6dRgm+Pn4NPkgzTT6fz+G8SCAgvkYjMTw84xc+421APP3pwrvRyvu9/7ohvpY3WT5Nwi++A3kYvawKKj7v9xC+b4QzPflgib1GfR0+SwcOvl3hML5mmbc98VxHPZakYr3UAfO9WW0Hvnx3CD5VepO92qdUPrK0LL7dxh++hh1IPn1jgz0JmIi95qjHvSN1ab6LhnS8zzEYvt7X4T2GgR++3TLbPTiVv7vDnk08e2tavgE+JD4Dx/W60PzCPdspIj2rzYU+ys5EPq+oKj6CGw+9V013Pk1U+L3n7am6JPR1PubWCL7n6gM+fSbovbtPSj7dMts9HgIlPh6cRT4lh2g+NTE3PgK3dz2XzU++jIiJPQdkuD3Ty5C9NmUwPq/o5j2TdbQ8c/QGPtHK5j1XNqI9yn2KPhrnl7pKtDG+QsA7PhIYtTxZD+a9XQiwPazqu710PkG9xhgTPhj+3Dt2mci9NzUmPl2e8r2XqIu9S8aFvY0qxbzhB2k+4w0+Pk1HK75k5ok+AqzXPVqQ0j3Z6wU+KYULvoYdSD76Sde8b9WSPLnLpr1gCvK9QhRpPAvIvj3kEnU9yep6vqNZpbkHokA+ZQm+vWRqOj35BwM99RJvvSEb/7ymGz2+hTX9vXYhAb796DK+IWQ1vtvKEj4dLs08oj04vrxgbD4zuA2+e5wVPoRGTT2Sa/89hGX1vX4STL4I11q+Ec4/voOsFbyf/4G9VHqTvMLoJj7G59I8ldowvt1CSb6YpAW+Jb9QPsyDPj64n+Y9TjksPuXvXT0fMwG9gQ0KPs9Aw73FB5y90tH2PfgRVD7pZru9sFN7PcnuIz6K4cS9jB6hvblalr3koYy+Kj6PvYSrCr1qo3G+GfdJvjB8d73w3zS+mlTVvQSAFr4xYpe89s/bvfzhcD6N8EK+4wumPc6Zd70DSyU+OS6mvWRqaT7zACC98eaoOs2aFD3pb/m93PYBPbShRr71Fdw919oSvYSUNj2tOfW9jA4/PiYldz0YZf49nq2xvTVMdb351HO+T5IBu85pML6Kds29s7laPm8Gqz3BzVm8oeAFvshrN74v5oY9SxtevBzvNj6nhVc8y09gO+IF0TxP8VE+1O0TvmOONj77JzY+YcL2PdFs7j0ZVm69VTiRvhYsg73gDGW+bAB5PqEMqTn1/9w8qekIvrOd0jzKp9q9lK0AvuwXHj7QDsq8xeoNvfvGHL5vaUc+ye7buy3NiD38jTk9CD1cPvhXMj5Dhn49qSpHvfaBEb61ah4+W7x2PkChHL5X7w88kWnCvZSKlbva6dw9QcSAvX5KfL3qSAO+5koovZNieb4ms+q8iiQcPf40Cb53/X49AYJ/vt8qHr5Hm3o+Dv+6PewL+r2CTWo+MMAYvo4i2rwXvCg9/hFMvo2dCb73C0s+/pQvPkAx1j2VMo49gAcpPj28+71+OHg+5J6HPoB/gD2BoHw+pUcrvqL5hb7RW2w+LZGmPn9MrT6wQBG+6YY2Pgz8Ij27aia+AiJFPip1NT1jND67LVMnvXVYkrw8xVs+TgDWvWMSFD7iiiW+9wfEPQ0NEb0nxU4+oqY6PtzzKD4B+hS+HTjsvdYTaD6fzwM+KxUYPulGzTwoxxW+lRFAPhJp9zw+ORy+rL8rPprPkz0aC3w+B6JiPeIwQb3/cIE9FHSnvadI2jy7EPK9DjENvp5bOL2K6pk+ToKBvvyb0b1Nvk++7H6Svn9IJL54y0M+wPNDvYq397w9ZMg75mtEvmH8db75wfA8gEByPjwNHL55h0q9o7/7PUSoAD6NsRa+6WyEvltv870qnF4+Z+APvb71tz0pEjA+yl0JvmqSLj4/gVe+M1N4PpaMdT5OH1G+yxXjPWHsQj6gcTU+z8xaPgE+JD6d2Z09qwPXvVeiaD7zKsa8/egyvgMl/T0LTbe8ecIJPkGy+72Opyw9HcnivToKvT3T2bK8OY0JvmYLPb7BiUc+KgNDvpDTCD5Co4m9IuLXvRdaGr4j9Nu9ab6ZPdhKcz2euvY9j8A7vVT4VD4BYc09fNwOvtKpjT4aQcq9MckLPuGeNb6q/Ri+rHcmvm/8Yz5zgro9et7KvVfuhz35egq+lEQOPEihLL6xm9s9gLA7PvlViD2fRH09Y5dkO+0f4rtL+1Q9DBwSvCUegD4D0ly+KUGLPXgtA74ropo9e6FBvV4Gwr3BgQm++alPvsoJvjtuZAc+pxgBvoEQYL5UGUu+aGy6vOSNLj6GNYk983FMPsj5LDxE3Uq+FaxQPi67ET66DdC9ix7ZPc/jFL6zI3S+AqGEvS0Pwz0i0QY+5ZfFPT20PT6cpPm9/NfUvfVtFD3AwSI9BH4kvpal9b1vaUc+imewvYHlcT59Jui94scEvqy+K730z0O+Kck9vnztJLycnIq+aM8FvoGyqT6BNBG+qKFvPOAcHL4fTx6++sahPS99Hj7MODi+HTwzPoaecz46SCk+GvS4vZwlpj7aIEM+JUxEvFJgU77Ba7m91SJFPuZzWLzCcuO9Z7cSvkhg/z1YCX290PzCPTx6zb3wCRC+FJOjPVWE+z2INyW+sHcWvo5uuL0laFA+FYABvrZBeD3JGNO9w4oyvlfjv7sBhza9aYxzviH5GL6wmru8nnI5vqt06D3OOFE9YG2qOyc9DD5SJUY+PEqVvWco6b2cOa29bm7XvfRgIb7IPAi+fqoGvqXMvD16SAm+6F46vqHSJzz3/BE+oSkvPqUNd71fmRG92mtnPjsCPb1USU69BVXQvU6FJj79mXS+zcmAvqDx9T3MiVQ+LLkiPuDGaT2D8DY+IydmPh39I76QUNe9OcoXPpMUQL7li1k+8HGrPCThhz7AVci9Dv+6PfGQFT5iJTQ9cExcPrZpgz42AKy9ybMEPOnd/r1TxII+vwZGvWAD6D0Qcyi+QMATvmuyeDytBhY+5wv+vfhRXD6uWII9shbUvVO7xj1IDja+cVSbvRDXib1uwdC9oS5rvvigBj6SyZG9/HZ1Ps7bND1Zyw0+49ebvdSPjD2LQgC+N2SFPWGJxb0y9zM+XE9qvvIBYT1BXfo9JPqEPbt2Jr6/8Yq9FCNDPm4c7b3dwHk+tSj7PaEMtz318Qe+Oi4RvrEqdr6DXFI+cEEiPphXXz7aKBe+51BRPbvAIb6Xox0+hKcqvjqAF76StCw+egPsPdaB9bxRXPI9NzPFPQM/Nb6TifW9gLsgvjTymr355zG+Ls5KPsq5LL7D1wE+0fcQPjd+mT0vnkI8ebN1PtEYfD4Usoi9Z7BCPkdyGr59mDA+V22pvVV7Jz58fgu+oDY2vsXdbT5jZHk99C5RvlWoML6ulyG9w74mvZesXL6tqt69VBlLvnKsKL4yIJg99tzfvXwGHD5Ocii9PB+SPqmrx71/jhy+lPtEvkBUJr2fzcI9UzD1va2IKz3+4HU+ftSdvRsxY7yzREq+p7FoPl2OOD6O9g6+fIJGvvWn5z3bCgm+lk4xPiaUmz2f13y9LLnMvACfWL5I/Bs+cdPmvbaIvjyQwIQ+54/lvSeiLD6uowi+wN+iPa+b3T3G6jw9/Q4Qvejo+70zxJA9Zgs9vqs6OT6OFh69fQuvvF31tD3KoLc9vcIdviLWPz4+yC49ZiZ9PnoY1L3VcT0+KaE9vtETBb7CBAK+WxlDvoMlm70XR5Q+4xVjvvPcj727XgU+tXqgPpPb8T0LZ0k+b8IYPie6Ar7S4cI8uvABPs8pDr7GgA2+wyWePQ4lOL2/Yem9yDn5PY9enb1BWnw9DzslPZEd/T1tV3i9b1orPtm4Sb5cwjW+9i6MPC1MHL7zPjq+NceyvVymCz6y3ls+DS9JPvb4hj4Gi+E8PmVrvliG872wroE9HXmdPdk2IL54o9u9cmXPvTJaA75u+dq9iGrgvcUIaD3SPdw9y7lfvQbNAb5R28U6V8YVvv5K7j3mX0w8o7l/Portez7Ttsy9vlmcvUSNCr71MIM+Akg5PlioHT42BUa+qC8QPpkGFT5WC0w+URD3POznBD0LSQU+VV0ePRqVQL6OVTS9zXgYvk/kLT7LN24+FzaevZxOoj5Klg++8234PaWiXbxvThm+snGWPYi8tjxjiz4+hZxnPjmjcD0GM8U9rstFPtZkQ76DlZq9hXIBPSK4FL5lsRi+E1F6PmbnYr4P2DM+BcX3vai1NT7etH++E9AZvsDdML6x5SE+M8RePmeVbD4gDu69yNKmPp/XfL1FZjG+OUyivSIQnD2ECP88jKaWvdqIwL2nGAG+iUpCPaAzAL6ln/89g6wVvA6PLr6/dqE9HSQxvp/E+L29jX2+8/slvvqk1Twhyim8LPzSPdp3Uzw07og96Z/wvD0kT76xsIS9STUZu4Bmw73PXlS+ar31vR4DDT5iolg8fGwMPvVvO74gXN09yoWiPl/DIr4kXVe+8rgvPrV2u72OD7u9hzYjvuOrcT52RD2+AccWvgUiEr16f8c9SbFVvb95Iz6npBW8ieCGPjDvLL7R8kC+6lAHvLtsM76+9bc9uK4JPhIhH74m3yw+BsF3vriSqj3h77Q9dJ2PPGeNzr1hY+09q8A9vnXfQL57aSg+nnq1vZd4JL6x25a+PDAiPTjaCD7JdGk+au05vp5yOb53KQ8+d1vKvGQ8fLw=\",\"dtype\":\"float32\",\"order\":\"little\",\"shape\":[2231]},\"y\":{\"__ndarray__\":\"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\",\"dtype\":\"float32\",\"order\":\"little\",\"shape\":[2231]}},\"selected\":{\"id\":\"1444\"},\"selection_policy\":{\"id\":\"1443\"}},\"id\":\"1362\",\"type\":\"ColumnDataSource\"}],\"root_ids\":[\"1363\"]},\"title\":\"Bokeh Application\",\"version\":\"2.3.3\"}};\n",
              "  var render_items = [{\"docid\":\"f0052cb7-94ea-4fe4-a5f1-7b98674b4b5d\",\"root_ids\":[\"1363\"],\"roots\":{\"1363\":\"3cecb796-c5c8-4a14-9aac-0f40cd592620\"}}];\n",
              "  root.Bokeh.embed.embed_items_notebook(docs_json, render_items);\n",
              "\n",
              "  }\n",
              "  if (root.Bokeh !== undefined) {\n",
              "    embed_document(root);\n",
              "  } else {\n",
              "    var attempts = 0;\n",
              "    var timer = setInterval(function(root) {\n",
              "      if (root.Bokeh !== undefined) {\n",
              "        clearInterval(timer);\n",
              "        embed_document(root);\n",
              "      } else {\n",
              "        attempts++;\n",
              "        if (attempts > 100) {\n",
              "          clearInterval(timer);\n",
              "          console.log(\"Bokeh: ERROR: Unable to run BokehJS code because BokehJS library is missing\");\n",
              "        }\n",
              "      }\n",
              "    }, 10, root)\n",
              "  }\n",
              "})(window);"
            ],
            "application/vnd.bokehjs_exec.v0+json": ""
          },
          "metadata": {
            "application/vnd.bokehjs_exec.v0+json": {
              "id": "1363"
            }
          }
        },
        {
          "output_type": "execute_result",
          "data": {
            "text/plain": [
              "Figure(id='1363', ...)"
            ],
            "text/html": [
              "<div style=\"display: table;\"><div style=\"display: table-row;\"><div style=\"display: table-cell;\"><b title=\"bokeh.plotting.figure.Figure\">Figure</b>(</div><div style=\"display: table-cell;\">id&nbsp;=&nbsp;'1363', <span id=\"1501\" style=\"cursor: pointer;\">&hellip;)</span></div></div><div class=\"1500\" style=\"display: none;\"><div style=\"display: table-cell;\"></div><div style=\"display: table-cell;\">above&nbsp;=&nbsp;[],</div></div><div class=\"1500\" style=\"display: none;\"><div style=\"display: table-cell;\"></div><div style=\"display: table-cell;\">align&nbsp;=&nbsp;'start',</div></div><div class=\"1500\" style=\"display: none;\"><div style=\"display: table-cell;\"></div><div style=\"display: table-cell;\">aspect_ratio&nbsp;=&nbsp;None,</div></div><div class=\"1500\" style=\"display: none;\"><div style=\"display: table-cell;\"></div><div style=\"display: table-cell;\">aspect_scale&nbsp;=&nbsp;1,</div></div><div class=\"1500\" style=\"display: none;\"><div style=\"display: table-cell;\"></div><div style=\"display: table-cell;\">background&nbsp;=&nbsp;None,</div></div><div class=\"1500\" style=\"display: none;\"><div style=\"display: table-cell;\"></div><div style=\"display: table-cell;\">background_fill_alpha&nbsp;=&nbsp;1.0,</div></div><div class=\"1500\" style=\"display: none;\"><div style=\"display: table-cell;\"></div><div style=\"display: table-cell;\">background_fill_color&nbsp;=&nbsp;'#ffffff',</div></div><div class=\"1500\" style=\"display: none;\"><div style=\"display: table-cell;\"></div><div style=\"display: table-cell;\">below&nbsp;=&nbsp;[LinearAxis(id='1372', ...)],</div></div><div class=\"1500\" style=\"display: none;\"><div style=\"display: table-cell;\"></div><div style=\"display: table-cell;\">border_fill_alpha&nbsp;=&nbsp;1.0,</div></div><div class=\"1500\" style=\"display: none;\"><div style=\"display: table-cell;\"></div><div style=\"display: table-cell;\">border_fill_color&nbsp;=&nbsp;'#ffffff',</div></div><div class=\"1500\" style=\"display: none;\"><div style=\"display: table-cell;\"></div><div style=\"display: table-cell;\">center&nbsp;=&nbsp;[Grid(id='1375', ...), Grid(id='1379', ...)],</div></div><div class=\"1500\" style=\"display: none;\"><div style=\"display: table-cell;\"></div><div style=\"display: table-cell;\">css_classes&nbsp;=&nbsp;[],</div></div><div class=\"1500\" style=\"display: none;\"><div style=\"display: table-cell;\"></div><div style=\"display: table-cell;\">disabled&nbsp;=&nbsp;False,</div></div><div class=\"1500\" style=\"display: none;\"><div style=\"display: table-cell;\"></div><div style=\"display: table-cell;\">extra_x_ranges&nbsp;=&nbsp;{},</div></div><div class=\"1500\" style=\"display: none;\"><div style=\"display: table-cell;\"></div><div style=\"display: table-cell;\">extra_y_ranges&nbsp;=&nbsp;{},</div></div><div class=\"1500\" style=\"display: none;\"><div style=\"display: table-cell;\"></div><div style=\"display: table-cell;\">frame_height&nbsp;=&nbsp;None,</div></div><div class=\"1500\" style=\"display: none;\"><div style=\"display: table-cell;\"></div><div style=\"display: table-cell;\">frame_width&nbsp;=&nbsp;None,</div></div><div class=\"1500\" style=\"display: none;\"><div style=\"display: table-cell;\"></div><div style=\"display: table-cell;\">height&nbsp;=&nbsp;400,</div></div><div class=\"1500\" style=\"display: none;\"><div style=\"display: table-cell;\"></div><div style=\"display: table-cell;\">height_policy&nbsp;=&nbsp;'auto',</div></div><div class=\"1500\" style=\"display: none;\"><div style=\"display: table-cell;\"></div><div style=\"display: table-cell;\">hidpi&nbsp;=&nbsp;True,</div></div><div class=\"1500\" style=\"display: none;\"><div style=\"display: table-cell;\"></div><div style=\"display: table-cell;\">inner_height&nbsp;=&nbsp;0,</div></div><div class=\"1500\" style=\"display: none;\"><div style=\"display: table-cell;\"></div><div style=\"display: table-cell;\">inner_width&nbsp;=&nbsp;0,</div></div><div class=\"1500\" style=\"display: none;\"><div style=\"display: table-cell;\"></div><div style=\"display: table-cell;\">js_event_callbacks&nbsp;=&nbsp;{},</div></div><div class=\"1500\" style=\"display: none;\"><div style=\"display: table-cell;\"></div><div style=\"display: table-cell;\">js_property_callbacks&nbsp;=&nbsp;{},</div></div><div class=\"1500\" style=\"display: none;\"><div style=\"display: table-cell;\"></div><div style=\"display: table-cell;\">left&nbsp;=&nbsp;[LinearAxis(id='1376', ...)],</div></div><div class=\"1500\" style=\"display: none;\"><div style=\"display: table-cell;\"></div><div style=\"display: table-cell;\">lod_factor&nbsp;=&nbsp;10,</div></div><div class=\"1500\" style=\"display: none;\"><div style=\"display: table-cell;\"></div><div style=\"display: table-cell;\">lod_interval&nbsp;=&nbsp;300,</div></div><div class=\"1500\" style=\"display: none;\"><div style=\"display: table-cell;\"></div><div style=\"display: table-cell;\">lod_threshold&nbsp;=&nbsp;2000,</div></div><div class=\"1500\" style=\"display: none;\"><div style=\"display: table-cell;\"></div><div style=\"display: table-cell;\">lod_timeout&nbsp;=&nbsp;500,</div></div><div class=\"1500\" style=\"display: none;\"><div style=\"display: table-cell;\"></div><div style=\"display: table-cell;\">margin&nbsp;=&nbsp;(0, 0, 0, 0),</div></div><div class=\"1500\" style=\"display: none;\"><div style=\"display: table-cell;\"></div><div style=\"display: table-cell;\">match_aspect&nbsp;=&nbsp;False,</div></div><div class=\"1500\" style=\"display: none;\"><div style=\"display: table-cell;\"></div><div style=\"display: table-cell;\">max_height&nbsp;=&nbsp;None,</div></div><div class=\"1500\" style=\"display: none;\"><div style=\"display: table-cell;\"></div><div style=\"display: table-cell;\">max_width&nbsp;=&nbsp;None,</div></div><div class=\"1500\" style=\"display: none;\"><div style=\"display: table-cell;\"></div><div style=\"display: table-cell;\">min_border&nbsp;=&nbsp;5,</div></div><div class=\"1500\" style=\"display: none;\"><div style=\"display: table-cell;\"></div><div style=\"display: table-cell;\">min_border_bottom&nbsp;=&nbsp;None,</div></div><div class=\"1500\" style=\"display: none;\"><div style=\"display: table-cell;\"></div><div style=\"display: table-cell;\">min_border_left&nbsp;=&nbsp;None,</div></div><div class=\"1500\" style=\"display: none;\"><div style=\"display: table-cell;\"></div><div style=\"display: table-cell;\">min_border_right&nbsp;=&nbsp;None,</div></div><div class=\"1500\" style=\"display: none;\"><div style=\"display: table-cell;\"></div><div style=\"display: table-cell;\">min_border_top&nbsp;=&nbsp;None,</div></div><div class=\"1500\" style=\"display: none;\"><div style=\"display: table-cell;\"></div><div style=\"display: table-cell;\">min_height&nbsp;=&nbsp;None,</div></div><div class=\"1500\" style=\"display: none;\"><div style=\"display: table-cell;\"></div><div style=\"display: table-cell;\">min_width&nbsp;=&nbsp;None,</div></div><div class=\"1500\" style=\"display: none;\"><div style=\"display: table-cell;\"></div><div style=\"display: table-cell;\">name&nbsp;=&nbsp;None,</div></div><div class=\"1500\" style=\"display: none;\"><div style=\"display: table-cell;\"></div><div style=\"display: table-cell;\">outer_height&nbsp;=&nbsp;0,</div></div><div class=\"1500\" style=\"display: none;\"><div style=\"display: table-cell;\"></div><div style=\"display: table-cell;\">outer_width&nbsp;=&nbsp;0,</div></div><div class=\"1500\" style=\"display: none;\"><div style=\"display: table-cell;\"></div><div style=\"display: table-cell;\">outline_line_alpha&nbsp;=&nbsp;1.0,</div></div><div class=\"1500\" style=\"display: none;\"><div style=\"display: table-cell;\"></div><div style=\"display: table-cell;\">outline_line_cap&nbsp;=&nbsp;'butt',</div></div><div class=\"1500\" style=\"display: none;\"><div style=\"display: table-cell;\"></div><div style=\"display: table-cell;\">outline_line_color&nbsp;=&nbsp;'#e5e5e5',</div></div><div class=\"1500\" style=\"display: none;\"><div style=\"display: table-cell;\"></div><div style=\"display: table-cell;\">outline_line_dash&nbsp;=&nbsp;[],</div></div><div class=\"1500\" style=\"display: none;\"><div style=\"display: table-cell;\"></div><div style=\"display: table-cell;\">outline_line_dash_offset&nbsp;=&nbsp;0,</div></div><div class=\"1500\" style=\"display: none;\"><div style=\"display: table-cell;\"></div><div style=\"display: table-cell;\">outline_line_join&nbsp;=&nbsp;'bevel',</div></div><div class=\"1500\" style=\"display: none;\"><div style=\"display: table-cell;\"></div><div style=\"display: table-cell;\">outline_line_width&nbsp;=&nbsp;1,</div></div><div class=\"1500\" style=\"display: none;\"><div style=\"display: table-cell;\"></div><div style=\"display: table-cell;\">output_backend&nbsp;=&nbsp;'canvas',</div></div><div class=\"1500\" style=\"display: none;\"><div style=\"display: table-cell;\"></div><div style=\"display: table-cell;\">renderers&nbsp;=&nbsp;[GlyphRenderer(id='1397', ...)],</div></div><div class=\"1500\" style=\"display: none;\"><div style=\"display: table-cell;\"></div><div style=\"display: table-cell;\">reset_policy&nbsp;=&nbsp;'standard',</div></div><div class=\"1500\" style=\"display: none;\"><div style=\"display: table-cell;\"></div><div style=\"display: table-cell;\">right&nbsp;=&nbsp;[],</div></div><div class=\"1500\" style=\"display: none;\"><div style=\"display: table-cell;\"></div><div style=\"display: table-cell;\">sizing_mode&nbsp;=&nbsp;None,</div></div><div class=\"1500\" style=\"display: none;\"><div style=\"display: table-cell;\"></div><div style=\"display: table-cell;\">subscribed_events&nbsp;=&nbsp;[],</div></div><div class=\"1500\" style=\"display: none;\"><div style=\"display: table-cell;\"></div><div style=\"display: table-cell;\">syncable&nbsp;=&nbsp;True,</div></div><div class=\"1500\" style=\"display: none;\"><div style=\"display: table-cell;\"></div><div style=\"display: table-cell;\">tags&nbsp;=&nbsp;[],</div></div><div class=\"1500\" style=\"display: none;\"><div style=\"display: table-cell;\"></div><div style=\"display: table-cell;\">title&nbsp;=&nbsp;Title(id='1435', ...),</div></div><div class=\"1500\" style=\"display: none;\"><div style=\"display: table-cell;\"></div><div style=\"display: table-cell;\">title_location&nbsp;=&nbsp;'above',</div></div><div class=\"1500\" style=\"display: none;\"><div style=\"display: table-cell;\"></div><div style=\"display: table-cell;\">toolbar&nbsp;=&nbsp;Toolbar(id='1387', ...),</div></div><div class=\"1500\" style=\"display: none;\"><div style=\"display: table-cell;\"></div><div style=\"display: table-cell;\">toolbar_location&nbsp;=&nbsp;'right',</div></div><div class=\"1500\" style=\"display: none;\"><div style=\"display: table-cell;\"></div><div style=\"display: table-cell;\">toolbar_sticky&nbsp;=&nbsp;True,</div></div><div class=\"1500\" style=\"display: none;\"><div style=\"display: table-cell;\"></div><div style=\"display: table-cell;\">visible&nbsp;=&nbsp;True,</div></div><div class=\"1500\" style=\"display: none;\"><div style=\"display: table-cell;\"></div><div style=\"display: table-cell;\">width&nbsp;=&nbsp;600,</div></div><div class=\"1500\" style=\"display: none;\"><div style=\"display: table-cell;\"></div><div style=\"display: table-cell;\">width_policy&nbsp;=&nbsp;'auto',</div></div><div class=\"1500\" style=\"display: none;\"><div style=\"display: table-cell;\"></div><div style=\"display: table-cell;\">x_range&nbsp;=&nbsp;DataRange1d(id='1364', ...),</div></div><div class=\"1500\" style=\"display: none;\"><div style=\"display: table-cell;\"></div><div style=\"display: table-cell;\">x_scale&nbsp;=&nbsp;LinearScale(id='1368', ...),</div></div><div class=\"1500\" style=\"display: none;\"><div style=\"display: table-cell;\"></div><div style=\"display: table-cell;\">y_range&nbsp;=&nbsp;DataRange1d(id='1366', ...),</div></div><div class=\"1500\" style=\"display: none;\"><div style=\"display: table-cell;\"></div><div style=\"display: table-cell;\">y_scale&nbsp;=&nbsp;LinearScale(id='1370', ...))</div></div></div>\n",
              "<script>\n",
              "(function() {\n",
              "  var expanded = false;\n",
              "  var ellipsis = document.getElementById(\"1501\");\n",
              "  ellipsis.addEventListener(\"click\", function() {\n",
              "    var rows = document.getElementsByClassName(\"1500\");\n",
              "    for (var i = 0; i < rows.length; i++) {\n",
              "      var el = rows[i];\n",
              "      el.style.display = expanded ? \"none\" : \"table-row\";\n",
              "    }\n",
              "    ellipsis.innerHTML = expanded ? \"&hellip;)\" : \"&lsaquo;&lsaquo;&lsaquo;\";\n",
              "    expanded = !expanded;\n",
              "  });\n",
              "})();\n",
              "</script>\n"
            ]
          },
          "metadata": {},
          "execution_count": 56
        }
      ]
    },
    {
      "cell_type": "code",
      "source": [
        "draw_vectors(\n",
        "    TSNE[:, 0], \n",
        "    TSNE[:, 1], \n",
        "    color=[['red', 'blue', 'green', 'violet', 'yellow'][t] for t in df.label_enc]\n",
        "    )"
      ],
      "metadata": {
        "trusted": true,
        "colab": {
          "base_uri": "https://localhost:8080/",
          "height": 434
        },
        "id": "EobQTPE8EQEM",
        "outputId": "35b7ae75-0cc6-4dba-f36b-95be00407484"
      },
      "execution_count": 21,
      "outputs": [
        {
          "output_type": "display_data",
          "data": {
            "application/javascript": [
              "\n",
              "(function(root) {\n",
              "  function now() {\n",
              "    return new Date();\n",
              "  }\n",
              "\n",
              "  var force = true;\n",
              "\n",
              "  if (typeof root._bokeh_onload_callbacks === \"undefined\" || force === true) {\n",
              "    root._bokeh_onload_callbacks = [];\n",
              "    root._bokeh_is_loading = undefined;\n",
              "  }\n",
              "\n",
              "  var JS_MIME_TYPE = 'application/javascript';\n",
              "  var HTML_MIME_TYPE = 'text/html';\n",
              "  var EXEC_MIME_TYPE = 'application/vnd.bokehjs_exec.v0+json';\n",
              "  var CLASS_NAME = 'output_bokeh rendered_html';\n",
              "\n",
              "  /**\n",
              "   * Render data to the DOM node\n",
              "   */\n",
              "  function render(props, node) {\n",
              "    var script = document.createElement(\"script\");\n",
              "    node.appendChild(script);\n",
              "  }\n",
              "\n",
              "  /**\n",
              "   * Handle when an output is cleared or removed\n",
              "   */\n",
              "  function handleClearOutput(event, handle) {\n",
              "    var cell = handle.cell;\n",
              "\n",
              "    var id = cell.output_area._bokeh_element_id;\n",
              "    var server_id = cell.output_area._bokeh_server_id;\n",
              "    // Clean up Bokeh references\n",
              "    if (id != null && id in Bokeh.index) {\n",
              "      Bokeh.index[id].model.document.clear();\n",
              "      delete Bokeh.index[id];\n",
              "    }\n",
              "\n",
              "    if (server_id !== undefined) {\n",
              "      // Clean up Bokeh references\n",
              "      var cmd = \"from bokeh.io.state import curstate; print(curstate().uuid_to_server['\" + server_id + \"'].get_sessions()[0].document.roots[0]._id)\";\n",
              "      cell.notebook.kernel.execute(cmd, {\n",
              "        iopub: {\n",
              "          output: function(msg) {\n",
              "            var id = msg.content.text.trim();\n",
              "            if (id in Bokeh.index) {\n",
              "              Bokeh.index[id].model.document.clear();\n",
              "              delete Bokeh.index[id];\n",
              "            }\n",
              "          }\n",
              "        }\n",
              "      });\n",
              "      // Destroy server and session\n",
              "      var cmd = \"import bokeh.io.notebook as ion; ion.destroy_server('\" + server_id + \"')\";\n",
              "      cell.notebook.kernel.execute(cmd);\n",
              "    }\n",
              "  }\n",
              "\n",
              "  /**\n",
              "   * Handle when a new output is added\n",
              "   */\n",
              "  function handleAddOutput(event, handle) {\n",
              "    var output_area = handle.output_area;\n",
              "    var output = handle.output;\n",
              "\n",
              "    // limit handleAddOutput to display_data with EXEC_MIME_TYPE content only\n",
              "    if ((output.output_type != \"display_data\") || (!Object.prototype.hasOwnProperty.call(output.data, EXEC_MIME_TYPE))) {\n",
              "      return\n",
              "    }\n",
              "\n",
              "    var toinsert = output_area.element.find(\".\" + CLASS_NAME.split(' ')[0]);\n",
              "\n",
              "    if (output.metadata[EXEC_MIME_TYPE][\"id\"] !== undefined) {\n",
              "      toinsert[toinsert.length - 1].firstChild.textContent = output.data[JS_MIME_TYPE];\n",
              "      // store reference to embed id on output_area\n",
              "      output_area._bokeh_element_id = output.metadata[EXEC_MIME_TYPE][\"id\"];\n",
              "    }\n",
              "    if (output.metadata[EXEC_MIME_TYPE][\"server_id\"] !== undefined) {\n",
              "      var bk_div = document.createElement(\"div\");\n",
              "      bk_div.innerHTML = output.data[HTML_MIME_TYPE];\n",
              "      var script_attrs = bk_div.children[0].attributes;\n",
              "      for (var i = 0; i < script_attrs.length; i++) {\n",
              "        toinsert[toinsert.length - 1].firstChild.setAttribute(script_attrs[i].name, script_attrs[i].value);\n",
              "        toinsert[toinsert.length - 1].firstChild.textContent = bk_div.children[0].textContent\n",
              "      }\n",
              "      // store reference to server id on output_area\n",
              "      output_area._bokeh_server_id = output.metadata[EXEC_MIME_TYPE][\"server_id\"];\n",
              "    }\n",
              "  }\n",
              "\n",
              "  function register_renderer(events, OutputArea) {\n",
              "\n",
              "    function append_mime(data, metadata, element) {\n",
              "      // create a DOM node to render to\n",
              "      var toinsert = this.create_output_subarea(\n",
              "        metadata,\n",
              "        CLASS_NAME,\n",
              "        EXEC_MIME_TYPE\n",
              "      );\n",
              "      this.keyboard_manager.register_events(toinsert);\n",
              "      // Render to node\n",
              "      var props = {data: data, metadata: metadata[EXEC_MIME_TYPE]};\n",
              "      render(props, toinsert[toinsert.length - 1]);\n",
              "      element.append(toinsert);\n",
              "      return toinsert\n",
              "    }\n",
              "\n",
              "    /* Handle when an output is cleared or removed */\n",
              "    events.on('clear_output.CodeCell', handleClearOutput);\n",
              "    events.on('delete.Cell', handleClearOutput);\n",
              "\n",
              "    /* Handle when a new output is added */\n",
              "    events.on('output_added.OutputArea', handleAddOutput);\n",
              "\n",
              "    /**\n",
              "     * Register the mime type and append_mime function with output_area\n",
              "     */\n",
              "    OutputArea.prototype.register_mime_type(EXEC_MIME_TYPE, append_mime, {\n",
              "      /* Is output safe? */\n",
              "      safe: true,\n",
              "      /* Index of renderer in `output_area.display_order` */\n",
              "      index: 0\n",
              "    });\n",
              "  }\n",
              "\n",
              "  // register the mime type if in Jupyter Notebook environment and previously unregistered\n",
              "  if (root.Jupyter !== undefined) {\n",
              "    var events = require('base/js/events');\n",
              "    var OutputArea = require('notebook/js/outputarea').OutputArea;\n",
              "\n",
              "    if (OutputArea.prototype.mime_types().indexOf(EXEC_MIME_TYPE) == -1) {\n",
              "      register_renderer(events, OutputArea);\n",
              "    }\n",
              "  }\n",
              "\n",
              "  \n",
              "  if (typeof (root._bokeh_timeout) === \"undefined\" || force === true) {\n",
              "    root._bokeh_timeout = Date.now() + 5000;\n",
              "    root._bokeh_failed_load = false;\n",
              "  }\n",
              "\n",
              "  var NB_LOAD_WARNING = {'data': {'text/html':\n",
              "     \"<div style='background-color: #fdd'>\\n\"+\n",
              "     \"<p>\\n\"+\n",
              "     \"BokehJS does not appear to have successfully loaded. If loading BokehJS from CDN, this \\n\"+\n",
              "     \"may be due to a slow or bad network connection. Possible fixes:\\n\"+\n",
              "     \"</p>\\n\"+\n",
              "     \"<ul>\\n\"+\n",
              "     \"<li>re-rerun `output_notebook()` to attempt to load from CDN again, or</li>\\n\"+\n",
              "     \"<li>use INLINE resources instead, as so:</li>\\n\"+\n",
              "     \"</ul>\\n\"+\n",
              "     \"<code>\\n\"+\n",
              "     \"from bokeh.resources import INLINE\\n\"+\n",
              "     \"output_notebook(resources=INLINE)\\n\"+\n",
              "     \"</code>\\n\"+\n",
              "     \"</div>\"}};\n",
              "\n",
              "  function display_loaded() {\n",
              "    var el = document.getElementById(null);\n",
              "    if (el != null) {\n",
              "      el.textContent = \"BokehJS is loading...\";\n",
              "    }\n",
              "    if (root.Bokeh !== undefined) {\n",
              "      if (el != null) {\n",
              "        el.textContent = \"BokehJS \" + root.Bokeh.version + \" successfully loaded.\";\n",
              "      }\n",
              "    } else if (Date.now() < root._bokeh_timeout) {\n",
              "      setTimeout(display_loaded, 100)\n",
              "    }\n",
              "  }\n",
              "\n",
              "\n",
              "  function run_callbacks() {\n",
              "    try {\n",
              "      root._bokeh_onload_callbacks.forEach(function(callback) {\n",
              "        if (callback != null)\n",
              "          callback();\n",
              "      });\n",
              "    } finally {\n",
              "      delete root._bokeh_onload_callbacks\n",
              "    }\n",
              "    console.debug(\"Bokeh: all callbacks have finished\");\n",
              "  }\n",
              "\n",
              "  function load_libs(css_urls, js_urls, callback) {\n",
              "    if (css_urls == null) css_urls = [];\n",
              "    if (js_urls == null) js_urls = [];\n",
              "\n",
              "    root._bokeh_onload_callbacks.push(callback);\n",
              "    if (root._bokeh_is_loading > 0) {\n",
              "      console.debug(\"Bokeh: BokehJS is being loaded, scheduling callback at\", now());\n",
              "      return null;\n",
              "    }\n",
              "    if (js_urls == null || js_urls.length === 0) {\n",
              "      run_callbacks();\n",
              "      return null;\n",
              "    }\n",
              "    console.debug(\"Bokeh: BokehJS not loaded, scheduling load and callback at\", now());\n",
              "    root._bokeh_is_loading = css_urls.length + js_urls.length;\n",
              "\n",
              "    function on_load() {\n",
              "      root._bokeh_is_loading--;\n",
              "      if (root._bokeh_is_loading === 0) {\n",
              "        console.debug(\"Bokeh: all BokehJS libraries/stylesheets loaded\");\n",
              "        run_callbacks()\n",
              "      }\n",
              "    }\n",
              "\n",
              "    function on_error(url) {\n",
              "      console.error(\"failed to load \" + url);\n",
              "    }\n",
              "\n",
              "    for (let i = 0; i < css_urls.length; i++) {\n",
              "      const url = css_urls[i];\n",
              "      const element = document.createElement(\"link\");\n",
              "      element.onload = on_load;\n",
              "      element.onerror = on_error.bind(null, url);\n",
              "      element.rel = \"stylesheet\";\n",
              "      element.type = \"text/css\";\n",
              "      element.href = url;\n",
              "      console.debug(\"Bokeh: injecting link tag for BokehJS stylesheet: \", url);\n",
              "      document.body.appendChild(element);\n",
              "    }\n",
              "\n",
              "    const hashes = {\"https://cdn.bokeh.org/bokeh/release/bokeh-2.3.3.min.js\": \"dM3QQsP+wXdHg42wTqW85BjZQdLNNIXqlPw/BgKoExPmTG7ZLML4EGqLMfqHT6ON\", \"https://cdn.bokeh.org/bokeh/release/bokeh-tables-2.3.3.min.js\": \"8x57I4YuIfu8XyZfFo0XVr2WAT8EK4rh/uDe3wF7YuW2FNUSNEpJbsPaB1nJ2fz2\", \"https://cdn.bokeh.org/bokeh/release/bokeh-widgets-2.3.3.min.js\": \"3QTqdz9LyAm2i0sG5XTePsHec3UHWwVsrOL68SYRoAXsafvfAyqtQ+h440+qIBhS\"};\n",
              "\n",
              "    for (let i = 0; i < js_urls.length; i++) {\n",
              "      const url = js_urls[i];\n",
              "      const element = document.createElement('script');\n",
              "      element.onload = on_load;\n",
              "      element.onerror = on_error.bind(null, url);\n",
              "      element.async = false;\n",
              "      element.src = url;\n",
              "      if (url in hashes) {\n",
              "        element.crossOrigin = \"anonymous\";\n",
              "        element.integrity = \"sha384-\" + hashes[url];\n",
              "      }\n",
              "      console.debug(\"Bokeh: injecting script tag for BokehJS library: \", url);\n",
              "      document.head.appendChild(element);\n",
              "    }\n",
              "  };\n",
              "\n",
              "  function inject_raw_css(css) {\n",
              "    const element = document.createElement(\"style\");\n",
              "    element.appendChild(document.createTextNode(css));\n",
              "    document.body.appendChild(element);\n",
              "  }\n",
              "\n",
              "  \n",
              "  var js_urls = [\"https://cdn.bokeh.org/bokeh/release/bokeh-2.3.3.min.js\", \"https://cdn.bokeh.org/bokeh/release/bokeh-widgets-2.3.3.min.js\", \"https://cdn.bokeh.org/bokeh/release/bokeh-tables-2.3.3.min.js\"];\n",
              "  var css_urls = [];\n",
              "  \n",
              "\n",
              "  var inline_js = [\n",
              "    function(Bokeh) {\n",
              "      Bokeh.set_log_level(\"info\");\n",
              "    },\n",
              "    function(Bokeh) {\n",
              "    \n",
              "    \n",
              "    }\n",
              "  ];\n",
              "\n",
              "  function run_inline_js() {\n",
              "    \n",
              "    if (root.Bokeh !== undefined || force === true) {\n",
              "      \n",
              "    for (var i = 0; i < inline_js.length; i++) {\n",
              "      inline_js[i].call(root, root.Bokeh);\n",
              "    }\n",
              "    } else if (Date.now() < root._bokeh_timeout) {\n",
              "      setTimeout(run_inline_js, 100);\n",
              "    } else if (!root._bokeh_failed_load) {\n",
              "      console.log(\"Bokeh: BokehJS failed to load within specified timeout.\");\n",
              "      root._bokeh_failed_load = true;\n",
              "    } else if (force !== true) {\n",
              "      var cell = $(document.getElementById(null)).parents('.cell').data().cell;\n",
              "      cell.output_area.append_execute_result(NB_LOAD_WARNING)\n",
              "    }\n",
              "\n",
              "  }\n",
              "\n",
              "  if (root._bokeh_is_loading === 0) {\n",
              "    console.debug(\"Bokeh: BokehJS loaded, going straight to plotting\");\n",
              "    run_inline_js();\n",
              "  } else {\n",
              "    load_libs(css_urls, js_urls, function() {\n",
              "      console.debug(\"Bokeh: BokehJS plotting callback run at\", now());\n",
              "      run_inline_js();\n",
              "    });\n",
              "  }\n",
              "}(window));"
            ],
            "application/vnd.bokehjs_load.v0+json": "\n(function(root) {\n  function now() {\n    return new Date();\n  }\n\n  var force = true;\n\n  if (typeof root._bokeh_onload_callbacks === \"undefined\" || force === true) {\n    root._bokeh_onload_callbacks = [];\n    root._bokeh_is_loading = undefined;\n  }\n\n  \n\n  \n  if (typeof (root._bokeh_timeout) === \"undefined\" || force === true) {\n    root._bokeh_timeout = Date.now() + 5000;\n    root._bokeh_failed_load = false;\n  }\n\n  var NB_LOAD_WARNING = {'data': {'text/html':\n     \"<div style='background-color: #fdd'>\\n\"+\n     \"<p>\\n\"+\n     \"BokehJS does not appear to have successfully loaded. If loading BokehJS from CDN, this \\n\"+\n     \"may be due to a slow or bad network connection. Possible fixes:\\n\"+\n     \"</p>\\n\"+\n     \"<ul>\\n\"+\n     \"<li>re-rerun `output_notebook()` to attempt to load from CDN again, or</li>\\n\"+\n     \"<li>use INLINE resources instead, as so:</li>\\n\"+\n     \"</ul>\\n\"+\n     \"<code>\\n\"+\n     \"from bokeh.resources import INLINE\\n\"+\n     \"output_notebook(resources=INLINE)\\n\"+\n     \"</code>\\n\"+\n     \"</div>\"}};\n\n  function display_loaded() {\n    var el = document.getElementById(null);\n    if (el != null) {\n      el.textContent = \"BokehJS is loading...\";\n    }\n    if (root.Bokeh !== undefined) {\n      if (el != null) {\n        el.textContent = \"BokehJS \" + root.Bokeh.version + \" successfully loaded.\";\n      }\n    } else if (Date.now() < root._bokeh_timeout) {\n      setTimeout(display_loaded, 100)\n    }\n  }\n\n\n  function run_callbacks() {\n    try {\n      root._bokeh_onload_callbacks.forEach(function(callback) {\n        if (callback != null)\n          callback();\n      });\n    } finally {\n      delete root._bokeh_onload_callbacks\n    }\n    console.debug(\"Bokeh: all callbacks have finished\");\n  }\n\n  function load_libs(css_urls, js_urls, callback) {\n    if (css_urls == null) css_urls = [];\n    if (js_urls == null) js_urls = [];\n\n    root._bokeh_onload_callbacks.push(callback);\n    if (root._bokeh_is_loading > 0) {\n      console.debug(\"Bokeh: BokehJS is being loaded, scheduling callback at\", now());\n      return null;\n    }\n    if (js_urls == null || js_urls.length === 0) {\n      run_callbacks();\n      return null;\n    }\n    console.debug(\"Bokeh: BokehJS not loaded, scheduling load and callback at\", now());\n    root._bokeh_is_loading = css_urls.length + js_urls.length;\n\n    function on_load() {\n      root._bokeh_is_loading--;\n      if (root._bokeh_is_loading === 0) {\n        console.debug(\"Bokeh: all BokehJS libraries/stylesheets loaded\");\n        run_callbacks()\n      }\n    }\n\n    function on_error(url) {\n      console.error(\"failed to load \" + url);\n    }\n\n    for (let i = 0; i < css_urls.length; i++) {\n      const url = css_urls[i];\n      const element = document.createElement(\"link\");\n      element.onload = on_load;\n      element.onerror = on_error.bind(null, url);\n      element.rel = \"stylesheet\";\n      element.type = \"text/css\";\n      element.href = url;\n      console.debug(\"Bokeh: injecting link tag for BokehJS stylesheet: \", url);\n      document.body.appendChild(element);\n    }\n\n    const hashes = {\"https://cdn.bokeh.org/bokeh/release/bokeh-2.3.3.min.js\": \"dM3QQsP+wXdHg42wTqW85BjZQdLNNIXqlPw/BgKoExPmTG7ZLML4EGqLMfqHT6ON\", \"https://cdn.bokeh.org/bokeh/release/bokeh-tables-2.3.3.min.js\": \"8x57I4YuIfu8XyZfFo0XVr2WAT8EK4rh/uDe3wF7YuW2FNUSNEpJbsPaB1nJ2fz2\", \"https://cdn.bokeh.org/bokeh/release/bokeh-widgets-2.3.3.min.js\": \"3QTqdz9LyAm2i0sG5XTePsHec3UHWwVsrOL68SYRoAXsafvfAyqtQ+h440+qIBhS\"};\n\n    for (let i = 0; i < js_urls.length; i++) {\n      const url = js_urls[i];\n      const element = document.createElement('script');\n      element.onload = on_load;\n      element.onerror = on_error.bind(null, url);\n      element.async = false;\n      element.src = url;\n      if (url in hashes) {\n        element.crossOrigin = \"anonymous\";\n        element.integrity = \"sha384-\" + hashes[url];\n      }\n      console.debug(\"Bokeh: injecting script tag for BokehJS library: \", url);\n      document.head.appendChild(element);\n    }\n  };\n\n  function inject_raw_css(css) {\n    const element = document.createElement(\"style\");\n    element.appendChild(document.createTextNode(css));\n    document.body.appendChild(element);\n  }\n\n  \n  var js_urls = [\"https://cdn.bokeh.org/bokeh/release/bokeh-2.3.3.min.js\", \"https://cdn.bokeh.org/bokeh/release/bokeh-widgets-2.3.3.min.js\", \"https://cdn.bokeh.org/bokeh/release/bokeh-tables-2.3.3.min.js\"];\n  var css_urls = [];\n  \n\n  var inline_js = [\n    function(Bokeh) {\n      Bokeh.set_log_level(\"info\");\n    },\n    function(Bokeh) {\n    \n    \n    }\n  ];\n\n  function run_inline_js() {\n    \n    if (root.Bokeh !== undefined || force === true) {\n      \n    for (var i = 0; i < inline_js.length; i++) {\n      inline_js[i].call(root, root.Bokeh);\n    }\n    } else if (Date.now() < root._bokeh_timeout) {\n      setTimeout(run_inline_js, 100);\n    } else if (!root._bokeh_failed_load) {\n      console.log(\"Bokeh: BokehJS failed to load within specified timeout.\");\n      root._bokeh_failed_load = true;\n    } else if (force !== true) {\n      var cell = $(document.getElementById(null)).parents('.cell').data().cell;\n      cell.output_area.append_execute_result(NB_LOAD_WARNING)\n    }\n\n  }\n\n  if (root._bokeh_is_loading === 0) {\n    console.debug(\"Bokeh: BokehJS loaded, going straight to plotting\");\n    run_inline_js();\n  } else {\n    load_libs(css_urls, js_urls, function() {\n      console.debug(\"Bokeh: BokehJS plotting callback run at\", now());\n      run_inline_js();\n    });\n  }\n}(window));"
          },
          "metadata": {}
        },
        {
          "output_type": "display_data",
          "data": {
            "text/html": [
              "\n",
              "\n",
              "\n",
              "\n",
              "\n",
              "\n",
              "  <div class=\"bk-root\" id=\"c1d2d436-fb0d-4185-9205-8da50b40103d\" data-root-id=\"1112\"></div>\n"
            ]
          },
          "metadata": {}
        },
        {
          "output_type": "display_data",
          "data": {
            "application/javascript": [
              "(function(root) {\n",
              "  function embed_document(root) {\n",
              "    \n",
              "  var docs_json = {\"43197ebd-8c56-4f55-be2d-284d2b61cd6c\":{\"defs\":[],\"roots\":{\"references\":[{\"attributes\":{\"below\":[{\"id\":\"1121\"}],\"center\":[{\"id\":\"1124\"},{\"id\":\"1128\"}],\"height\":400,\"left\":[{\"id\":\"1125\"}],\"renderers\":[{\"id\":\"1146\"}],\"title\":{\"id\":\"1162\"},\"toolbar\":{\"id\":\"1136\"},\"x_range\":{\"id\":\"1113\"},\"x_scale\":{\"id\":\"1117\"},\"y_range\":{\"id\":\"1115\"},\"y_scale\":{\"id\":\"1119\"}},\"id\":\"1112\",\"subtype\":\"Figure\",\"type\":\"Plot\"},{\"attributes\":{\"overlay\":{\"id\":\"1135\"}},\"id\":\"1131\",\"type\":\"BoxZoomTool\"},{\"attributes\":{},\"id\":\"1126\",\"type\":\"BasicTicker\"},{\"attributes\":{},\"id\":\"1113\",\"type\":\"DataRange1d\"},{\"attributes\":{\"formatter\":{\"id\":\"1166\"},\"major_label_policy\":{\"id\":\"1167\"},\"ticker\":{\"id\":\"1122\"}},\"id\":\"1121\",\"type\":\"LinearAxis\"},{\"attributes\":{},\"id\":\"1132\",\"type\":\"SaveTool\"},{\"attributes\":{},\"id\":\"1164\",\"type\":\"AllLabels\"},{\"attributes\":{},\"id\":\"1167\",\"type\":\"AllLabels\"},{\"attributes\":{\"fill_alpha\":{\"value\":0.1},\"fill_color\":{\"field\":\"color\"},\"line_alpha\":{\"value\":0.1},\"line_color\":{\"field\":\"color\"},\"size\":{\"value\":10},\"x\":{\"field\":\"x\"},\"y\":{\"field\":\"y\"}},\"id\":\"1145\",\"type\":\"Scatter\"},{\"attributes\":{},\"id\":\"1122\",\"type\":\"BasicTicker\"},{\"attributes\":{},\"id\":\"1170\",\"type\":\"UnionRenderers\"},{\"attributes\":{},\"id\":\"1134\",\"type\":\"HelpTool\"},{\"attributes\":{\"fill_alpha\":{\"value\":0.25},\"fill_color\":{\"field\":\"color\"},\"line_alpha\":{\"value\":0.25},\"line_color\":{\"field\":\"color\"},\"size\":{\"value\":10},\"x\":{\"field\":\"x\"},\"y\":{\"field\":\"y\"}},\"id\":\"1144\",\"type\":\"Scatter\"},{\"attributes\":{\"formatter\":{\"id\":\"1163\"},\"major_label_policy\":{\"id\":\"1164\"},\"ticker\":{\"id\":\"1126\"}},\"id\":\"1125\",\"type\":\"LinearAxis\"},{\"attributes\":{},\"id\":\"1129\",\"type\":\"PanTool\"},{\"attributes\":{\"axis\":{\"id\":\"1125\"},\"dimension\":1,\"ticker\":null},\"id\":\"1128\",\"type\":\"Grid\"},{\"attributes\":{\"axis\":{\"id\":\"1121\"},\"ticker\":null},\"id\":\"1124\",\"type\":\"Grid\"},{\"attributes\":{\"data_source\":{\"id\":\"1111\"},\"glyph\":{\"id\":\"1144\"},\"hover_glyph\":null,\"muted_glyph\":null,\"nonselection_glyph\":{\"id\":\"1145\"},\"view\":{\"id\":\"1147\"}},\"id\":\"1146\",\"type\":\"GlyphRenderer\"},{\"attributes\":{},\"id\":\"1166\",\"type\":\"BasicTickFormatter\"},{\"attributes\":{\"active_multi\":null,\"active_scroll\":{\"id\":\"1130\"},\"tools\":[{\"id\":\"1129\"},{\"id\":\"1130\"},{\"id\":\"1131\"},{\"id\":\"1132\"},{\"id\":\"1133\"},{\"id\":\"1134\"},{\"id\":\"1148\"}]},\"id\":\"1136\",\"type\":\"Toolbar\"},{\"attributes\":{},\"id\":\"1115\",\"type\":\"DataRange1d\"},{\"attributes\":{},\"id\":\"1133\",\"type\":\"ResetTool\"},{\"attributes\":{},\"id\":\"1171\",\"type\":\"Selection\"},{\"attributes\":{},\"id\":\"1130\",\"type\":\"WheelZoomTool\"},{\"attributes\":{},\"id\":\"1163\",\"type\":\"BasicTickFormatter\"},{\"attributes\":{\"bottom_units\":\"screen\",\"fill_alpha\":0.5,\"fill_color\":\"lightgrey\",\"left_units\":\"screen\",\"level\":\"overlay\",\"line_alpha\":1.0,\"line_color\":\"black\",\"line_dash\":[4,4],\"line_width\":2,\"right_units\":\"screen\",\"syncable\":false,\"top_units\":\"screen\"},\"id\":\"1135\",\"type\":\"BoxAnnotation\"},{\"attributes\":{\"data\":{\"color\":[\"blue\",\"blue\",\"blue\",\"blue\",\"blue\",\"blue\",\"blue\",\"blue\",\"blue\",\"blue\",\"blue\",\"blue\",\"blue\",\"blue\",\"blue\",\"blue\",\"blue\",\"blue\",\"blue\",\"blue\",\"blue\",\"blue\",\"blue\",\"blue\",\"blue\",\"blue\",\"blue\",\"blue\",\"blue\",\"blue\",\"blue\",\"blue\",\"blue\",\"blue\",\"blue\",\"blue\",\"blue\",\"blue\",\"blue\",\"blue\",\"blue\",\"blue\",\"blue\",\"blue\",\"blue\",\"blue\",\"blue\",\"blue\",\"blue\",\"blue\",\"blue\",\"blue\",\"blue\",\"blue\",\"blue\",\"blue\",\"blue\",\"blue\",\"blue\",\"blue\",\"blue\",\"blue\",\"blue\",\"blue\",\"blue\",\"blue\",\"blue\",\"blue\",\"blue\",\"blue\",\"blue\",\"blue\",\"blue\",\"blue\",\"blue\",\"blue\",\"blue\",\"blue\",\"blue\",\"blue\",\"blue\",\"blue\",\"blue\",\"blue\",\"blue\",\"blue\",\"blue\",\"blue\",\"blue\",\"blue\",\"blue\",\"blue\",\"blue\",\"blue\",\"blue\",\"blue\",\"blue\",\"blue\",\"blue\",\"blue\",\"blue\",\"blue\",\"blue\",\"blue\",\"blue\",\"blue\",\"blue\",\"blue\",\"blue\",\"blue\",\"blue\",\"blue\",\"blue\",\"blue\",\"blue\",\"blue\",\"blue\",\"blue\",\"blue\",\"blue\",\"blue\",\"blue\",\"blue\",\"blue\",\"blue\",\"blue\",\"blue\",\"blue\",\"blue\",\"blue\",\"blue\",\"blue\",\"blue\",\"blue\",\"blue\",\"blue\",\"blue\",\"blue\",\"blue\",\"blue\",\"blue\",\"blue\",\"blue\",\"blue\",\"blue\",\"blue\",\"blue\",\"blue\",\"blue\",\"blue\",\"blue\",\"blue\",\"blue\",\"blue\",\"blue\",\"blue\",\"blue\",\"blue\",\"blue\",\"blue\",\"blue\",\"blue\",\"blue\",\"blue\",\"blue\",\"blue\",\"blue\",\"blue\",\"blue\",\"blue\",\"blue\",\"blue\",\"blue\",\"blue\",\"blue\",\"blue\",\"blue\",\"blue\",\"blue\",\"blue\",\"blue\",\"blue\",\"blue\",\"blue\",\"blue\",\"blue\",\"blue\",\"blue\",\"blue\",\"blue\",\"blue\",\"blue\",\"blue\",\"blue\",\"blue\",\"blue\",\"blue\",\"blue\",\"blue\",\"blue\",\"blue\",\"blue\",\"blue\",\"blue\",\"blue\",\"blue\",\"blue\",\"blue\",\"blue\",\"blue\",\"blue\",\"blue\",\"blue\",\"blue\",\"blue\",\"blue\",\"blue\",\"blue\",\"blue\",\"blue\",\"blue\",\"blue\",\"blue\",\"blue\",\"blue\",\"blue\",\"blue\",\"blue\",\"blue\",\"blue\",\"blue\",\"blue\",\"blue\",\"blue\",\"blue\",\"blue\",\"blue\",\"blue\",\"blue\",\"blue\",\"blue\",\"blue\",\"blue\",\"blue\",\"blue\",\"blue\",\"blue\",\"blue\",\"blue\",\"blue\",\"blue\",\"blue\",\"blue\",\"blue\",\"blue\",\"blue\",\"blue\",\"blue\",\"blue\",\"blue\",\"blue\",\"blue\",\"blue\",\"blue\",\"blue\",\"blue\",\"blue\",\"blue\",\"blue\",\"blue\",\"blue\",\"blue\",\"blue\",\"blue\",\"blue\",\"blue\",\"blue\",\"blue\",\"blue\",\"blue\",\"blue\",\"blue\",\"blue\",\"blue\",\"blue\",\"blue\",\"blue\",\"blue\",\"blue\",\"blue\",\"blue\",\"blue\",\"blue\",\"blue\",\"blue\",\"blue\",\"blue\",\"blue\",\"blue\",\"blue\",\"blue\",\"blue\",\"blue\",\"blue\",\"blue\",\"blue\",\"blue\",\"blue\",\"blue\",\"blue\",\"blue\",\"blue\",\"blue\",\"blue\",\"blue\",\"blue\",\"blue\",\"blue\",\"blue\",\"blue\",\"blue\",\"blue\",\"blue\",\"blue\",\"blue\",\"blue\",\"blue\",\"blue\",\"blue\",\"blue\",\"blue\",\"blue\",\"blue\",\"blue\",\"blue\",\"blue\",\"blue\",\"blue\",\"blue\",\"blue\",\"blue\",\"blue\",\"blue\",\"blue\",\"blue\",\"blue\",\"blue\",\"blue\",\"blue\",\"blue\",\"blue\",\"blue\",\"blue\",\"blue\",\"blue\",\"blue\",\"blue\",\"blue\",\"blue\",\"blue\",\"blue\",\"blue\",\"blue\",\"blue\",\"blue\",\"blue\",\"blue\",\"blue\",\"blue\",\"blue\",\"blue\",\"blue\",\"blue\",\"blue\",\"blue\",\"blue\",\"blue\",\"blue\",\"blue\",\"blue\",\"blue\",\"blue\",\"blue\",\"blue\",\"blue\",\"blue\",\"blue\",\"blue\",\"blue\",\"blue\",\"blue\",\"blue\",\"yellow\",\"yellow\",\"yellow\",\"yellow\",\"yellow\",\"yellow\",\"yellow\",\"yellow\",\"yellow\",\"yellow\",\"yellow\",\"yellow\",\"yellow\",\"yellow\",\"yellow\",\"yellow\",\"yellow\",\"yellow\",\"yellow\",\"yellow\",\"yellow\",\"yellow\",\"yellow\",\"yellow\",\"yellow\",\"yellow\",\"yellow\",\"yellow\",\"yellow\",\"yellow\",\"yellow\",\"yellow\",\"yellow\",\"yellow\",\"yellow\",\"yellow\",\"yellow\",\"yellow\",\"yellow\",\"yellow\",\"yellow\",\"yellow\",\"yellow\",\"yellow\",\"yellow\",\"yellow\",\"yellow\",\"yellow\",\"yellow\",\"yellow\",\"yellow\",\"yellow\",\"yellow\",\"yellow\",\"yellow\",\"yellow\",\"yellow\",\"yellow\",\"yellow\",\"yellow\",\"yellow\",\"yellow\",\"yellow\",\"yellow\",\"yellow\",\"yellow\",\"yellow\",\"yellow\",\"yellow\",\"yellow\",\"yellow\",\"yellow\",\"yellow\",\"yellow\",\"yellow\",\"yellow\",\"yellow\",\"yellow\",\"yellow\",\"yellow\",\"yellow\",\"yellow\",\"yellow\",\"yellow\",\"yellow\",\"yellow\",\"yellow\",\"yellow\",\"yellow\",\"yellow\",\"yellow\",\"yellow\",\"yellow\",\"yellow\",\"yellow\",\"yellow\",\"yellow\",\"yellow\",\"yellow\",\"yellow\",\"yellow\",\"yellow\",\"yellow\",\"yellow\",\"yellow\",\"yellow\",\"yellow\",\"yellow\",\"yellow\",\"yellow\",\"yellow\",\"yellow\",\"yellow\",\"yellow\",\"yellow\",\"yellow\",\"yellow\",\"yellow\",\"yellow\",\"yellow\",\"yellow\",\"yellow\",\"yellow\",\"yellow\",\"yellow\",\"yellow\",\"yellow\",\"yellow\",\"yellow\",\"yellow\",\"yellow\",\"yellow\",\"yellow\",\"yellow\",\"yellow\",\"yellow\",\"yellow\",\"yellow\",\"yellow\",\"yellow\",\"yellow\",\"yellow\",\"yellow\",\"yellow\",\"yellow\",\"yellow\",\"yellow\",\"yellow\",\"yellow\",\"yellow\",\"yellow\",\"yellow\",\"yellow\",\"yellow\",\"yellow\",\"yellow\",\"yellow\",\"yellow\",\"yellow\",\"yellow\",\"yellow\",\"yellow\",\"yellow\",\"yellow\",\"yellow\",\"yellow\",\"yellow\",\"yellow\",\"yellow\",\"yellow\",\"yellow\",\"yellow\",\"yellow\",\"yellow\",\"yellow\",\"yellow\",\"yellow\",\"yellow\",\"yellow\",\"yellow\",\"yellow\",\"yellow\",\"yellow\",\"yellow\",\"yellow\",\"yellow\",\"yellow\",\"yellow\",\"yellow\",\"yellow\",\"yellow\",\"yellow\",\"yellow\",\"yellow\",\"yellow\",\"yellow\",\"yellow\",\"yellow\",\"yellow\",\"yellow\",\"yellow\",\"yellow\",\"yellow\",\"yellow\",\"yellow\",\"yellow\",\"yellow\",\"yellow\",\"yellow\",\"yellow\",\"yellow\",\"yellow\",\"yellow\",\"yellow\",\"yellow\",\"yellow\",\"yellow\",\"yellow\",\"yellow\",\"yellow\",\"yellow\",\"yellow\",\"yellow\",\"yellow\",\"yellow\",\"yellow\",\"yellow\",\"yellow\",\"yellow\",\"yellow\",\"yellow\",\"yellow\",\"yellow\",\"yellow\",\"yellow\",\"yellow\",\"yellow\",\"yellow\",\"yellow\",\"yellow\",\"yellow\",\"yellow\",\"yellow\",\"yellow\",\"yellow\",\"yellow\",\"yellow\",\"yellow\",\"yellow\",\"yellow\",\"yellow\",\"yellow\",\"yellow\",\"yellow\",\"yellow\",\"yellow\",\"yellow\",\"yellow\",\"yellow\",\"yellow\",\"yellow\",\"yellow\",\"yellow\",\"yellow\",\"yellow\",\"yellow\",\"yellow\",\"yellow\",\"yellow\",\"yellow\",\"yellow\",\"yellow\",\"yellow\",\"yellow\",\"yellow\",\"yellow\",\"yellow\",\"yellow\",\"yellow\",\"yellow\",\"yellow\",\"yellow\",\"yellow\",\"yellow\",\"yellow\",\"yellow\",\"yellow\",\"yellow\",\"yellow\",\"yellow\",\"yellow\",\"yellow\",\"yellow\",\"yellow\",\"yellow\",\"yellow\",\"yellow\",\"yellow\",\"yellow\",\"yellow\",\"yellow\",\"yellow\",\"yellow\",\"yellow\",\"yellow\",\"yellow\",\"yellow\",\"yellow\",\"yellow\",\"yellow\",\"yellow\",\"yellow\",\"yellow\",\"yellow\",\"yellow\",\"yellow\",\"yellow\",\"yellow\",\"yellow\",\"yellow\",\"yellow\",\"yellow\",\"yellow\",\"yellow\",\"yellow\",\"yellow\",\"yellow\",\"yellow\",\"yellow\",\"yellow\",\"yellow\",\"yellow\",\"yellow\",\"yellow\",\"yellow\",\"yellow\",\"yellow\",\"yellow\",\"yellow\",\"yellow\",\"yellow\",\"yellow\",\"yellow\",\"yellow\",\"yellow\",\"yellow\",\"yellow\",\"yellow\",\"yellow\",\"yellow\",\"yellow\",\"yellow\",\"yellow\",\"yellow\",\"yellow\",\"yellow\",\"yellow\",\"yellow\",\"yellow\",\"yellow\",\"yellow\",\"yellow\",\"yellow\",\"yellow\",\"yellow\",\"yellow\",\"yellow\",\"yellow\",\"yellow\",\"yellow\",\"yellow\",\"yellow\",\"yellow\",\"yellow\",\"yellow\",\"yellow\",\"yellow\",\"yellow\",\"yellow\",\"yellow\",\"yellow\",\"yellow\",\"yellow\",\"yellow\",\"yellow\",\"yellow\",\"yellow\",\"yellow\",\"yellow\",\"yellow\",\"yellow\",\"yellow\",\"yellow\",\"yellow\",\"yellow\",\"yellow\",\"yellow\",\"yellow\",\"yellow\",\"yellow\",\"yellow\",\"violet\",\"violet\",\"violet\",\"violet\",\"violet\",\"violet\",\"violet\",\"violet\",\"violet\",\"violet\",\"violet\",\"violet\",\"violet\",\"violet\",\"violet\",\"violet\",\"violet\",\"violet\",\"violet\",\"violet\",\"violet\",\"violet\",\"violet\",\"violet\",\"violet\",\"violet\",\"violet\",\"violet\",\"violet\",\"violet\",\"violet\",\"violet\",\"violet\",\"violet\",\"violet\",\"violet\",\"violet\",\"violet\",\"violet\",\"violet\",\"violet\",\"violet\",\"violet\",\"violet\",\"violet\",\"violet\",\"violet\",\"violet\",\"violet\",\"violet\",\"violet\",\"violet\",\"violet\",\"violet\",\"violet\",\"violet\",\"violet\",\"violet\",\"violet\",\"violet\",\"violet\",\"violet\",\"violet\",\"violet\",\"violet\",\"violet\",\"violet\",\"violet\",\"violet\",\"violet\",\"violet\",\"violet\",\"violet\",\"violet\",\"violet\",\"violet\",\"violet\",\"violet\",\"violet\",\"violet\",\"violet\",\"violet\",\"violet\",\"violet\",\"violet\",\"violet\",\"violet\",\"violet\",\"violet\",\"violet\",\"violet\",\"violet\",\"violet\",\"violet\",\"violet\",\"violet\",\"violet\",\"violet\",\"violet\",\"violet\",\"violet\",\"violet\",\"violet\",\"violet\",\"violet\",\"violet\",\"violet\",\"violet\",\"violet\",\"violet\",\"violet\",\"violet\",\"violet\",\"violet\",\"violet\",\"violet\",\"violet\",\"violet\",\"violet\",\"violet\",\"violet\",\"violet\",\"violet\",\"violet\",\"violet\",\"violet\",\"violet\",\"violet\",\"violet\",\"violet\",\"violet\",\"violet\",\"violet\",\"violet\",\"violet\",\"violet\",\"violet\",\"violet\",\"violet\",\"violet\",\"violet\",\"violet\",\"violet\",\"violet\",\"violet\",\"violet\",\"violet\",\"violet\",\"violet\",\"violet\",\"violet\",\"violet\",\"violet\",\"violet\",\"violet\",\"violet\",\"violet\",\"violet\",\"violet\",\"violet\",\"violet\",\"violet\",\"violet\",\"violet\",\"violet\",\"violet\",\"violet\",\"violet\",\"violet\",\"violet\",\"violet\",\"violet\",\"violet\",\"violet\",\"violet\",\"violet\",\"violet\",\"violet\",\"violet\",\"violet\",\"violet\",\"violet\",\"violet\",\"violet\",\"violet\",\"violet\",\"violet\",\"violet\",\"violet\",\"violet\",\"violet\",\"violet\",\"violet\",\"violet\",\"violet\",\"violet\",\"violet\",\"violet\",\"violet\",\"violet\",\"violet\",\"violet\",\"violet\",\"violet\",\"violet\",\"violet\",\"violet\",\"violet\",\"violet\",\"violet\",\"violet\",\"violet\",\"violet\",\"violet\",\"violet\",\"violet\",\"violet\",\"violet\",\"violet\",\"violet\",\"violet\",\"violet\",\"violet\",\"violet\",\"violet\",\"violet\",\"violet\",\"violet\",\"violet\",\"violet\",\"violet\",\"violet\",\"violet\",\"violet\",\"violet\",\"violet\",\"violet\",\"violet\",\"violet\",\"violet\",\"violet\",\"violet\",\"violet\",\"violet\",\"violet\",\"violet\",\"violet\",\"violet\",\"violet\",\"violet\",\"violet\",\"violet\",\"violet\",\"violet\",\"violet\",\"violet\",\"violet\",\"violet\",\"violet\",\"violet\",\"violet\",\"violet\",\"violet\",\"violet\",\"violet\",\"violet\",\"violet\",\"violet\",\"violet\",\"violet\",\"violet\",\"violet\",\"violet\",\"violet\",\"violet\",\"violet\",\"violet\",\"violet\",\"violet\",\"violet\",\"violet\",\"violet\",\"violet\",\"violet\",\"violet\",\"violet\",\"violet\",\"violet\",\"violet\",\"violet\",\"violet\",\"violet\",\"violet\",\"violet\",\"violet\",\"violet\",\"violet\",\"violet\",\"violet\",\"violet\",\"violet\",\"violet\",\"violet\",\"violet\",\"violet\",\"violet\",\"violet\",\"violet\",\"violet\",\"violet\",\"violet\",\"violet\",\"violet\",\"violet\",\"violet\",\"violet\",\"violet\",\"violet\",\"violet\",\"violet\",\"violet\",\"violet\",\"violet\",\"violet\",\"violet\",\"violet\",\"violet\",\"violet\",\"violet\",\"violet\",\"violet\",\"violet\",\"violet\",\"violet\",\"violet\",\"violet\",\"violet\",\"violet\",\"violet\",\"violet\",\"violet\",\"violet\",\"violet\",\"violet\",\"violet\",\"violet\",\"violet\",\"violet\",\"violet\",\"violet\",\"violet\",\"violet\",\"violet\",\"violet\",\"violet\",\"violet\",\"violet\",\"violet\",\"violet\",\"violet\",\"violet\",\"violet\",\"violet\",\"violet\",\"violet\",\"violet\",\"violet\",\"violet\",\"violet\",\"violet\",\"violet\",\"violet\",\"violet\",\"violet\",\"violet\",\"violet\",\"violet\",\"violet\",\"violet\",\"violet\",\"violet\",\"violet\",\"violet\",\"violet\",\"violet\",\"violet\",\"violet\",\"violet\",\"violet\",\"violet\",\"violet\",\"violet\",\"violet\",\"violet\",\"violet\",\"violet\",\"violet\",\"violet\",\"violet\",\"violet\",\"violet\",\"violet\",\"violet\",\"violet\",\"violet\",\"violet\",\"violet\",\"violet\",\"violet\",\"violet\",\"violet\",\"violet\",\"violet\",\"violet\",\"violet\",\"violet\",\"violet\",\"violet\",\"violet\",\"violet\",\"violet\",\"violet\",\"violet\",\"violet\",\"violet\",\"violet\",\"violet\",\"violet\",\"violet\",\"violet\",\"violet\",\"violet\",\"violet\",\"violet\",\"violet\",\"violet\",\"violet\",\"violet\",\"violet\",\"violet\",\"violet\",\"violet\",\"violet\",\"violet\",\"violet\",\"violet\",\"violet\",\"violet\",\"violet\",\"violet\",\"violet\",\"violet\",\"violet\",\"violet\",\"violet\",\"violet\",\"violet\",\"violet\",\"violet\",\"violet\",\"violet\",\"violet\",\"violet\",\"violet\",\"violet\",\"violet\",\"violet\",\"violet\",\"violet\",\"violet\",\"violet\",\"violet\",\"violet\",\"violet\",\"violet\",\"violet\",\"violet\",\"violet\",\"violet\",\"violet\",\"violet\",\"violet\",\"violet\",\"violet\",\"violet\",\"violet\",\"violet\",\"violet\",\"violet\",\"violet\",\"violet\",\"violet\",\"violet\",\"violet\",\"violet\",\"violet\",\"violet\",\"violet\",\"violet\",\"violet\",\"violet\",\"violet\",\"violet\",\"violet\",\"violet\",\"violet\",\"violet\",\"violet\",\"violet\",\"violet\",\"violet\",\"green\",\"green\",\"green\",\"green\",\"green\",\"green\",\"green\",\"green\",\"green\",\"green\",\"green\",\"green\",\"green\",\"green\",\"green\",\"green\",\"green\",\"green\",\"green\",\"green\",\"green\",\"green\",\"green\",\"green\",\"green\",\"green\",\"green\",\"green\",\"green\",\"green\",\"green\",\"green\",\"green\",\"green\",\"green\",\"green\",\"green\",\"green\",\"green\",\"green\",\"green\",\"green\",\"green\",\"green\",\"green\",\"green\",\"green\",\"green\",\"green\",\"green\",\"green\",\"green\",\"green\",\"green\",\"green\",\"green\",\"green\",\"green\",\"green\",\"green\",\"green\",\"green\",\"green\",\"green\",\"green\",\"green\",\"green\",\"green\",\"green\",\"green\",\"green\",\"green\",\"green\",\"green\",\"green\",\"green\",\"green\",\"green\",\"green\",\"green\",\"green\",\"green\",\"green\",\"green\",\"green\",\"green\",\"green\",\"green\",\"green\",\"green\",\"green\",\"green\",\"green\",\"green\",\"green\",\"green\",\"green\",\"green\",\"green\",\"green\",\"green\",\"green\",\"green\",\"green\",\"green\",\"green\",\"green\",\"green\",\"green\",\"green\",\"green\",\"green\",\"green\",\"green\",\"green\",\"green\",\"green\",\"green\",\"green\",\"green\",\"green\",\"green\",\"green\",\"green\",\"green\",\"green\",\"green\",\"green\",\"green\",\"green\",\"green\",\"green\",\"green\",\"green\",\"green\",\"green\",\"green\",\"green\",\"green\",\"green\",\"green\",\"green\",\"green\",\"green\",\"green\",\"green\",\"green\",\"green\",\"green\",\"green\",\"green\",\"green\",\"green\",\"green\",\"green\",\"green\",\"green\",\"green\",\"green\",\"green\",\"green\",\"green\",\"green\",\"green\",\"green\",\"green\",\"green\",\"green\",\"green\",\"green\",\"green\",\"green\",\"green\",\"green\",\"green\",\"green\",\"green\",\"green\",\"green\",\"green\",\"green\",\"green\",\"green\",\"green\",\"green\",\"green\",\"green\",\"green\",\"green\",\"green\",\"green\",\"green\",\"green\",\"green\",\"green\",\"green\",\"green\",\"green\",\"green\",\"green\",\"green\",\"green\",\"green\",\"green\",\"green\",\"green\",\"green\",\"green\",\"green\",\"green\",\"green\",\"green\",\"green\",\"green\",\"green\",\"green\",\"green\",\"green\",\"green\",\"green\",\"green\",\"green\",\"green\",\"green\",\"green\",\"green\",\"green\",\"green\",\"green\",\"green\",\"green\",\"green\",\"green\",\"green\",\"green\",\"green\",\"green\",\"green\",\"green\",\"green\",\"green\",\"green\",\"green\",\"green\",\"green\",\"green\",\"green\",\"green\",\"green\",\"green\",\"green\",\"green\",\"green\",\"green\",\"green\",\"green\",\"green\",\"green\",\"green\",\"green\",\"green\",\"green\",\"green\",\"green\",\"green\",\"green\",\"green\",\"green\",\"green\",\"green\",\"green\",\"green\",\"green\",\"green\",\"green\",\"green\",\"green\",\"green\",\"green\",\"green\",\"green\",\"green\",\"green\",\"green\",\"green\",\"green\",\"green\",\"green\",\"green\",\"green\",\"green\",\"green\",\"green\",\"green\",\"green\",\"green\",\"green\",\"green\",\"green\",\"green\",\"green\",\"green\",\"green\",\"green\",\"green\",\"green\",\"green\",\"green\",\"green\",\"green\",\"green\",\"green\",\"green\",\"green\",\"green\",\"green\",\"green\",\"green\",\"green\",\"green\",\"green\",\"green\",\"green\",\"green\",\"green\",\"green\",\"green\",\"green\",\"green\",\"green\",\"green\",\"green\",\"green\",\"green\",\"green\",\"green\",\"green\",\"green\",\"green\",\"green\",\"green\",\"green\",\"green\",\"green\",\"green\",\"green\",\"green\",\"green\",\"green\",\"green\",\"green\",\"green\",\"green\",\"green\",\"green\",\"green\",\"green\",\"green\",\"green\",\"green\",\"green\",\"green\",\"green\",\"green\",\"green\",\"green\",\"green\",\"green\",\"green\",\"green\",\"green\",\"green\",\"green\",\"green\",\"green\",\"green\",\"green\",\"green\",\"green\",\"green\",\"green\",\"green\",\"green\",\"green\",\"green\",\"green\",\"green\",\"green\",\"green\",\"green\",\"green\",\"green\",\"green\",\"green\",\"green\",\"green\",\"green\",\"green\",\"green\",\"green\",\"green\",\"green\",\"green\",\"green\",\"green\",\"green\",\"green\",\"green\",\"green\",\"green\",\"green\",\"green\",\"green\",\"green\",\"green\",\"green\",\"green\",\"red\",\"red\",\"red\",\"red\",\"red\",\"red\",\"red\",\"red\",\"red\",\"red\",\"red\",\"red\",\"red\",\"red\",\"red\",\"red\",\"red\",\"red\",\"red\",\"red\",\"red\",\"red\",\"red\",\"red\",\"red\",\"red\",\"red\",\"red\",\"red\",\"red\",\"red\",\"red\",\"red\",\"red\",\"red\",\"red\",\"red\",\"red\",\"red\",\"red\",\"red\",\"red\",\"red\",\"red\",\"red\",\"red\",\"red\",\"red\",\"red\",\"red\",\"red\",\"red\",\"red\",\"red\",\"red\",\"red\",\"red\",\"red\",\"red\",\"red\",\"red\",\"red\",\"red\",\"red\",\"red\",\"red\",\"red\",\"red\",\"red\",\"red\",\"red\",\"red\",\"red\",\"red\",\"red\",\"red\",\"red\",\"red\",\"red\",\"red\",\"red\",\"red\",\"red\",\"red\",\"red\",\"red\",\"red\",\"red\",\"red\",\"red\",\"red\",\"red\",\"red\",\"red\",\"red\",\"red\",\"red\",\"red\",\"red\",\"red\",\"red\",\"red\",\"red\",\"red\",\"red\",\"red\",\"red\",\"red\",\"red\",\"red\",\"red\",\"red\",\"red\",\"red\",\"red\",\"red\",\"red\",\"red\",\"red\",\"red\",\"red\",\"red\",\"red\",\"red\",\"red\",\"red\",\"red\",\"red\",\"red\",\"red\",\"red\",\"red\",\"red\",\"red\",\"red\",\"red\",\"red\",\"red\",\"red\",\"red\",\"red\",\"red\",\"red\",\"red\",\"red\",\"red\",\"red\",\"red\",\"red\",\"red\",\"red\",\"red\",\"red\",\"red\",\"red\",\"red\",\"red\",\"red\",\"red\",\"red\",\"red\",\"red\",\"red\",\"red\",\"red\",\"red\",\"red\",\"red\",\"red\",\"red\",\"red\",\"red\",\"red\",\"red\",\"red\",\"red\",\"red\",\"red\",\"red\",\"red\",\"red\",\"red\",\"red\",\"red\",\"red\",\"red\",\"red\",\"red\",\"red\",\"red\",\"red\",\"red\",\"red\",\"red\",\"red\",\"red\",\"red\",\"red\",\"red\",\"red\",\"red\",\"red\",\"red\",\"red\",\"red\",\"red\",\"red\",\"red\",\"red\",\"red\",\"red\",\"red\",\"red\",\"red\",\"red\",\"red\",\"red\",\"red\",\"red\",\"red\",\"red\",\"red\",\"red\",\"red\",\"red\",\"red\",\"red\",\"red\",\"red\",\"red\",\"red\",\"red\",\"red\",\"red\",\"red\",\"red\",\"red\",\"red\",\"red\",\"red\",\"red\",\"red\",\"red\",\"red\",\"red\",\"red\",\"red\",\"red\",\"red\",\"red\",\"red\",\"red\",\"red\",\"red\",\"red\",\"red\",\"red\",\"red\",\"red\",\"red\",\"red\",\"red\",\"red\",\"red\",\"red\",\"red\",\"red\",\"red\",\"red\",\"red\",\"red\",\"red\",\"red\",\"red\",\"red\",\"red\",\"red\",\"red\",\"red\",\"red\",\"red\",\"red\",\"red\",\"red\",\"red\",\"red\",\"red\",\"red\",\"red\",\"red\",\"red\",\"red\",\"red\",\"red\",\"red\",\"red\",\"red\",\"red\",\"red\",\"red\",\"red\",\"red\",\"red\",\"red\",\"red\",\"red\",\"red\",\"red\",\"red\",\"red\",\"red\",\"red\",\"red\",\"red\",\"red\",\"red\",\"red\",\"red\",\"red\",\"red\",\"red\",\"red\",\"red\",\"red\",\"red\",\"red\",\"red\",\"red\",\"red\",\"red\",\"red\",\"red\",\"red\",\"red\",\"red\",\"red\",\"red\",\"red\",\"red\",\"red\",\"red\",\"red\",\"red\",\"red\",\"red\",\"red\",\"red\",\"red\",\"red\",\"red\",\"red\",\"red\",\"red\",\"red\",\"red\",\"red\",\"red\",\"red\",\"red\",\"red\",\"red\",\"red\",\"red\",\"red\",\"red\",\"red\",\"red\",\"red\",\"red\",\"red\",\"red\",\"red\",\"red\",\"red\",\"red\",\"red\",\"red\",\"red\",\"red\",\"red\",\"red\",\"red\",\"red\",\"red\",\"red\",\"red\",\"red\",\"red\",\"red\",\"red\",\"red\",\"red\",\"red\",\"red\",\"red\",\"red\",\"red\",\"red\",\"red\",\"red\",\"red\",\"red\",\"red\",\"red\",\"red\",\"red\",\"red\",\"red\",\"red\",\"red\",\"red\",\"red\",\"red\",\"red\",\"red\",\"red\",\"red\",\"red\",\"red\",\"red\",\"red\",\"red\",\"red\",\"red\",\"red\",\"red\",\"red\",\"red\",\"red\",\"red\",\"red\",\"red\",\"red\",\"red\",\"red\",\"red\",\"red\",\"red\",\"red\",\"red\",\"red\",\"red\",\"red\",\"red\",\"red\",\"red\",\"red\",\"red\",\"red\",\"red\",\"red\",\"red\",\"red\",\"red\",\"red\",\"red\",\"red\",\"red\",\"red\",\"red\",\"red\",\"red\",\"red\",\"red\",\"red\",\"red\",\"red\",\"red\",\"red\",\"red\",\"red\",\"red\",\"red\",\"red\",\"red\",\"red\",\"red\",\"red\",\"red\",\"red\",\"red\",\"red\",\"red\",\"red\",\"red\",\"red\",\"red\",\"red\",\"red\",\"red\",\"red\",\"red\",\"red\",\"red\",\"red\",\"red\",\"red\",\"red\",\"red\",\"red\",\"red\",\"red\",\"red\",\"red\",\"red\",\"red\",\"red\",\"red\",\"red\",\"red\"],\"x\":{\"__ndarray__\":\"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\",\"dtype\":\"float32\",\"order\":\"little\",\"shape\":[2231]},\"y\":{\"__ndarray__\":\"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\",\"dtype\":\"float32\",\"order\":\"little\",\"shape\":[2231]}},\"selected\":{\"id\":\"1171\"},\"selection_policy\":{\"id\":\"1170\"}},\"id\":\"1111\",\"type\":\"ColumnDataSource\"},{\"attributes\":{},\"id\":\"1162\",\"type\":\"Title\"},{\"attributes\":{},\"id\":\"1119\",\"type\":\"LinearScale\"},{\"attributes\":{\"source\":{\"id\":\"1111\"}},\"id\":\"1147\",\"type\":\"CDSView\"},{\"attributes\":{},\"id\":\"1117\",\"type\":\"LinearScale\"},{\"attributes\":{\"callback\":null,\"tooltips\":[]},\"id\":\"1148\",\"type\":\"HoverTool\"}],\"root_ids\":[\"1112\"]},\"title\":\"Bokeh Application\",\"version\":\"2.3.3\"}};\n",
              "  var render_items = [{\"docid\":\"43197ebd-8c56-4f55-be2d-284d2b61cd6c\",\"root_ids\":[\"1112\"],\"roots\":{\"1112\":\"c1d2d436-fb0d-4185-9205-8da50b40103d\"}}];\n",
              "  root.Bokeh.embed.embed_items_notebook(docs_json, render_items);\n",
              "\n",
              "  }\n",
              "  if (root.Bokeh !== undefined) {\n",
              "    embed_document(root);\n",
              "  } else {\n",
              "    var attempts = 0;\n",
              "    var timer = setInterval(function(root) {\n",
              "      if (root.Bokeh !== undefined) {\n",
              "        clearInterval(timer);\n",
              "        embed_document(root);\n",
              "      } else {\n",
              "        attempts++;\n",
              "        if (attempts > 100) {\n",
              "          clearInterval(timer);\n",
              "          console.log(\"Bokeh: ERROR: Unable to run BokehJS code because BokehJS library is missing\");\n",
              "        }\n",
              "      }\n",
              "    }, 10, root)\n",
              "  }\n",
              "})(window);"
            ],
            "application/vnd.bokehjs_exec.v0+json": ""
          },
          "metadata": {
            "application/vnd.bokehjs_exec.v0+json": {
              "id": "1112"
            }
          }
        },
        {
          "output_type": "execute_result",
          "data": {
            "text/plain": [
              "Figure(id='1112', ...)"
            ],
            "text/html": [
              "<div style=\"display: table;\"><div style=\"display: table-row;\"><div style=\"display: table-cell;\"><b title=\"bokeh.plotting.figure.Figure\">Figure</b>(</div><div style=\"display: table-cell;\">id&nbsp;=&nbsp;'1112', <span id=\"1228\" style=\"cursor: pointer;\">&hellip;)</span></div></div><div class=\"1227\" style=\"display: none;\"><div style=\"display: table-cell;\"></div><div style=\"display: table-cell;\">above&nbsp;=&nbsp;[],</div></div><div class=\"1227\" style=\"display: none;\"><div style=\"display: table-cell;\"></div><div style=\"display: table-cell;\">align&nbsp;=&nbsp;'start',</div></div><div class=\"1227\" style=\"display: none;\"><div style=\"display: table-cell;\"></div><div style=\"display: table-cell;\">aspect_ratio&nbsp;=&nbsp;None,</div></div><div class=\"1227\" style=\"display: none;\"><div style=\"display: table-cell;\"></div><div style=\"display: table-cell;\">aspect_scale&nbsp;=&nbsp;1,</div></div><div class=\"1227\" style=\"display: none;\"><div style=\"display: table-cell;\"></div><div style=\"display: table-cell;\">background&nbsp;=&nbsp;None,</div></div><div class=\"1227\" style=\"display: none;\"><div style=\"display: table-cell;\"></div><div style=\"display: table-cell;\">background_fill_alpha&nbsp;=&nbsp;1.0,</div></div><div class=\"1227\" style=\"display: none;\"><div style=\"display: table-cell;\"></div><div style=\"display: table-cell;\">background_fill_color&nbsp;=&nbsp;'#ffffff',</div></div><div class=\"1227\" style=\"display: none;\"><div style=\"display: table-cell;\"></div><div style=\"display: table-cell;\">below&nbsp;=&nbsp;[LinearAxis(id='1121', ...)],</div></div><div class=\"1227\" style=\"display: none;\"><div style=\"display: table-cell;\"></div><div style=\"display: table-cell;\">border_fill_alpha&nbsp;=&nbsp;1.0,</div></div><div class=\"1227\" style=\"display: none;\"><div style=\"display: table-cell;\"></div><div style=\"display: table-cell;\">border_fill_color&nbsp;=&nbsp;'#ffffff',</div></div><div class=\"1227\" style=\"display: none;\"><div style=\"display: table-cell;\"></div><div style=\"display: table-cell;\">center&nbsp;=&nbsp;[Grid(id='1124', ...), Grid(id='1128', ...)],</div></div><div class=\"1227\" style=\"display: none;\"><div style=\"display: table-cell;\"></div><div style=\"display: table-cell;\">css_classes&nbsp;=&nbsp;[],</div></div><div class=\"1227\" style=\"display: none;\"><div style=\"display: table-cell;\"></div><div style=\"display: table-cell;\">disabled&nbsp;=&nbsp;False,</div></div><div class=\"1227\" style=\"display: none;\"><div style=\"display: table-cell;\"></div><div style=\"display: table-cell;\">extra_x_ranges&nbsp;=&nbsp;{},</div></div><div class=\"1227\" style=\"display: none;\"><div style=\"display: table-cell;\"></div><div style=\"display: table-cell;\">extra_y_ranges&nbsp;=&nbsp;{},</div></div><div class=\"1227\" style=\"display: none;\"><div style=\"display: table-cell;\"></div><div style=\"display: table-cell;\">frame_height&nbsp;=&nbsp;None,</div></div><div class=\"1227\" style=\"display: none;\"><div style=\"display: table-cell;\"></div><div style=\"display: table-cell;\">frame_width&nbsp;=&nbsp;None,</div></div><div class=\"1227\" style=\"display: none;\"><div style=\"display: table-cell;\"></div><div style=\"display: table-cell;\">height&nbsp;=&nbsp;400,</div></div><div class=\"1227\" style=\"display: none;\"><div style=\"display: table-cell;\"></div><div style=\"display: table-cell;\">height_policy&nbsp;=&nbsp;'auto',</div></div><div class=\"1227\" style=\"display: none;\"><div style=\"display: table-cell;\"></div><div style=\"display: table-cell;\">hidpi&nbsp;=&nbsp;True,</div></div><div class=\"1227\" style=\"display: none;\"><div style=\"display: table-cell;\"></div><div style=\"display: table-cell;\">inner_height&nbsp;=&nbsp;0,</div></div><div class=\"1227\" style=\"display: none;\"><div style=\"display: table-cell;\"></div><div style=\"display: table-cell;\">inner_width&nbsp;=&nbsp;0,</div></div><div class=\"1227\" style=\"display: none;\"><div style=\"display: table-cell;\"></div><div style=\"display: table-cell;\">js_event_callbacks&nbsp;=&nbsp;{},</div></div><div class=\"1227\" style=\"display: none;\"><div style=\"display: table-cell;\"></div><div style=\"display: table-cell;\">js_property_callbacks&nbsp;=&nbsp;{},</div></div><div class=\"1227\" style=\"display: none;\"><div style=\"display: table-cell;\"></div><div style=\"display: table-cell;\">left&nbsp;=&nbsp;[LinearAxis(id='1125', ...)],</div></div><div class=\"1227\" style=\"display: none;\"><div style=\"display: table-cell;\"></div><div style=\"display: table-cell;\">lod_factor&nbsp;=&nbsp;10,</div></div><div class=\"1227\" style=\"display: none;\"><div style=\"display: table-cell;\"></div><div style=\"display: table-cell;\">lod_interval&nbsp;=&nbsp;300,</div></div><div class=\"1227\" style=\"display: none;\"><div style=\"display: table-cell;\"></div><div style=\"display: table-cell;\">lod_threshold&nbsp;=&nbsp;2000,</div></div><div class=\"1227\" style=\"display: none;\"><div style=\"display: table-cell;\"></div><div style=\"display: table-cell;\">lod_timeout&nbsp;=&nbsp;500,</div></div><div class=\"1227\" style=\"display: none;\"><div style=\"display: table-cell;\"></div><div style=\"display: table-cell;\">margin&nbsp;=&nbsp;(0, 0, 0, 0),</div></div><div class=\"1227\" style=\"display: none;\"><div style=\"display: table-cell;\"></div><div style=\"display: table-cell;\">match_aspect&nbsp;=&nbsp;False,</div></div><div class=\"1227\" style=\"display: none;\"><div style=\"display: table-cell;\"></div><div style=\"display: table-cell;\">max_height&nbsp;=&nbsp;None,</div></div><div class=\"1227\" style=\"display: none;\"><div style=\"display: table-cell;\"></div><div style=\"display: table-cell;\">max_width&nbsp;=&nbsp;None,</div></div><div class=\"1227\" style=\"display: none;\"><div style=\"display: table-cell;\"></div><div style=\"display: table-cell;\">min_border&nbsp;=&nbsp;5,</div></div><div class=\"1227\" style=\"display: none;\"><div style=\"display: table-cell;\"></div><div style=\"display: table-cell;\">min_border_bottom&nbsp;=&nbsp;None,</div></div><div class=\"1227\" style=\"display: none;\"><div style=\"display: table-cell;\"></div><div style=\"display: table-cell;\">min_border_left&nbsp;=&nbsp;None,</div></div><div class=\"1227\" style=\"display: none;\"><div style=\"display: table-cell;\"></div><div style=\"display: table-cell;\">min_border_right&nbsp;=&nbsp;None,</div></div><div class=\"1227\" style=\"display: none;\"><div style=\"display: table-cell;\"></div><div style=\"display: table-cell;\">min_border_top&nbsp;=&nbsp;None,</div></div><div class=\"1227\" style=\"display: none;\"><div style=\"display: table-cell;\"></div><div style=\"display: table-cell;\">min_height&nbsp;=&nbsp;None,</div></div><div class=\"1227\" style=\"display: none;\"><div style=\"display: table-cell;\"></div><div style=\"display: table-cell;\">min_width&nbsp;=&nbsp;None,</div></div><div class=\"1227\" style=\"display: none;\"><div style=\"display: table-cell;\"></div><div style=\"display: table-cell;\">name&nbsp;=&nbsp;None,</div></div><div class=\"1227\" style=\"display: none;\"><div style=\"display: table-cell;\"></div><div style=\"display: table-cell;\">outer_height&nbsp;=&nbsp;0,</div></div><div class=\"1227\" style=\"display: none;\"><div style=\"display: table-cell;\"></div><div style=\"display: table-cell;\">outer_width&nbsp;=&nbsp;0,</div></div><div class=\"1227\" style=\"display: none;\"><div style=\"display: table-cell;\"></div><div style=\"display: table-cell;\">outline_line_alpha&nbsp;=&nbsp;1.0,</div></div><div class=\"1227\" style=\"display: none;\"><div style=\"display: table-cell;\"></div><div style=\"display: table-cell;\">outline_line_cap&nbsp;=&nbsp;'butt',</div></div><div class=\"1227\" style=\"display: none;\"><div style=\"display: table-cell;\"></div><div style=\"display: table-cell;\">outline_line_color&nbsp;=&nbsp;'#e5e5e5',</div></div><div class=\"1227\" style=\"display: none;\"><div style=\"display: table-cell;\"></div><div style=\"display: table-cell;\">outline_line_dash&nbsp;=&nbsp;[],</div></div><div class=\"1227\" style=\"display: none;\"><div style=\"display: table-cell;\"></div><div style=\"display: table-cell;\">outline_line_dash_offset&nbsp;=&nbsp;0,</div></div><div class=\"1227\" style=\"display: none;\"><div style=\"display: table-cell;\"></div><div style=\"display: table-cell;\">outline_line_join&nbsp;=&nbsp;'bevel',</div></div><div class=\"1227\" style=\"display: none;\"><div style=\"display: table-cell;\"></div><div style=\"display: table-cell;\">outline_line_width&nbsp;=&nbsp;1,</div></div><div class=\"1227\" style=\"display: none;\"><div style=\"display: table-cell;\"></div><div style=\"display: table-cell;\">output_backend&nbsp;=&nbsp;'canvas',</div></div><div class=\"1227\" style=\"display: none;\"><div style=\"display: table-cell;\"></div><div style=\"display: table-cell;\">renderers&nbsp;=&nbsp;[GlyphRenderer(id='1146', ...)],</div></div><div class=\"1227\" style=\"display: none;\"><div style=\"display: table-cell;\"></div><div style=\"display: table-cell;\">reset_policy&nbsp;=&nbsp;'standard',</div></div><div class=\"1227\" style=\"display: none;\"><div style=\"display: table-cell;\"></div><div style=\"display: table-cell;\">right&nbsp;=&nbsp;[],</div></div><div class=\"1227\" style=\"display: none;\"><div style=\"display: table-cell;\"></div><div style=\"display: table-cell;\">sizing_mode&nbsp;=&nbsp;None,</div></div><div class=\"1227\" style=\"display: none;\"><div style=\"display: table-cell;\"></div><div style=\"display: table-cell;\">subscribed_events&nbsp;=&nbsp;[],</div></div><div class=\"1227\" style=\"display: none;\"><div style=\"display: table-cell;\"></div><div style=\"display: table-cell;\">syncable&nbsp;=&nbsp;True,</div></div><div class=\"1227\" style=\"display: none;\"><div style=\"display: table-cell;\"></div><div style=\"display: table-cell;\">tags&nbsp;=&nbsp;[],</div></div><div class=\"1227\" style=\"display: none;\"><div style=\"display: table-cell;\"></div><div style=\"display: table-cell;\">title&nbsp;=&nbsp;Title(id='1162', ...),</div></div><div class=\"1227\" style=\"display: none;\"><div style=\"display: table-cell;\"></div><div style=\"display: table-cell;\">title_location&nbsp;=&nbsp;'above',</div></div><div class=\"1227\" style=\"display: none;\"><div style=\"display: table-cell;\"></div><div style=\"display: table-cell;\">toolbar&nbsp;=&nbsp;Toolbar(id='1136', ...),</div></div><div class=\"1227\" style=\"display: none;\"><div style=\"display: table-cell;\"></div><div style=\"display: table-cell;\">toolbar_location&nbsp;=&nbsp;'right',</div></div><div class=\"1227\" style=\"display: none;\"><div style=\"display: table-cell;\"></div><div style=\"display: table-cell;\">toolbar_sticky&nbsp;=&nbsp;True,</div></div><div class=\"1227\" style=\"display: none;\"><div style=\"display: table-cell;\"></div><div style=\"display: table-cell;\">visible&nbsp;=&nbsp;True,</div></div><div class=\"1227\" style=\"display: none;\"><div style=\"display: table-cell;\"></div><div style=\"display: table-cell;\">width&nbsp;=&nbsp;600,</div></div><div class=\"1227\" style=\"display: none;\"><div style=\"display: table-cell;\"></div><div style=\"display: table-cell;\">width_policy&nbsp;=&nbsp;'auto',</div></div><div class=\"1227\" style=\"display: none;\"><div style=\"display: table-cell;\"></div><div style=\"display: table-cell;\">x_range&nbsp;=&nbsp;DataRange1d(id='1113', ...),</div></div><div class=\"1227\" style=\"display: none;\"><div style=\"display: table-cell;\"></div><div style=\"display: table-cell;\">x_scale&nbsp;=&nbsp;LinearScale(id='1117', ...),</div></div><div class=\"1227\" style=\"display: none;\"><div style=\"display: table-cell;\"></div><div style=\"display: table-cell;\">y_range&nbsp;=&nbsp;DataRange1d(id='1115', ...),</div></div><div class=\"1227\" style=\"display: none;\"><div style=\"display: table-cell;\"></div><div style=\"display: table-cell;\">y_scale&nbsp;=&nbsp;LinearScale(id='1119', ...))</div></div></div>\n",
              "<script>\n",
              "(function() {\n",
              "  var expanded = false;\n",
              "  var ellipsis = document.getElementById(\"1228\");\n",
              "  ellipsis.addEventListener(\"click\", function() {\n",
              "    var rows = document.getElementsByClassName(\"1227\");\n",
              "    for (var i = 0; i < rows.length; i++) {\n",
              "      var el = rows[i];\n",
              "      el.style.display = expanded ? \"none\" : \"table-row\";\n",
              "    }\n",
              "    ellipsis.innerHTML = expanded ? \"&hellip;)\" : \"&lsaquo;&lsaquo;&lsaquo;\";\n",
              "    expanded = !expanded;\n",
              "  });\n",
              "})();\n",
              "</script>\n"
            ]
          },
          "metadata": {},
          "execution_count": 21
        }
      ]
    },
    {
      "cell_type": "markdown",
      "source": [
        "Подготовим для обучения и валидации train и test датасеты. "
      ],
      "metadata": {
        "id": "WseQyr-Twewb"
      }
    },
    {
      "cell_type": "code",
      "source": [
        "from sklearn.model_selection import train_test_split\n",
        "from sklearn.utils import shuffle\n",
        "\n",
        "df = shuffle(df)\n",
        "\n",
        "X = df.text_v.tolist()\n",
        "y = df.label.tolist()\n",
        "\n",
        "X, y = np.array(X), np.array(y)\n",
        "\n",
        "X_train, X_test, y_train, y_test = train_test_split(X,y, test_size=0.2)\n",
        "\n",
        "print (\"total train examples %s\" % len(y_train))\n",
        "print (\"total test examples %s\" % len(y_test))"
      ],
      "metadata": {
        "trusted": true,
        "colab": {
          "base_uri": "https://localhost:8080/"
        },
        "id": "mPNcs8H_EQEM",
        "outputId": "bf0f1d6e-eb2c-44a7-c270-9e3962fab611"
      },
      "execution_count": 46,
      "outputs": [
        {
          "output_type": "stream",
          "name": "stdout",
          "text": [
            "total train examples 1784\n",
            "total test examples 447\n"
          ]
        }
      ]
    },
    {
      "cell_type": "markdown",
      "source": [
        "Я выбрала для обучения модель Случайного леса."
      ],
      "metadata": {
        "id": "ZTZgTahqwn6_"
      }
    },
    {
      "cell_type": "code",
      "source": [
        "from sklearn.ensemble import RandomForestClassifier\n",
        "\n",
        "rfc_w2v = RandomForestClassifier(n_estimators=200, max_depth=5, n_jobs=-1)"
      ],
      "metadata": {
        "trusted": true,
        "id": "dNKYLkLMEQEN"
      },
      "execution_count": 47,
      "outputs": []
    },
    {
      "cell_type": "code",
      "source": [
        "rfc_w2v.fit(X_train,y_train)\n",
        "pred = rfc_w2v.predict(X_test)"
      ],
      "metadata": {
        "trusted": true,
        "id": "ZEePpjJaEQEN"
      },
      "execution_count": 48,
      "outputs": []
    },
    {
      "cell_type": "code",
      "source": [
        "from sklearn.metrics import *\n",
        "import seaborn as sns\n",
        "import matplotlib.pyplot as plt\n",
        "\n",
        "print(\"Precision: {0:6.2f}\".format(precision_score(y_test, pred, average='macro')))\n",
        "print(\"Recall: {0:6.2f}\".format(recall_score(y_test, pred, average='macro')))\n",
        "print(\"F1-measure: {0:6.2f}\".format(f1_score(y_test, pred, average='macro')))\n",
        "print(\"Accuracy: {0:6.2f}\".format(accuracy_score(y_test, pred)))\n",
        "\n",
        "print(classification_report(y_test, pred))\n",
        "\n",
        "labels = rfc_w2v.classes_\n",
        "\n",
        "sns.heatmap(data=confusion_matrix(y_test, pred), annot=True, fmt=\"d\", cbar=False, xticklabels=labels, yticklabels=labels)\n",
        "plt.title(\"Confusion matrix\")\n",
        "plt.show()"
      ],
      "metadata": {
        "trusted": true,
        "colab": {
          "base_uri": "https://localhost:8080/",
          "height": 559
        },
        "id": "Zs6KMtj4EQEN",
        "outputId": "73b00e97-a3cb-4e4d-82ab-0af4e9a5f2a7"
      },
      "execution_count": 62,
      "outputs": [
        {
          "output_type": "stream",
          "name": "stdout",
          "text": [
            "Precision:   0.94\n",
            "Recall:   0.94\n",
            "F1-measure:   0.94\n",
            "Accuracy:   0.94\n",
            "               precision    recall  f1-score   support\n",
            "\n",
            "     business       0.90      0.96      0.93        92\n",
            "entertainment       0.99      0.94      0.96        77\n",
            "     politics       0.92      0.88      0.90        98\n",
            "        sport       0.97      0.98      0.97        95\n",
            "         tech       0.91      0.93      0.92        85\n",
            "\n",
            "     accuracy                           0.94       447\n",
            "    macro avg       0.94      0.94      0.94       447\n",
            " weighted avg       0.94      0.94      0.94       447\n",
            "\n"
          ]
        },
        {
          "output_type": "display_data",
          "data": {
            "text/plain": [
              "<Figure size 432x288 with 1 Axes>"
            ],
            "image/png": "[encoded data removed]"
          },
          "metadata": {
            "needs_background": "light"
          }
        }
      ]
    },
    {
      "cell_type": "code",
      "source": [
        "y_pred_proba = rfc_w2v.predict_proba(X_test)\n",
        "roc_auc_score(y_test, y_pred_proba, multi_class='ovr')"
      ],
      "metadata": {
        "trusted": true,
        "colab": {
          "base_uri": "https://localhost:8080/"
        },
        "id": "WB-5OryUEQEO",
        "outputId": "010915b2-43ae-42fc-e735-8abc12691eb5"
      },
      "execution_count": 50,
      "outputs": [
        {
          "output_type": "execute_result",
          "data": {
            "text/plain": [
              "0.9957705707162982"
            ]
          },
          "metadata": {},
          "execution_count": 50
        }
      ]
    },
    {
      "cell_type": "markdown",
      "source": [
        "Как видим по всем метрикам выше модель отлично справилась с классификацией текста, ROC-AUC score **0.996**"
      ],
      "metadata": {
        "id": "WER6RUBdwx6_"
      }
    },
    {
      "cell_type": "markdown",
      "source": [
        "## **BERT MODEL**"
      ],
      "metadata": {
        "id": "ROAWdY1nxmd4"
      }
    },
    {
      "cell_type": "markdown",
      "source": [
        "Для второй части задания загрузим предобученную модель трансформера Distil Bert и дообучим ее на нашем датасете."
      ],
      "metadata": {
        "id": "xXS6wkl1xD3a"
      }
    },
    {
      "cell_type": "code",
      "source": [
        "!pip install transformers;"
      ],
      "metadata": {
        "id": "EObA8yL5JMpo"
      },
      "execution_count": null,
      "outputs": []
    },
    {
      "cell_type": "code",
      "source": [
        "from transformers import DistilBertTokenizer, DistilBertForSequenceClassification\n",
        "\n",
        "import torch\n",
        "import transformers\n",
        "from torch.utils.data import Dataset, DataLoader, RandomSampler, SequentialSampler\n",
        "\n",
        "from tqdm import tqdm\n",
        "\n",
        "from torch import cuda\n",
        "device = 'cuda' if cuda.is_available() else 'cpu'"
      ],
      "metadata": {
        "id": "SW1mfx_wxzC0"
      },
      "execution_count": 28,
      "outputs": []
    },
    {
      "cell_type": "markdown",
      "source": [
        "Инициализируем гипермараметры"
      ],
      "metadata": {
        "id": "f_h5AI5q1TTY"
      }
    },
    {
      "cell_type": "code",
      "source": [
        "MAX_LEN = 256\n",
        "TRAIN_BATCH_SIZE = 64\n",
        "VALID_BATCH_SIZE = 16\n",
        "EPOCHS = 20\n",
        "LEARNING_RATE = 1e-05"
      ],
      "metadata": {
        "id": "PzjagmtlASwY"
      },
      "execution_count": 29,
      "outputs": []
    },
    {
      "cell_type": "code",
      "source": [
        "model = DistilBertForSequenceClassification.from_pretrained(\"distilbert-base-uncased\", num_labels=5,\n",
        "                                                            problem_type=\"multi_label_classification\")\n",
        "\n",
        "tokenizer = DistilBertTokenizer.from_pretrained(\"distilbert-base-uncased\")\n",
        "model.to(device);"
      ],
      "metadata": {
        "colab": {
          "base_uri": "https://localhost:8080/",
          "height": 252,
          "referenced_widgets": [
            "b8232a8cb2c64e999b4df4007f04770e",
            "a7134bb8ca804904b1a0f87fa7a4a711",
            "39d74129ff4f4dae9fdd9d3dd5b559a2",
            "0e6654b3f1534947aa9bc45c4a44d984",
            "4920c2e68da1429ba967dc5f84dc7fec",
            "f76a2425dd28410eafe4c8f8e9e92495",
            "870e2df5e69849a1a84bbbb8f7ffaf37",
            "cad1690c7f15408cbc0124309a97041d",
            "9527136275454e9fabbc6fd834bdbed6",
            "138b51dd2dfb4ffb98b43cf995a523b0",
            "290bdaddf42a4c81be2817b742d3331f",
            "8c2f7224a89e419cb54a059a70c0eb2b",
            "f95416e03d624d20a02e215d987ffb14",
            "4504b4c7ef7f468db628dddf51e00819",
            "978257ff66044e048a2891d932d6bc8a",
            "5c77401f12d54ecb9f6960436e241a7a",
            "2aab7cebb55045c38df81df28dec576c",
            "1948dad7b01b42f69905299c19bde187",
            "4b0dabe34cb247deaef67db1788a579e",
            "20e5c2c1887844c383870f051fe3233c",
            "e4b99e5627e54684ab865c6a695f8d1e",
            "b33597c53a66424bb63cfa2ca9fe773a",
            "5f83e4cf8a09410d9b99097d102dfb16",
            "43c28302b176468fa808be7f0e87d5c6",
            "49dfcf00f552442faed8a52dccdea5b7",
            "3386b027578849c68f4cb34b47f3ad79",
            "039d72102d19436bae0d4c368d8d41ac",
            "38a5dffe42ba4130a0700f3e4e5fabe0",
            "28bfa9b381b244d8a9844cc17fc81706",
            "ef1ac31a67164f2b969581c3efe27c51",
            "56310b92a6c64b05981b385f907f90c6",
            "124089d035ca433bb2d7c2114defd6b6",
            "7d8f4490ce3c46588b68e151338f8c31",
            "a721bda1ce734bbf91b593605384d574",
            "4c6138ff0d764e31af68d3835bd5ab46",
            "cab4b34864b845d09924b52e92ed2099",
            "45ca45c1256043098da4e89d106eab01",
            "b3f1ecb22a544627ac0ce85565d05f77",
            "c0ddf668f5f74cfe93b914b384688177",
            "f099ac465a1d4f1889f0a08468de9688",
            "81991abcf10241108d4d1fddb47c74e3",
            "7d9214be31e143d993bf313275e6028a",
            "1f56ce096a3c46338c8ec5d7174c1549",
            "5b0499fd000b46b39461f071e06f0157"
          ]
        },
        "id": "UCSy3MbeEQEP",
        "outputId": "30e82039-fd73-40f7-a34e-fb7277b5e855"
      },
      "execution_count": 30,
      "outputs": [
        {
          "output_type": "display_data",
          "data": {
            "text/plain": [
              "Downloading:   0%|          | 0.00/483 [00:00<?, ?B/s]"
            ],
            "application/vnd.jupyter.widget-view+json": {
              "version_major": 2,
              "version_minor": 0,
              "model_id": "b8232a8cb2c64e999b4df4007f04770e"
            }
          },
          "metadata": {}
        },
        {
          "output_type": "display_data",
          "data": {
            "text/plain": [
              "Downloading:   0%|          | 0.00/268M [00:00<?, ?B/s]"
            ],
            "application/vnd.jupyter.widget-view+json": {
              "version_major": 2,
              "version_minor": 0,
              "model_id": "8c2f7224a89e419cb54a059a70c0eb2b"
            }
          },
          "metadata": {}
        },
        {
          "output_type": "stream",
          "name": "stderr",
          "text": [
            "Some weights of the model checkpoint at distilbert-base-uncased were not used when initializing DistilBertForSequenceClassification: ['vocab_projector.weight', 'vocab_layer_norm.bias', 'vocab_projector.bias', 'vocab_transform.bias', 'vocab_transform.weight', 'vocab_layer_norm.weight']\n",
            "- This IS expected if you are initializing DistilBertForSequenceClassification from the checkpoint of a model trained on another task or with another architecture (e.g. initializing a BertForSequenceClassification model from a BertForPreTraining model).\n",
            "- This IS NOT expected if you are initializing DistilBertForSequenceClassification from the checkpoint of a model that you expect to be exactly identical (initializing a BertForSequenceClassification model from a BertForSequenceClassification model).\n",
            "Some weights of DistilBertForSequenceClassification were not initialized from the model checkpoint at distilbert-base-uncased and are newly initialized: ['classifier.weight', 'pre_classifier.weight', 'classifier.bias', 'pre_classifier.bias']\n",
            "You should probably TRAIN this model on a down-stream task to be able to use it for predictions and inference.\n"
          ]
        },
        {
          "output_type": "display_data",
          "data": {
            "text/plain": [
              "Downloading:   0%|          | 0.00/232k [00:00<?, ?B/s]"
            ],
            "application/vnd.jupyter.widget-view+json": {
              "version_major": 2,
              "version_minor": 0,
              "model_id": "5f83e4cf8a09410d9b99097d102dfb16"
            }
          },
          "metadata": {}
        },
        {
          "output_type": "display_data",
          "data": {
            "text/plain": [
              "Downloading:   0%|          | 0.00/28.0 [00:00<?, ?B/s]"
            ],
            "application/vnd.jupyter.widget-view+json": {
              "version_major": 2,
              "version_minor": 0,
              "model_id": "a721bda1ce734bbf91b593605384d574"
            }
          },
          "metadata": {}
        }
      ]
    },
    {
      "cell_type": "code",
      "source": [
        "class MultiLabelDataset(Dataset):\n",
        "    def __init__(self, dataframe, tokenizer, max_len):\n",
        "        self.tokenizer = tokenizer\n",
        "        self.data = dataframe\n",
        "        self.text = dataframe.text\n",
        "        self.targets = self.data.label_ohe\n",
        "        self.max_len = max_len\n",
        "\n",
        "    def __len__(self):\n",
        "        return len(self.text)\n",
        "\n",
        "    def __getitem__(self, index):\n",
        "        text = str(self.text[index])\n",
        "        text = \" \".join(text.split())\n",
        "\n",
        "        inputs = self.tokenizer.encode_plus(\n",
        "            text,\n",
        "            None,\n",
        "            add_special_tokens=True,\n",
        "            max_length=self.max_len,\n",
        "            pad_to_max_length=True,\n",
        "            return_token_type_ids=True\n",
        "        )\n",
        "        ids = inputs['input_ids']\n",
        "        mask = inputs['attention_mask']\n",
        "\n",
        "        return {\n",
        "            'ids': torch.tensor(ids, dtype=torch.long),\n",
        "            'mask': torch.tensor(mask, dtype=torch.long),\n",
        "            'targets': torch.tensor(self.targets[index], dtype=torch.float)\n",
        "        }"
      ],
      "metadata": {
        "id": "zk-6FHgV0jW2"
      },
      "execution_count": 31,
      "outputs": []
    },
    {
      "cell_type": "code",
      "source": [
        "from sklearn.preprocessing import OneHotEncoder\n",
        "OHE = OneHotEncoder()\n",
        "df['label_ohe'] = pd.get_dummies(df['label']).values.tolist()\n",
        "df.head()"
      ],
      "metadata": {
        "colab": {
          "base_uri": "https://localhost:8080/",
          "height": 206
        },
        "id": "BooWJ_JWOKl8",
        "outputId": "c88166c1-f4b9-4195-bcbd-bf70041f7990"
      },
      "execution_count": 32,
      "outputs": [
        {
          "output_type": "execute_result",
          "data": {
            "text/plain": [
              "                                                   text     label  label_enc  \\\n",
              "1821  Shares of Sumitomo Mitsui Financial (SMFG) and...  business          0   \n",
              "1202  Top seed Roger Federer had to save two match p...     sport          3   \n",
              "1933  A shareholder in US phone firm MCI ha taken le...  business          0   \n",
              "1882  An ex chief financial officer at Boeing ha rec...  business          0   \n",
              "1145  Former All Black star Jonah Lomu say he cannot...     sport          3   \n",
              "\n",
              "                                                 text_v        label_ohe  \n",
              "1821  [-0.01975999, 0.019744366, 0.0059153237, 0.058...  [1, 0, 0, 0, 0]  \n",
              "1202  [-0.005381379, 0.052272942, 0.043338053, 0.075...  [0, 0, 0, 1, 0]  \n",
              "1933  [-0.011499132, 0.027149633, 0.012896311, 0.035...  [1, 0, 0, 0, 0]  \n",
              "1882  [0.0006516714, 0.04363947, 0.04305926, 0.01657...  [1, 0, 0, 0, 0]  \n",
              "1145  [0.014847648, 0.041223265, 0.039782353, 0.0845...  [0, 0, 0, 1, 0]  "
            ],
            "text/html": [
              "\n",
              "  <div id=\"df-740ecc62-2dc8-4894-8b45-09c5af3b0444\">\n",
              "    <div class=\"colab-df-container\">\n",
              "      <div>\n",
              "<style scoped>\n",
              "    .dataframe tbody tr th:only-of-type {\n",
              "        vertical-align: middle;\n",
              "    }\n",
              "\n",
              "    .dataframe tbody tr th {\n",
              "        vertical-align: top;\n",
              "    }\n",
              "\n",
              "    .dataframe thead th {\n",
              "        text-align: right;\n",
              "    }\n",
              "</style>\n",
              "<table border=\"1\" class=\"dataframe\">\n",
              "  <thead>\n",
              "    <tr style=\"text-align: right;\">\n",
              "      <th></th>\n",
              "      <th>text</th>\n",
              "      <th>label</th>\n",
              "      <th>label_enc</th>\n",
              "      <th>text_v</th>\n",
              "      <th>label_ohe</th>\n",
              "    </tr>\n",
              "  </thead>\n",
              "  <tbody>\n",
              "    <tr>\n",
              "      <th>1821</th>\n",
              "      <td>Shares of Sumitomo Mitsui Financial (SMFG) and...</td>\n",
              "      <td>business</td>\n",
              "      <td>0</td>\n",
              "      <td>[-0.01975999, 0.019744366, 0.0059153237, 0.058...</td>\n",
              "      <td>[1, 0, 0, 0, 0]</td>\n",
              "    </tr>\n",
              "    <tr>\n",
              "      <th>1202</th>\n",
              "      <td>Top seed Roger Federer had to save two match p...</td>\n",
              "      <td>sport</td>\n",
              "      <td>3</td>\n",
              "      <td>[-0.005381379, 0.052272942, 0.043338053, 0.075...</td>\n",
              "      <td>[0, 0, 0, 1, 0]</td>\n",
              "    </tr>\n",
              "    <tr>\n",
              "      <th>1933</th>\n",
              "      <td>A shareholder in US phone firm MCI ha taken le...</td>\n",
              "      <td>business</td>\n",
              "      <td>0</td>\n",
              "      <td>[-0.011499132, 0.027149633, 0.012896311, 0.035...</td>\n",
              "      <td>[1, 0, 0, 0, 0]</td>\n",
              "    </tr>\n",
              "    <tr>\n",
              "      <th>1882</th>\n",
              "      <td>An ex chief financial officer at Boeing ha rec...</td>\n",
              "      <td>business</td>\n",
              "      <td>0</td>\n",
              "      <td>[0.0006516714, 0.04363947, 0.04305926, 0.01657...</td>\n",
              "      <td>[1, 0, 0, 0, 0]</td>\n",
              "    </tr>\n",
              "    <tr>\n",
              "      <th>1145</th>\n",
              "      <td>Former All Black star Jonah Lomu say he cannot...</td>\n",
              "      <td>sport</td>\n",
              "      <td>3</td>\n",
              "      <td>[0.014847648, 0.041223265, 0.039782353, 0.0845...</td>\n",
              "      <td>[0, 0, 0, 1, 0]</td>\n",
              "    </tr>\n",
              "  </tbody>\n",
              "</table>\n",
              "</div>\n",
              "      <button class=\"colab-df-convert\" onclick=\"convertToInteractive('df-740ecc62-2dc8-4894-8b45-09c5af3b0444')\"\n",
              "              title=\"Convert this dataframe to an interactive table.\"\n",
              "              style=\"display:none;\">\n",
              "        \n",
              "  <svg xmlns=\"http://www.w3.org/2000/svg\" height=\"24px\"viewBox=\"0 0 24 24\"\n",
              "       width=\"24px\">\n",
              "    <path d=\"M0 0h24v24H0V0z\" fill=\"none\"/>\n",
              "    <path d=\"M18.56 5.44l.94 2.06.94-2.06 2.06-.94-2.06-.94-.94-2.06-.94 2.06-2.06.94zm-11 1L8.5 8.5l.94-2.06 2.06-.94-2.06-.94L8.5 2.5l-.94 2.06-2.06.94zm10 10l.94 2.06.94-2.06 2.06-.94-2.06-.94-.94-2.06-.94 2.06-2.06.94z\"/><path d=\"M17.41 7.96l-1.37-1.37c-.4-.4-.92-.59-1.43-.59-.52 0-1.04.2-1.43.59L10.3 9.45l-7.72 7.72c-.78.78-.78 2.05 0 2.83L4 21.41c.39.39.9.59 1.41.59.51 0 1.02-.2 1.41-.59l7.78-7.78 2.81-2.81c.8-.78.8-2.07 0-2.86zM5.41 20L4 18.59l7.72-7.72 1.47 1.35L5.41 20z\"/>\n",
              "  </svg>\n",
              "      </button>\n",
              "      \n",
              "  <style>\n",
              "    .colab-df-container {\n",
              "      display:flex;\n",
              "      flex-wrap:wrap;\n",
              "      gap: 12px;\n",
              "    }\n",
              "\n",
              "    .colab-df-convert {\n",
              "      background-color: #E8F0FE;\n",
              "      border: none;\n",
              "      border-radius: 50%;\n",
              "      cursor: pointer;\n",
              "      display: none;\n",
              "      fill: #1967D2;\n",
              "      height: 32px;\n",
              "      padding: 0 0 0 0;\n",
              "      width: 32px;\n",
              "    }\n",
              "\n",
              "    .colab-df-convert:hover {\n",
              "      background-color: #E2EBFA;\n",
              "      box-shadow: 0px 1px 2px rgba(60, 64, 67, 0.3), 0px 1px 3px 1px rgba(60, 64, 67, 0.15);\n",
              "      fill: #174EA6;\n",
              "    }\n",
              "\n",
              "    [theme=dark] .colab-df-convert {\n",
              "      background-color: #3B4455;\n",
              "      fill: #D2E3FC;\n",
              "    }\n",
              "\n",
              "    [theme=dark] .colab-df-convert:hover {\n",
              "      background-color: #434B5C;\n",
              "      box-shadow: 0px 1px 3px 1px rgba(0, 0, 0, 0.15);\n",
              "      filter: drop-shadow(0px 1px 2px rgba(0, 0, 0, 0.3));\n",
              "      fill: #FFFFFF;\n",
              "    }\n",
              "  </style>\n",
              "\n",
              "      <script>\n",
              "        const buttonEl =\n",
              "          document.querySelector('#df-740ecc62-2dc8-4894-8b45-09c5af3b0444 button.colab-df-convert');\n",
              "        buttonEl.style.display =\n",
              "          google.colab.kernel.accessAllowed ? 'block' : 'none';\n",
              "\n",
              "        async function convertToInteractive(key) {\n",
              "          const element = document.querySelector('#df-740ecc62-2dc8-4894-8b45-09c5af3b0444');\n",
              "          const dataTable =\n",
              "            await google.colab.kernel.invokeFunction('convertToInteractive',\n",
              "                                                     [key], {});\n",
              "          if (!dataTable) return;\n",
              "\n",
              "          const docLinkHtml = 'Like what you see? Visit the ' +\n",
              "            '<a target=\"_blank\" href=https://colab.research.google.com/notebooks/data_table.ipynb>data table notebook</a>'\n",
              "            + ' to learn more about interactive tables.';\n",
              "          element.innerHTML = '';\n",
              "          dataTable['output_type'] = 'display_data';\n",
              "          await google.colab.output.renderOutput(dataTable, element);\n",
              "          const docLink = document.createElement('div');\n",
              "          docLink.innerHTML = docLinkHtml;\n",
              "          element.appendChild(docLink);\n",
              "        }\n",
              "      </script>\n",
              "    </div>\n",
              "  </div>\n",
              "  "
            ]
          },
          "metadata": {},
          "execution_count": 32
        }
      ]
    },
    {
      "cell_type": "markdown",
      "source": [
        "Заново разделим исходный датасет и создадим объекты для подачи в модель для обучения"
      ],
      "metadata": {
        "id": "ghBtU3MOxdjs"
      }
    },
    {
      "cell_type": "code",
      "source": [
        "train_size = 0.8\n",
        "train_data=df[['text', 'label_ohe']].sample(frac=train_size,random_state=200)\n",
        "test_data=df[['text', 'label_ohe']].drop(train_data.index).reset_index(drop=True)\n",
        "train_data = train_data.reset_index(drop=True)\n",
        "\n",
        "\n",
        "print(\"FULL Dataset: {}\".format(df[['text', 'label_ohe']].shape))\n",
        "print(\"TRAIN Dataset: {}\".format(train_data.shape))\n",
        "print(\"TEST Dataset: {}\".format(test_data.shape))\n",
        "\n",
        "training_set = MultiLabelDataset(train_data, tokenizer, MAX_LEN)\n",
        "testing_set = MultiLabelDataset(test_data, tokenizer, MAX_LEN)"
      ],
      "metadata": {
        "colab": {
          "base_uri": "https://localhost:8080/"
        },
        "id": "K-1aZXrsK2e5",
        "outputId": "733bf32d-46f3-461c-9685-0948fa3c58a1"
      },
      "execution_count": 33,
      "outputs": [
        {
          "output_type": "stream",
          "name": "stdout",
          "text": [
            "FULL Dataset: (2231, 2)\n",
            "TRAIN Dataset: (1785, 2)\n",
            "TEST Dataset: (446, 2)\n"
          ]
        }
      ]
    },
    {
      "cell_type": "code",
      "source": [
        "train_params = {'batch_size': TRAIN_BATCH_SIZE,\n",
        "                'shuffle': True,\n",
        "                'num_workers': 0\n",
        "                }\n",
        "\n",
        "test_params = {'batch_size': VALID_BATCH_SIZE,\n",
        "                'shuffle': True,\n",
        "                'num_workers': 0\n",
        "                }\n",
        "\n",
        "training_loader = DataLoader(training_set, **train_params)\n",
        "testing_loader = DataLoader(testing_set, **test_params)"
      ],
      "metadata": {
        "id": "PjVOKF4zLq6v"
      },
      "execution_count": 34,
      "outputs": []
    },
    {
      "cell_type": "code",
      "source": [
        "loss_function = torch.nn.CrossEntropyLoss()\n",
        "optimizer = torch.optim.Adam(params =  model.parameters(), lr=LEARNING_RATE)"
      ],
      "metadata": {
        "id": "0sFhmO9VL7SL"
      },
      "execution_count": 35,
      "outputs": []
    },
    {
      "cell_type": "code",
      "source": [
        "def train_model(epoch):\n",
        "    model.train()\n",
        "    for _, data in enumerate(training_loader, 0):\n",
        "        ids = data['ids'].to(device, dtype = torch.long)\n",
        "        mask = data['mask'].to(device, dtype = torch.long)\n",
        "        targets = data['targets'].to(device, dtype = torch.float)\n",
        "        \n",
        "        outputs = model(ids, mask)\n",
        "\n",
        "        optimizer.zero_grad()\n",
        "        # print(outputs.logits, targets)\n",
        "        loss = loss_function(outputs.logits, targets)\n",
        "        if _%1000==0:\n",
        "            print(f'Epoch: {epoch+1}, Loss:  {loss.item()}')\n",
        "        \n",
        "        optimizer.zero_grad()\n",
        "        loss.backward()\n",
        "        optimizer.step()"
      ],
      "metadata": {
        "id": "ku8A7FcfL9XO"
      },
      "execution_count": 36,
      "outputs": []
    },
    {
      "cell_type": "code",
      "source": [
        "for epoch in range(EPOCHS):\n",
        "    train_model(epoch)"
      ],
      "metadata": {
        "colab": {
          "base_uri": "https://localhost:8080/"
        },
        "id": "b4Hgjdc7L-W5",
        "outputId": "1a298c38-378e-4eab-bfad-af99d46a1df7"
      },
      "execution_count": 42,
      "outputs": [
        {
          "output_type": "stream",
          "name": "stderr",
          "text": [
            "/usr/local/lib/python3.7/dist-packages/transformers/tokenization_utils_base.py:2308: FutureWarning: The `pad_to_max_length` argument is deprecated and will be removed in a future version, use `padding=True` or `padding='longest'` to pad to the longest sequence in the batch, or use `padding='max_length'` to pad to a max length. In this case, you can give a specific length with `max_length` (e.g. `max_length=45`) or leave max_length to None to pad to the maximal input size of the model (e.g. 512 for Bert).\n",
            "  FutureWarning,\n"
          ]
        },
        {
          "output_type": "stream",
          "name": "stdout",
          "text": [
            "Epoch: 1, Loss:  0.008155749179422855\n",
            "Epoch: 2, Loss:  0.007425399497151375\n",
            "Epoch: 3, Loss:  0.006689998786896467\n",
            "Epoch: 4, Loss:  0.006701765116304159\n",
            "Epoch: 5, Loss:  0.006106579210609198\n",
            "Epoch: 6, Loss:  0.00574952457100153\n",
            "Epoch: 7, Loss:  0.005604906938970089\n",
            "Epoch: 8, Loss:  0.005367998033761978\n",
            "Epoch: 9, Loss:  0.0043875593692064285\n",
            "Epoch: 10, Loss:  0.004605561029165983\n",
            "Epoch: 11, Loss:  0.0038425999227911234\n",
            "Epoch: 12, Loss:  0.003906949423253536\n",
            "Epoch: 13, Loss:  0.003332032822072506\n",
            "Epoch: 14, Loss:  0.0034523801878094673\n",
            "Epoch: 15, Loss:  0.003260778496041894\n",
            "Epoch: 16, Loss:  0.003045252524316311\n",
            "Epoch: 17, Loss:  0.002967442385852337\n",
            "Epoch: 18, Loss:  0.0026318752206861973\n",
            "Epoch: 19, Loss:  0.0024729552678763866\n",
            "Epoch: 20, Loss:  0.002591884694993496\n"
          ]
        }
      ]
    },
    {
      "cell_type": "code",
      "source": [
        "def validation(testing_loader):\n",
        "    model.eval()\n",
        "    fin_targets=[]\n",
        "    fin_outputs=[]\n",
        "    with torch.no_grad():\n",
        "        for _, data in enumerate(testing_loader, 0):\n",
        "            ids = data['ids'].to(device, dtype = torch.long)\n",
        "            mask = data['mask'].to(device, dtype = torch.long)\n",
        "            # token_type_ids = data['token_type_ids'].to(device, dtype = torch.long)\n",
        "            targets = data['targets'].to(device, dtype = torch.float)\n",
        "            outputs = model(ids, mask)\n",
        "            fin_targets.extend(targets.cpu().detach().numpy().tolist())\n",
        "            fin_outputs.extend(torch.sigmoid(outputs.logits).cpu().detach().numpy().tolist())\n",
        "    return fin_outputs, fin_targets"
      ],
      "metadata": {
        "id": "FsH975VtEQEP"
      },
      "execution_count": 43,
      "outputs": []
    },
    {
      "cell_type": "code",
      "source": [
        "from sklearn import metrics\n",
        "\n",
        "outputs, targets = validation(testing_loader)\n",
        "outputs = np.array(outputs) >= 0.5\n",
        "accuracy = metrics.accuracy_score(targets, outputs)\n",
        "f1_score = metrics.f1_score(targets, outputs, average='macro')\n",
        "roc_auc = roc_auc_score(targets, outputs, multi_class='ovr')\n",
        "print(f\"Accuracy Score = {accuracy}\")\n",
        "print(f\"F1 Score = {f1_score}\")\n",
        "print(f\"ROC-AUC Score = {roc_auc}\")"
      ],
      "metadata": {
        "colab": {
          "base_uri": "https://localhost:8080/"
        },
        "id": "GjwAhgRS_m-Z",
        "outputId": "38737f16-2085-48e1-f724-c464b1617c35"
      },
      "execution_count": 64,
      "outputs": [
        {
          "output_type": "stream",
          "name": "stderr",
          "text": [
            "/usr/local/lib/python3.7/dist-packages/transformers/tokenization_utils_base.py:2308: FutureWarning: The `pad_to_max_length` argument is deprecated and will be removed in a future version, use `padding=True` or `padding='longest'` to pad to the longest sequence in the batch, or use `padding='max_length'` to pad to a max length. In this case, you can give a specific length with `max_length` (e.g. `max_length=45`) or leave max_length to None to pad to the maximal input size of the model (e.g. 512 for Bert).\n",
            "  FutureWarning,\n"
          ]
        },
        {
          "output_type": "stream",
          "name": "stdout",
          "text": [
            "Accuracy Score = 0.9618834080717489\n",
            "F1 Score = 0.9718267472624611\n",
            "ROC-AUC Score = 0.9862845183984529\n"
          ]
        }
      ]
    },
    {
      "cell_type": "markdown",
      "source": [
        "Как видим предобученная модель BERT на тестовой выборке дает ROC-AUC чуть ниже, чем модель случайного леса, да и учится значительно дольше. Таким образом для предобработанного текста в данной задаче лучше показал себя классический алгоритм случайного леса, чем нейросеть. "
      ],
      "metadata": {
        "id": "BT_r5pnV1chZ"
      }
    }
  ]
}