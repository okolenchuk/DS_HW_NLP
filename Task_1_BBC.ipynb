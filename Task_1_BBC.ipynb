{
  "nbformat": 4,
  "nbformat_minor": 0,
  "metadata": {
    "colab": {
      "provenance": [],
      "collapsed_sections": [],
      "authorship_tag": "ABX9TyMUHXrQsIb7ipcUGshcxm+S",
      "include_colab_link": true
    },
    "kernelspec": {
      "name": "python3",
      "display_name": "Python 3"
    },
    "language_info": {
      "name": "python"
    }
  },
  "cells": [
    {
      "cell_type": "markdown",
      "metadata": {
        "id": "view-in-github",
        "colab_type": "text"
      },
      "source": [
        "<a href=\"https://colab.research.google.com/github/okolenchuk/DS_HW_NLP/blob/main/Task_1_BBC.ipynb\" target=\"_parent\"><img src=\"https://colab.research.google.com/assets/colab-badge.svg\" alt=\"Open In Colab\"/></a>"
      ]
    },
    {
      "cell_type": "markdown",
      "source": [
        "Data import for Google colab"
      ],
      "metadata": {
        "id": "ISS4KFVHDpWD"
      }
    },
    {
      "cell_type": "code",
      "execution_count": null,
      "metadata": {
        "colab": {
          "base_uri": "https://localhost:8080/"
        },
        "id": "Y5UGypN6zKAl",
        "outputId": "9ceb6da9-75dc-4cfc-a34a-1981900c2dcc"
      },
      "outputs": [
        {
          "output_type": "stream",
          "name": "stdout",
          "text": [
            "Mounted at /content/drive\n"
          ]
        }
      ],
      "source": [
        "from google.colab import drive\n",
        "drive.mount('/content/drive')\n",
        "\n",
        "data_path = '/content/drive/MyDrive/bbc'"
      ]
    },
    {
      "cell_type": "markdown",
      "source": [
        "Data import for Kaggle"
      ],
      "metadata": {
        "id": "Ynr5CdNFD12c"
      }
    },
    {
      "cell_type": "code",
      "source": [
        "data_path = '../input/bbc-news'"
      ],
      "metadata": {
        "id": "1Pbu9IsdztQj"
      },
      "execution_count": null,
      "outputs": []
    }
  ]
}